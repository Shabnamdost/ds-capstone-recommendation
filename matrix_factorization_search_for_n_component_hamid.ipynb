{
  "cells": [
    {
      "cell_type": "markdown",
      "metadata": {
        "id": "HIS7FtBxW3QF"
      },
      "source": [
        "# Collaborative Filtering with Matrix Factorization: Searching for Optimum Number of Components\n",
        "---  "
      ]
    },
    {
      "cell_type": "markdown",
      "metadata": {
        "id": "mtRcX-bnW3QH"
      },
      "source": [
        "## Concept\n",
        "(Non-negative) Matrix Factorization (or Approximation) is a model based collaborative filtering technique\n",
        "non-negative ➜ because all elements of the matrix are generally positive or zero\n",
        "matrix factorization ➜ because a large (and sparse) matrix containing all user and rating information is divided into two much smaller matrices/factors\n",
        "\n",
        "In non-negative matrix factorization, we are trying to factorise (separate) the rating matrix into two matrices, for users and for films separately, each of which also has latent features in the hidden axis. The sub-matrices are found so that their product approximates ratings matrix R."
      ]
    },
    {
      "cell_type": "markdown",
      "metadata": {
        "id": "gxW9URIpW3QJ"
      },
      "source": [
        "<!-- <img src=\"nmf.png\" width=\"600\" height=\"400\"> -->"
      ]
    },
    {
      "cell_type": "markdown",
      "metadata": {
        "id": "40xNahunW3QJ"
      },
      "source": [
        "## Your task\n",
        "Complete the NMF worksheet\n",
        "[Course Materials](https://spiced.space/gradient-masala/ds-course/chapters/project_movie_recommender/model_based_cf.html)"
      ]
    },
    {
      "cell_type": "markdown",
      "metadata": {
        "id": "iMm2yTQOW3QK"
      },
      "source": [
        "## Coding"
      ]
    },
    {
      "cell_type": "code",
      "execution_count": null,
      "metadata": {
        "tags": [],
        "id": "e5Muto8yW3QK"
      },
      "outputs": [],
      "source": [
        "# !pip install scikit-surprise"
      ]
    },
    {
      "cell_type": "code",
      "execution_count": null,
      "metadata": {
        "id": "YPAKWXXZW3QL"
      },
      "outputs": [],
      "source": [
        "# from sklearn.model_selection import GridSearchCV\n",
        "\n",
        "# # from surprise import SVD, Dataset, Reader\n",
        "# from surprise.accuracy import rmse"
      ]
    },
    {
      "cell_type": "code",
      "execution_count": null,
      "metadata": {
        "tags": [],
        "id": "5NnX0P7NW3QM"
      },
      "outputs": [],
      "source": [
        "import pandas as pd\n",
        "import numpy as np\n",
        "import seaborn as sns\n",
        "import matplotlib.pyplot as plt\n",
        "from scipy.sparse import csr_matrix\n",
        "from sklearn.decomposition import NMF\n",
        "import pickle"
      ]
    },
    {
      "cell_type": "markdown",
      "metadata": {
        "id": "iBa33uxLW3QM"
      },
      "source": [
        "#### Let's collect some recommendations for a new users that loves Disney Movies!"
      ]
    },
    {
      "cell_type": "markdown",
      "metadata": {
        "id": "wPGkUHWmW3QN"
      },
      "source": [
        "## Non Negative Matrix Factorization for Recommender Systems\n",
        "---\n",
        "\n"
      ]
    },
    {
      "cell_type": "code",
      "execution_count": null,
      "metadata": {
        "tags": [],
        "id": "AYAA8EN4W3QN"
      },
      "outputs": [],
      "source": [
        "ratings = pd.read_csv('/content/capston-project/data/ratings.csv')\n",
        "# movies = pd.read_csv('data/ml-latest-small/movies.csv')"
      ]
    },
    {
      "cell_type": "code",
      "execution_count": null,
      "metadata": {
        "tags": [],
        "id": "iOT3CmSSW3QP"
      },
      "outputs": [],
      "source": [
        "# ratings.movieId.nunique(), movies.movieId.nunique()"
      ]
    },
    {
      "cell_type": "code",
      "execution_count": null,
      "metadata": {
        "tags": [],
        "id": "5UPxmUV1W3QP"
      },
      "outputs": [],
      "source": [
        "# # which movies are in the query?\n",
        "# movies.set_index('movieId').loc[query.keys()]"
      ]
    },
    {
      "cell_type": "markdown",
      "metadata": {
        "id": "yIzFQYliW3QP"
      },
      "source": [
        "---\n",
        "## 1. Model Development"
      ]
    },
    {
      "cell_type": "markdown",
      "metadata": {
        "id": "nHnaWQFDW3QP"
      },
      "source": [
        "### Preprocessing\n",
        "\n",
        "- create a sparse user item matrix"
      ]
    },
    {
      "cell_type": "code",
      "execution_count": null,
      "metadata": {
        "tags": [],
        "id": "RGt2bBRlW3QQ"
      },
      "outputs": [],
      "source": [
        "# A csr_matrix (Compressed Sparse Row matrix) is a type of sparse matrix from the scipy.sparse library that is used to store large, sparse matrices efficiently by only keeping track of non-zero elements.\n",
        "# Initialize a sparse user-item rating matrix\n",
        "# (data, (row_ind, col_ind))\n",
        "# csr_matrix((data, (row_ind, col_ind)), [shape=(M, N)])\n",
        "# where data, row_ind and col_ind satisfy the relationship a[row_ind[k], col_ind[k]] = data[k].\n",
        "\n",
        "R=csr_matrix((ratings['rating'], (ratings['userId'], ratings['movieId'])))"
      ]
    },
    {
      "cell_type": "code",
      "execution_count": null,
      "metadata": {
        "tags": [],
        "id": "Zd5O_SpcW3QR"
      },
      "outputs": [],
      "source": [
        "#"
      ]
    },
    {
      "cell_type": "code",
      "execution_count": null,
      "metadata": {
        "tags": [],
        "colab": {
          "base_uri": "https://localhost:8080/"
        },
        "id": "ATTeRokcW3QR",
        "outputId": "3d67cb74-fbbc-49b8-c909-e6221e5c4ddd"
      },
      "outputs": [
        {
          "output_type": "execute_result",
          "data": {
            "text/plain": [
              "((611, 193610), 118295710, 100836)"
            ]
          },
          "metadata": {},
          "execution_count": 6
        }
      ],
      "source": [
        "# shape, number of enteries, and number of nonzero enteries of R matrix\n",
        "R.shape, R.shape[0] * R.shape[1] , np.count_nonzero(R.toarray())"
      ]
    },
    {
      "cell_type": "code",
      "execution_count": null,
      "metadata": {
        "tags": [],
        "colab": {
          "base_uri": "https://localhost:8080/",
          "height": 478
        },
        "id": "tuSsnm1mW3QR",
        "outputId": "3e4929fd-7855-4a57-9911-3726e0f72b41"
      },
      "outputs": [
        {
          "output_type": "display_data",
          "data": {
            "text/plain": [
              "<Figure size 640x480 with 1 Axes>"
            ],
            "image/png": "[encoded data removed]"
          },
          "metadata": {}
        }
      ],
      "source": [
        "# plotting part of the R matrix\n",
        "import matplotlib.pyplot as plt\n",
        "sns.set_style(\"whitegrid\")\n",
        "plt.spy(R[:10,:10], markersize=5)\n",
        "plt.tick_params(top=True, labeltop=True, bottom=False, labelbottom=False)\n",
        "plt.xlabel(\"movieId\", fontsize=15)\n",
        "plt.ylabel(\"userId\", fontsize=15)\n",
        "\n",
        "plt.title(\"Sparsity Pattern of csr_matrix\")\n",
        "plt.show()"
      ]
    },
    {
      "cell_type": "markdown",
      "metadata": {
        "id": "HXLb8zMxW3QS"
      },
      "source": [
        "### Training and Finding the Optimized Hyperparameters\n",
        "\n",
        "- initialize the model\n",
        "- fit it on the user item matrix\n",
        "- optionally, tune the number of components (hidden features): what happens if you set the number of components to a really low number?\n",
        "- decrease the `tol` to train for a longer time"
      ]
    },
    {
      "cell_type": "code",
      "source": [
        "n_components = [i for i in range(100, 310, 10)]\n",
        "n_components"
      ],
      "metadata": {
        "colab": {
          "base_uri": "https://localhost:8080/"
        },
        "id": "vnIyN3ba7Qn4",
        "outputId": "ab957b33-3c35-434d-a8aa-0b12f8fc8db5"
      },
      "execution_count": null,
      "outputs": [
        {
          "output_type": "execute_result",
          "data": {
            "text/plain": [
              "[100,\n",
              " 110,\n",
              " 120,\n",
              " 130,\n",
              " 140,\n",
              " 150,\n",
              " 160,\n",
              " 170,\n",
              " 180,\n",
              " 190,\n",
              " 200,\n",
              " 210,\n",
              " 220,\n",
              " 230,\n",
              " 240,\n",
              " 250,\n",
              " 260,\n",
              " 270,\n",
              " 280,\n",
              " 290,\n",
              " 300]"
            ]
          },
          "metadata": {},
          "execution_count": 15
        }
      ]
    },
    {
      "cell_type": "code",
      "execution_count": null,
      "metadata": {
        "tags": [],
        "colab": {
          "base_uri": "https://localhost:8080/"
        },
        "id": "EM4uZYUyW3QT",
        "outputId": "75a63ef6-ea83-495a-83a7-b454b2f1ae1a"
      },
      "outputs": [
        {
          "output_type": "stream",
          "name": "stdout",
          "text": [
            "n_component = 100\n",
            "violation: 1.0\n",
            "violation: 0.22394353639761616\n",
            "violation: 0.14280002259226235\n",
            "violation: 0.10816534389767045\n",
            "violation: 0.08091823037336392\n",
            "violation: 0.06388788738437587\n",
            "violation: 0.051027531931159775\n",
            "violation: 0.04125560301046326\n",
            "violation: 0.03441227202998602\n",
            "violation: 0.02943911750133972\n",
            "violation: 0.025676360614217335\n",
            "violation: 0.02245654017107039\n",
            "violation: 0.01955857637354803\n",
            "violation: 0.01751648618513464\n",
            "violation: 0.01614032093876985\n",
            "violation: 0.015360275587121894\n",
            "violation: 0.015056786902790713\n",
            "violation: 0.014978555005241586\n",
            "violation: 0.014665723599995064\n",
            "violation: 0.014019447790432354\n",
            "violation: 0.013232504241267859\n",
            "violation: 0.01246226608854099\n",
            "violation: 0.011539050260875561\n",
            "violation: 0.010422781913424462\n",
            "violation: 0.009368661993693909\n",
            "Converged at iteration 26\n",
            "n_component = 110\n",
            "violation: 1.0\n",
            "violation: 0.21081659681789655\n",
            "violation: 0.12859868803880087\n",
            "violation: 0.09496036544387915\n",
            "violation: 0.0739527380581909\n",
            "violation: 0.05904385266937122\n",
            "violation: 0.04969193171925595\n",
            "violation: 0.04382819406195202\n",
            "violation: 0.03916479937289542\n",
            "violation: 0.034979582519196306\n",
            "violation: 0.030159581077931156\n",
            "violation: 0.024405571933255498\n",
            "violation: 0.019115639573429242\n",
            "violation: 0.01531236717841521\n",
            "violation: 0.012997422831522162\n",
            "violation: 0.01157222613862894\n",
            "violation: 0.01063057383715598\n",
            "violation: 0.009908407604943464\n",
            "Converged at iteration 19\n",
            "n_component = 120\n",
            "violation: 1.0\n",
            "violation: 0.19818210314590778\n",
            "violation: 0.1212304655250969\n",
            "violation: 0.09029373712789132\n",
            "violation: 0.07178808952454045\n",
            "violation: 0.05775688446877653\n",
            "violation: 0.04732844257335248\n",
            "violation: 0.03936085714223356\n",
            "violation: 0.03247854323956155\n",
            "violation: 0.027165549508259793\n",
            "violation: 0.0230062450130042\n",
            "violation: 0.02006789058930295\n",
            "violation: 0.01808395546940668\n",
            "violation: 0.016224701639036734\n",
            "violation: 0.014302682521377208\n",
            "violation: 0.012503047419494078\n",
            "violation: 0.011095219216192855\n",
            "violation: 0.010014162587782358\n",
            "violation: 0.009159625616826225\n",
            "Converged at iteration 20\n",
            "n_component = 130\n",
            "violation: 1.0\n",
            "violation: 0.18600365239723518\n",
            "violation: 0.11790319882357464\n",
            "violation: 0.08372180111470678\n",
            "violation: 0.06253469751460061\n",
            "violation: 0.05002459805351807\n",
            "violation: 0.04225501462928519\n",
            "violation: 0.03502398557360057\n",
            "violation: 0.029201244533063674\n",
            "violation: 0.025361479073173154\n",
            "violation: 0.02286407850327749\n",
            "violation: 0.020837267167177657\n",
            "violation: 0.01837026520529103\n",
            "violation: 0.01581440281726235\n",
            "violation: 0.013416386959334673\n",
            "violation: 0.01151678612845821\n",
            "violation: 0.010307325767853613\n",
            "violation: 0.009327446456420746\n",
            "Converged at iteration 19\n",
            "n_component = 140\n",
            "violation: 1.0\n",
            "violation: 0.17655367412353384\n",
            "violation: 0.11260331033803586\n",
            "violation: 0.08004801473981232\n",
            "violation: 0.05966681569805522\n",
            "violation: 0.044493035936110384\n",
            "violation: 0.03415692960706003\n",
            "violation: 0.026976827645938818\n",
            "violation: 0.02235281573317244\n",
            "violation: 0.019243951051318497\n",
            "violation: 0.01689412971065431\n",
            "violation: 0.015106028564878943\n",
            "violation: 0.013368509221735573\n",
            "violation: 0.011274154189358726\n",
            "violation: 0.009327931326352774\n",
            "Converged at iteration 16\n",
            "n_component = 150\n",
            "violation: 1.0\n",
            "violation: 0.16612923969700782\n",
            "violation: 0.10969251648352185\n",
            "violation: 0.07510605941238889\n",
            "violation: 0.054110669105684656\n",
            "violation: 0.04140805475800879\n",
            "violation: 0.0320412291057512\n",
            "violation: 0.025605937009208154\n",
            "violation: 0.022159101123388078\n",
            "violation: 0.02028240006776047\n",
            "violation: 0.018058095708085843\n",
            "violation: 0.015152904065091016\n",
            "violation: 0.012451018278123093\n",
            "violation: 0.01040637498237813\n",
            "violation: 0.009113287317128672\n",
            "Converged at iteration 16\n",
            "n_component = 160\n",
            "violation: 1.0\n",
            "violation: 0.1593687357169428\n",
            "violation: 0.10431174365624361\n",
            "violation: 0.07355667718057729\n",
            "violation: 0.05241784178731074\n",
            "violation: 0.03874954809712284\n",
            "violation: 0.030065599121421902\n",
            "violation: 0.02413926282431998\n",
            "violation: 0.019738006654962982\n",
            "violation: 0.0165082111186462\n",
            "violation: 0.013783085213492018\n",
            "violation: 0.011907284406687422\n",
            "violation: 0.01070774246387945\n",
            "violation: 0.009782733795256363\n",
            "Converged at iteration 15\n",
            "n_component = 170\n",
            "violation: 1.0\n",
            "violation: 0.1547835403046616\n",
            "violation: 0.10065004515674704\n",
            "violation: 0.06771159133300148\n",
            "violation: 0.04926246143172563\n",
            "violation: 0.03849765713347339\n",
            "violation: 0.03153907495194364\n",
            "violation: 0.0269797263586366\n",
            "violation: 0.02293195300251655\n",
            "violation: 0.01888251656936357\n",
            "violation: 0.015404235799803639\n",
            "violation: 0.012593398188341917\n",
            "violation: 0.010377865207098763\n",
            "violation: 0.008794772104135644\n",
            "Converged at iteration 15\n",
            "n_component = 180\n",
            "violation: 1.0\n",
            "violation: 0.1459548317492047\n",
            "violation: 0.09584793799370873\n",
            "violation: 0.06441264499371611\n",
            "violation: 0.046041145945281164\n",
            "violation: 0.03473161981304319\n",
            "violation: 0.028006273037122324\n",
            "violation: 0.02309206079397275\n",
            "violation: 0.01870345603316467\n",
            "violation: 0.015130517926432835\n",
            "violation: 0.012384344330854702\n",
            "violation: 0.010149226042894827\n",
            "violation: 0.008644707746715224\n",
            "Converged at iteration 14\n",
            "n_component = 190\n",
            "violation: 1.0\n",
            "violation: 0.13946211176694595\n",
            "violation: 0.09498495661991865\n",
            "violation: 0.06420914889843599\n",
            "violation: 0.045287960078701596\n",
            "violation: 0.03394819736725678\n",
            "violation: 0.02612043116509486\n",
            "violation: 0.02081108119801918\n",
            "violation: 0.017240173797083026\n",
            "violation: 0.01478534306851968\n",
            "violation: 0.012672386805033228\n",
            "violation: 0.010954843885338315\n",
            "violation: 0.009755811146391544\n",
            "Converged at iteration 14\n",
            "n_component = 200\n",
            "violation: 1.0\n",
            "violation: 0.13414528091087685\n",
            "violation: 0.09081164865541268\n",
            "violation: 0.06140503928190398\n",
            "violation: 0.04259873175433278\n",
            "violation: 0.03117742167941844\n",
            "violation: 0.024314984673963883\n",
            "violation: 0.020052830198953923\n",
            "violation: 0.0167564967803357\n",
            "violation: 0.013889477250974898\n",
            "violation: 0.011672691198779837\n",
            "violation: 0.00975711331325013\n",
            "Converged at iteration 13\n",
            "n_component = 210\n",
            "violation: 1.0\n",
            "violation: 0.12773478382746126\n",
            "violation: 0.09059716920758082\n",
            "violation: 0.05919851861763551\n",
            "violation: 0.04050754050954637\n",
            "violation: 0.030296069649169633\n",
            "violation: 0.024106340849914046\n",
            "violation: 0.019780620501892485\n",
            "violation: 0.016877123379486547\n",
            "violation: 0.014467236820905558\n",
            "violation: 0.0125170743032399\n",
            "violation: 0.010629443253210035\n",
            "violation: 0.009045187283917667\n",
            "Converged at iteration 14\n",
            "n_component = 220\n",
            "violation: 1.0\n",
            "violation: 0.12260684599871584\n",
            "violation: 0.08740189565108501\n",
            "violation: 0.05663459537377269\n",
            "violation: 0.0397930763767905\n",
            "violation: 0.029455018598087874\n",
            "violation: 0.023421467250875214\n",
            "violation: 0.019179363286986068\n",
            "violation: 0.01581005887077825\n",
            "violation: 0.012940007687272688\n",
            "violation: 0.010408711460620624\n",
            "violation: 0.008629620710590136\n",
            "Converged at iteration 13\n",
            "n_component = 230\n",
            "violation: 1.0\n",
            "violation: 0.11833473530817465\n",
            "violation: 0.08525256568029958\n",
            "violation: 0.05347963585452287\n",
            "violation: 0.035770652237017\n",
            "violation: 0.027019367036778978\n",
            "violation: 0.02150617627167945\n",
            "violation: 0.018173134718325663\n",
            "violation: 0.01569875947111682\n",
            "violation: 0.013344450347167905\n",
            "violation: 0.011441349277999882\n",
            "violation: 0.00984976843292217\n",
            "Converged at iteration 13\n",
            "n_component = 240\n",
            "violation: 1.0\n",
            "violation: 0.11341285626155799\n",
            "violation: 0.0828046091505973\n",
            "violation: 0.05271424991261217\n",
            "violation: 0.036747266601326635\n",
            "violation: 0.026808576994123454\n",
            "violation: 0.020736001981814616\n",
            "violation: 0.016712650587999037\n",
            "violation: 0.014083353770622807\n",
            "violation: 0.012212079837175626\n",
            "violation: 0.01055959778217494\n",
            "violation: 0.009156524666030995\n",
            "Converged at iteration 13\n",
            "n_component = 250\n",
            "violation: 1.0\n",
            "violation: 0.11210242015882016\n",
            "violation: 0.08132717675848677\n",
            "violation: 0.051211276510234195\n",
            "violation: 0.03534292323067784\n",
            "violation: 0.02560927684163781\n",
            "violation: 0.019763357585569918\n",
            "violation: 0.01621096548861294\n",
            "violation: 0.01355149498942369\n",
            "violation: 0.01108576979152664\n",
            "violation: 0.00926826658452322\n",
            "Converged at iteration 12\n",
            "n_component = 260\n",
            "violation: 1.0\n",
            "violation: 0.108814789701299\n",
            "violation: 0.07999951729765217\n",
            "violation: 0.04841464382709737\n",
            "violation: 0.03212771469041865\n",
            "violation: 0.024505822214134783\n",
            "violation: 0.0202863791866759\n",
            "violation: 0.0178636099914628\n",
            "violation: 0.015837656722384096\n",
            "violation: 0.012959924315836651\n",
            "violation: 0.010185395725228863\n",
            "violation: 0.008442406449301564\n",
            "Converged at iteration 13\n",
            "n_component = 270\n",
            "violation: 1.0\n",
            "violation: 0.10591841060562841\n",
            "violation: 0.07623480006130331\n",
            "violation: 0.04683493596848719\n",
            "violation: 0.03114108607058654\n",
            "violation: 0.022804113563479503\n",
            "violation: 0.018416301741510224\n",
            "violation: 0.015547929550730127\n",
            "violation: 0.013008356614459229\n",
            "violation: 0.010668710173194785\n",
            "violation: 0.008938081541236785\n",
            "Converged at iteration 12\n",
            "n_component = 280\n",
            "violation: 1.0\n",
            "violation: 0.10323841101917168\n",
            "violation: 0.0759227828925756\n",
            "violation: 0.04603642419698205\n",
            "violation: 0.03153455964885713\n",
            "violation: 0.023201955424676728\n",
            "violation: 0.01799123921010143\n",
            "violation: 0.015193905336501527\n",
            "violation: 0.01311161210330279\n",
            "violation: 0.011377049681961116\n",
            "violation: 0.009911268579779945\n",
            "Converged at iteration 12\n",
            "n_component = 290\n",
            "violation: 1.0\n",
            "violation: 0.1010422413032427\n",
            "violation: 0.0734992786049332\n",
            "violation: 0.044521047248816344\n",
            "violation: 0.029207297522710892\n",
            "violation: 0.02078781736762702\n",
            "violation: 0.016409684936332446\n",
            "violation: 0.013679848158886272\n",
            "violation: 0.011290088030127876\n",
            "violation: 0.009319583636289397\n",
            "Converged at iteration 11\n",
            "n_component = 300\n",
            "violation: 1.0\n",
            "violation: 0.09989567378949044\n",
            "violation: 0.07254111805538595\n",
            "violation: 0.04361602756514393\n",
            "violation: 0.028767260208923028\n",
            "violation: 0.021216858641357937\n",
            "violation: 0.017010761993380696\n",
            "violation: 0.013707025101032898\n",
            "violation: 0.010977054736522428\n",
            "violation: 0.008910432811842825\n",
            "Converged at iteration 11\n"
          ]
        }
      ],
      "source": [
        "\n",
        "# defining rmse list\n",
        "rmse_ = []\n",
        "for n_com in n_components:\n",
        "    print(f'n_component = {n_com}')\n",
        "# initialize the unsupervised model\n",
        "\n",
        "# 55 hidden features or factors, F=55\n",
        "    model = NMF(n_components = n_com, init='nndsvd', max_iter=10000, tol=0.01, verbose=1)\n",
        "\n",
        "# fit it to the user-item rating matrix\n",
        "    model.fit(R)\n",
        "    # user-'genre' matrix [611x55]\n",
        "    # P =model.transform(R)\n",
        "\n",
        "# movie-'genre' matrix [55x168253]\n",
        "    # Q = model.components_\n",
        "\n",
        "    # R_hat = model.inverse_transform(model.transform(R))\n",
        "\n",
        "    # reconstruction error\n",
        "    # np.sqrt(np.sum(np.square(R - R_hat)))\n",
        "    rmse_.append(model.reconstruction_err_)\n",
        "# initialzed P, Q matrix with random values\n",
        "# iterate and optimize the values stored in P and Q"
      ]
    },
    {
      "cell_type": "markdown",
      "metadata": {
        "id": "vr8OgzYIW3QT"
      },
      "source": [
        "### Model inspection"
      ]
    },
    {
      "cell_type": "code",
      "execution_count": null,
      "metadata": {
        "tags": [],
        "colab": {
          "base_uri": "https://localhost:8080/"
        },
        "id": "YvZFTjCDW3QU",
        "outputId": "56e60fb6-cbd2-44f7-8120-92bec81a21eb"
      },
      "outputs": [
        {
          "output_type": "execute_result",
          "data": {
            "text/plain": [
              "[658.2351932513068,\n",
              " 641.348096045699,\n",
              " 620.9354117965493,\n",
              " 600.9434236707913,\n",
              " 587.3451839139395,\n",
              " 571.0762703661674,\n",
              " 557.3093060156368,\n",
              " 538.6752557067521,\n",
              " 523.6904888345824,\n",
              " 515.842160913394,\n",
              " 498.2843731128405,\n",
              " 485.1063510294601,\n",
              " 472.3051489364975,\n",
              " 460.96590725276724,\n",
              " 452.0422033843948,\n",
              " 442.0910700976606,\n",
              " 424.75619611723255,\n",
              " 424.90854088473066,\n",
              " 414.60537307889143,\n",
              " 411.3823139514559,\n",
              " 399.886251475886]"
            ]
          },
          "metadata": {},
          "execution_count": 31
        }
      ],
      "source": [
        "rmse_tol_01 = rmse_\n",
        "rmse_tol_01"
      ]
    },
    {
      "cell_type": "code",
      "source": [
        "# rmse_tol_01 = [658.2351932513068,\n",
        "#  641.348096045699,\n",
        "#  620.9354117965493,\n",
        "#  600.9434236707913,\n",
        "#  587.3451839139395,\n",
        "#  571.0762703661674,\n",
        "#  557.3093060156368,\n",
        "#  538.6752557067521,\n",
        "#  523.6904888345824,\n",
        "#  515.842160913394,\n",
        "#  498.2843731128405,\n",
        "#  485.1063510294601,\n",
        "#  472.3051489364975,\n",
        "#  460.96590725276724,\n",
        "#  452.0422033843948,\n",
        "#  442.0910700976606,\n",
        "#  424.75619611723255,\n",
        "#  424.90854088473066,\n",
        "#  414.60537307889143,\n",
        "#  411.3823139514559,\n",
        "#  399.886251475886]"
      ],
      "metadata": {
        "id": "VSAxEEMQarAd"
      },
      "execution_count": null,
      "outputs": []
    },
    {
      "cell_type": "code",
      "execution_count": null,
      "metadata": {
        "tags": [],
        "id": "SWQdp9ugW3QU"
      },
      "outputs": [],
      "source": [
        "# rmse_tol_02 = [663.8693689825453,\n",
        "#  646.8953943791491,\n",
        "#  629.1199973684813,\n",
        "#  608.8937239783711,\n",
        "#  598.2976845071596,\n",
        "#  577.5814944632474,\n",
        "#  569.6786984822061,\n",
        "#  554.054541803524,\n",
        "#  539.1955754781206,\n",
        "#  524.8341012589198,\n",
        "#  516.0439304588818,\n",
        "#  508.02175151251197,\n",
        "#  497.06225942037906,\n",
        "#  486.64485541202885,\n",
        "#  467.7769529314847,\n",
        "#  464.979694006649,\n",
        "#  465.27006741922946,\n",
        "#  454.4148772925512,\n",
        "#  444.4872761758428,\n",
        "#  441.04968082884204]"
      ]
    },
    {
      "cell_type": "code",
      "source": [
        "len(n_components), len(rmse_tol_02)"
      ],
      "metadata": {
        "colab": {
          "base_uri": "https://localhost:8080/"
        },
        "id": "CajuY_N3O7od",
        "outputId": "97bd9ec2-99f5-4992-fdb4-278dc96c5d45"
      },
      "execution_count": null,
      "outputs": [
        {
          "output_type": "execute_result",
          "data": {
            "text/plain": [
              "(21, 20)"
            ]
          },
          "metadata": {},
          "execution_count": 27
        }
      ]
    },
    {
      "cell_type": "code",
      "execution_count": null,
      "metadata": {
        "tags": [],
        "colab": {
          "base_uri": "https://localhost:8080/",
          "height": 607
        },
        "id": "-glG3qPyW3QZ",
        "outputId": "fec95325-62bb-401e-9be3-14d8b4f3fdf4"
      },
      "outputs": [
        {
          "output_type": "display_data",
          "data": {
            "text/plain": [
              "<Figure size 1000x600 with 1 Axes>"
            ],
            "image/png": "[encoded data removed]"
          },
          "metadata": {}
        }
      ],
      "source": [
        "import matplotlib.pyplot as plt\n",
        "import numpy as np\n",
        "\n",
        "# Sample data\n",
        "x = np.linspace(0, 10, 50)  # 50 points from 0 to 10\n",
        "y1 = np.sin(x)              # First line data\n",
        "y2 = np.cos(x)              # Second line data\n",
        "\n",
        "# Create the plot\n",
        "plt.figure(figsize=(10, 6))\n",
        "\n",
        "# Plot first line with customizations\n",
        "plt.plot(n_components, rmse_tol_01, color=\"teal\", linewidth=2, linestyle='-', marker='o', markersize=5, label=\"rmse = 0.01\")\n",
        "\n",
        "# Plot second line with customizations\n",
        "plt.plot(n_components[:-1], rmse_tol_02, color=\"coral\", linewidth=2, linestyle='--', marker='s', markersize=5, label=\"rmse = 0.02\")\n",
        "\n",
        "# Add title and labels\n",
        "plt.title(\"RMSE\", fontsize=16, fontweight='bold')\n",
        "plt.xlabel(\"No of Components\", fontsize=14)\n",
        "plt.ylabel(\"RMSE\", fontsize=14)\n",
        "\n",
        "# Add grid\n",
        "plt.grid(color='gray', linestyle='--', linewidth=0.5, alpha=0.7)\n",
        "\n",
        "# Add legend\n",
        "plt.legend(fontsize=12, loc=\"upper right\")\n",
        "\n",
        "# Optional: Fine-tune the x and y axis limits\n",
        "plt.xlim(60, 300)\n",
        "# plt.ylim(-1.5, 1.5)\n",
        "\n",
        "# Display the plot\n",
        "plt.tight_layout()\n",
        "plt.savefig('NMF_rmse_n_component')\n",
        "plt.show()"
      ]
    }
  ],
  "metadata": {
    "kernelspec": {
      "display_name": "Python 3 (ipykernel)",
      "language": "python",
      "name": "python3"
    },
    "language_info": {
      "codemirror_mode": {
        "name": "ipython",
        "version": 3
      },
      "file_extension": ".py",
      "mimetype": "text/x-python",
      "name": "python",
      "nbconvert_exporter": "python",
      "pygments_lexer": "ipython3",
      "version": "3.11.3"
    },
    "colab": {
      "provenance": []
    }
  },
  "nbformat": 4,
  "nbformat_minor": 0
}