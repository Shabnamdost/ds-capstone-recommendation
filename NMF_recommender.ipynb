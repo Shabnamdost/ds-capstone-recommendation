{
 "cells": [
  {
   "cell_type": "code",
   "execution_count": 1,
   "metadata": {
    "tags": []
   },
   "outputs": [],
   "source": [
    "import pickle \n",
    "import numpy as np\n",
    "import pandas as pd \n",
    "import seaborn as sns\n",
    "import matplotlib.pyplot as plt\n",
    "from scipy.sparse import csr_matrix\n",
    "from sklearn.decomposition import NMF"
   ]
  },
  {
   "cell_type": "code",
   "execution_count": 2,
   "metadata": {},
   "outputs": [],
   "source": [
    "# Here we import all the functions needed for the recommender\n",
    "from scripts.recommenderlib import *"
   ]
  },
  {
   "cell_type": "code",
   "execution_count": 3,
   "metadata": {
    "tags": []
   },
   "outputs": [
    {
     "name": "stdout",
     "output_type": "stream",
     "text": [
      "D:\\hh-ds-24-07\\projects\\ds-capstone-recommendation\n"
     ]
    }
   ],
   "source": [
    "import os\n",
    "print(os.getcwd())"
   ]
  },
  {
   "cell_type": "code",
   "execution_count": 4,
   "metadata": {
    "tags": []
   },
   "outputs": [],
   "source": [
    "ratings = pd.read_csv('data/ml-latest-small/ratings_cleaned.csv')\n",
    "movies = pd.read_csv('data/ml-latest-small/movies_cleaned.csv')\n",
    "links = pd.read_csv('data/ml-latest-small/links_cleaned.csv')"
   ]
  },
  {
   "cell_type": "code",
   "execution_count": null,
   "metadata": {},
   "outputs": [],
   "source": [
    "# movies_links = pd.megre([])"
   ]
  },
  {
   "cell_type": "code",
   "execution_count": 5,
   "metadata": {
    "tags": []
   },
   "outputs": [
    {
     "data": {
      "text/html": [
       "<div>\n",
       "<style scoped>\n",
       "    .dataframe tbody tr th:only-of-type {\n",
       "        vertical-align: middle;\n",
       "    }\n",
       "\n",
       "    .dataframe tbody tr th {\n",
       "        vertical-align: top;\n",
       "    }\n",
       "\n",
       "    .dataframe thead th {\n",
       "        text-align: right;\n",
       "    }\n",
       "</style>\n",
       "<table border=\"1\" class=\"dataframe\">\n",
       "  <thead>\n",
       "    <tr style=\"text-align: right;\">\n",
       "      <th></th>\n",
       "      <th>Unnamed: 0</th>\n",
       "      <th>userId</th>\n",
       "      <th>movieId</th>\n",
       "      <th>rating</th>\n",
       "    </tr>\n",
       "  </thead>\n",
       "  <tbody>\n",
       "    <tr>\n",
       "      <th>0</th>\n",
       "      <td>0</td>\n",
       "      <td>1</td>\n",
       "      <td>0</td>\n",
       "      <td>4.0</td>\n",
       "    </tr>\n",
       "    <tr>\n",
       "      <th>1</th>\n",
       "      <td>1</td>\n",
       "      <td>1</td>\n",
       "      <td>2</td>\n",
       "      <td>4.0</td>\n",
       "    </tr>\n",
       "    <tr>\n",
       "      <th>2</th>\n",
       "      <td>2</td>\n",
       "      <td>1</td>\n",
       "      <td>5</td>\n",
       "      <td>4.0</td>\n",
       "    </tr>\n",
       "    <tr>\n",
       "      <th>3</th>\n",
       "      <td>3</td>\n",
       "      <td>1</td>\n",
       "      <td>43</td>\n",
       "      <td>5.0</td>\n",
       "    </tr>\n",
       "    <tr>\n",
       "      <th>4</th>\n",
       "      <td>4</td>\n",
       "      <td>1</td>\n",
       "      <td>46</td>\n",
       "      <td>5.0</td>\n",
       "    </tr>\n",
       "  </tbody>\n",
       "</table>\n",
       "</div>"
      ],
      "text/plain": [
       "   Unnamed: 0  userId  movieId  rating\n",
       "0           0       1        0     4.0\n",
       "1           1       1        2     4.0\n",
       "2           2       1        5     4.0\n",
       "3           3       1       43     5.0\n",
       "4           4       1       46     5.0"
      ]
     },
     "execution_count": 5,
     "metadata": {},
     "output_type": "execute_result"
    }
   ],
   "source": [
    "ratings.head()"
   ]
  },
  {
   "cell_type": "code",
   "execution_count": 6,
   "metadata": {
    "tags": []
   },
   "outputs": [
    {
     "data": {
      "text/plain": [
       "array([   0,    2,    5, ..., 9342, 9389, 9390], dtype=int64)"
      ]
     },
     "execution_count": 6,
     "metadata": {},
     "output_type": "execute_result"
    }
   ],
   "source": [
    "ratings.movieId.unique()"
   ]
  },
  {
   "cell_type": "code",
   "execution_count": 7,
   "metadata": {
    "tags": []
   },
   "outputs": [
    {
     "name": "stdout",
     "output_type": "stream",
     "text": [
      "<class 'pandas.core.frame.DataFrame'>\n",
      "RangeIndex: 9742 entries, 0 to 9741\n",
      "Data columns (total 5 columns):\n",
      " #   Column       Non-Null Count  Dtype  \n",
      "---  ------       --------------  -----  \n",
      " 0   Unnamed: 0   9742 non-null   int64  \n",
      " 1   movieId      9742 non-null   int64  \n",
      " 2   title        9742 non-null   object \n",
      " 3   genres       9742 non-null   object \n",
      " 4   released_yr  9742 non-null   float64\n",
      "dtypes: float64(1), int64(2), object(2)\n",
      "memory usage: 380.7+ KB\n"
     ]
    }
   ],
   "source": [
    "movies.info()"
   ]
  },
  {
   "cell_type": "markdown",
   "metadata": {},
   "source": [
    "### Initialize a sparse user-item rating matrix"
   ]
  },
  {
   "cell_type": "code",
   "execution_count": 8,
   "metadata": {
    "tags": []
   },
   "outputs": [
    {
     "data": {
      "text/html": [
       "<div>\n",
       "<style scoped>\n",
       "    .dataframe tbody tr th:only-of-type {\n",
       "        vertical-align: middle;\n",
       "    }\n",
       "\n",
       "    .dataframe tbody tr th {\n",
       "        vertical-align: top;\n",
       "    }\n",
       "\n",
       "    .dataframe thead th {\n",
       "        text-align: right;\n",
       "    }\n",
       "</style>\n",
       "<table border=\"1\" class=\"dataframe\">\n",
       "  <thead>\n",
       "    <tr style=\"text-align: right;\">\n",
       "      <th></th>\n",
       "      <th>Unnamed: 0</th>\n",
       "      <th>userId</th>\n",
       "      <th>movieId</th>\n",
       "      <th>rating</th>\n",
       "    </tr>\n",
       "  </thead>\n",
       "  <tbody>\n",
       "    <tr>\n",
       "      <th>0</th>\n",
       "      <td>0</td>\n",
       "      <td>1</td>\n",
       "      <td>0</td>\n",
       "      <td>4.0</td>\n",
       "    </tr>\n",
       "    <tr>\n",
       "      <th>1</th>\n",
       "      <td>1</td>\n",
       "      <td>1</td>\n",
       "      <td>2</td>\n",
       "      <td>4.0</td>\n",
       "    </tr>\n",
       "    <tr>\n",
       "      <th>2</th>\n",
       "      <td>2</td>\n",
       "      <td>1</td>\n",
       "      <td>5</td>\n",
       "      <td>4.0</td>\n",
       "    </tr>\n",
       "    <tr>\n",
       "      <th>3</th>\n",
       "      <td>3</td>\n",
       "      <td>1</td>\n",
       "      <td>43</td>\n",
       "      <td>5.0</td>\n",
       "    </tr>\n",
       "    <tr>\n",
       "      <th>4</th>\n",
       "      <td>4</td>\n",
       "      <td>1</td>\n",
       "      <td>46</td>\n",
       "      <td>5.0</td>\n",
       "    </tr>\n",
       "  </tbody>\n",
       "</table>\n",
       "</div>"
      ],
      "text/plain": [
       "   Unnamed: 0  userId  movieId  rating\n",
       "0           0       1        0     4.0\n",
       "1           1       1        2     4.0\n",
       "2           2       1        5     4.0\n",
       "3           3       1       43     5.0\n",
       "4           4       1       46     5.0"
      ]
     },
     "execution_count": 8,
     "metadata": {},
     "output_type": "execute_result"
    }
   ],
   "source": [
    "ratings.head()"
   ]
  },
  {
   "cell_type": "code",
   "execution_count": 9,
   "metadata": {
    "tags": []
   },
   "outputs": [
    {
     "data": {
      "text/plain": [
       "<Compressed Sparse Row sparse matrix of dtype 'float64'\n",
       "\twith 100836 stored elements and shape (611, 9742)>"
      ]
     },
     "execution_count": 9,
     "metadata": {},
     "output_type": "execute_result"
    }
   ],
   "source": [
    "# (data, (row_ind, col_ind))\n",
    "R = csr_matrix((ratings[\"rating\"], (ratings[\"userId\"], ratings[\"movieId\"])))\n",
    "R"
   ]
  },
  {
   "cell_type": "code",
   "execution_count": 10,
   "metadata": {
    "tags": []
   },
   "outputs": [
    {
     "data": {
      "text/html": [
       "<div>\n",
       "<style scoped>\n",
       "    .dataframe tbody tr th:only-of-type {\n",
       "        vertical-align: middle;\n",
       "    }\n",
       "\n",
       "    .dataframe tbody tr th {\n",
       "        vertical-align: top;\n",
       "    }\n",
       "\n",
       "    .dataframe thead th {\n",
       "        text-align: right;\n",
       "    }\n",
       "</style>\n",
       "<table border=\"1\" class=\"dataframe\">\n",
       "  <thead>\n",
       "    <tr style=\"text-align: right;\">\n",
       "      <th></th>\n",
       "      <th>0</th>\n",
       "      <th>1</th>\n",
       "      <th>2</th>\n",
       "      <th>3</th>\n",
       "      <th>4</th>\n",
       "      <th>5</th>\n",
       "      <th>6</th>\n",
       "      <th>7</th>\n",
       "      <th>8</th>\n",
       "      <th>9</th>\n",
       "      <th>...</th>\n",
       "      <th>9732</th>\n",
       "      <th>9733</th>\n",
       "      <th>9734</th>\n",
       "      <th>9735</th>\n",
       "      <th>9736</th>\n",
       "      <th>9737</th>\n",
       "      <th>9738</th>\n",
       "      <th>9739</th>\n",
       "      <th>9740</th>\n",
       "      <th>9741</th>\n",
       "    </tr>\n",
       "  </thead>\n",
       "  <tbody>\n",
       "    <tr>\n",
       "      <th>0</th>\n",
       "      <td>0.0</td>\n",
       "      <td>0.0</td>\n",
       "      <td>0.0</td>\n",
       "      <td>0.0</td>\n",
       "      <td>0.0</td>\n",
       "      <td>0.0</td>\n",
       "      <td>0.0</td>\n",
       "      <td>0.0</td>\n",
       "      <td>0.0</td>\n",
       "      <td>0.0</td>\n",
       "      <td>...</td>\n",
       "      <td>0.0</td>\n",
       "      <td>0.0</td>\n",
       "      <td>0.0</td>\n",
       "      <td>0.0</td>\n",
       "      <td>0.0</td>\n",
       "      <td>0.0</td>\n",
       "      <td>0.0</td>\n",
       "      <td>0.0</td>\n",
       "      <td>0.0</td>\n",
       "      <td>0.0</td>\n",
       "    </tr>\n",
       "    <tr>\n",
       "      <th>1</th>\n",
       "      <td>4.0</td>\n",
       "      <td>0.0</td>\n",
       "      <td>4.0</td>\n",
       "      <td>0.0</td>\n",
       "      <td>0.0</td>\n",
       "      <td>4.0</td>\n",
       "      <td>0.0</td>\n",
       "      <td>0.0</td>\n",
       "      <td>0.0</td>\n",
       "      <td>0.0</td>\n",
       "      <td>...</td>\n",
       "      <td>0.0</td>\n",
       "      <td>0.0</td>\n",
       "      <td>0.0</td>\n",
       "      <td>0.0</td>\n",
       "      <td>0.0</td>\n",
       "      <td>0.0</td>\n",
       "      <td>0.0</td>\n",
       "      <td>0.0</td>\n",
       "      <td>0.0</td>\n",
       "      <td>0.0</td>\n",
       "    </tr>\n",
       "    <tr>\n",
       "      <th>2</th>\n",
       "      <td>0.0</td>\n",
       "      <td>0.0</td>\n",
       "      <td>0.0</td>\n",
       "      <td>0.0</td>\n",
       "      <td>0.0</td>\n",
       "      <td>0.0</td>\n",
       "      <td>0.0</td>\n",
       "      <td>0.0</td>\n",
       "      <td>0.0</td>\n",
       "      <td>0.0</td>\n",
       "      <td>...</td>\n",
       "      <td>0.0</td>\n",
       "      <td>0.0</td>\n",
       "      <td>0.0</td>\n",
       "      <td>0.0</td>\n",
       "      <td>0.0</td>\n",
       "      <td>0.0</td>\n",
       "      <td>0.0</td>\n",
       "      <td>0.0</td>\n",
       "      <td>0.0</td>\n",
       "      <td>0.0</td>\n",
       "    </tr>\n",
       "    <tr>\n",
       "      <th>3</th>\n",
       "      <td>0.0</td>\n",
       "      <td>0.0</td>\n",
       "      <td>0.0</td>\n",
       "      <td>0.0</td>\n",
       "      <td>0.0</td>\n",
       "      <td>0.0</td>\n",
       "      <td>0.0</td>\n",
       "      <td>0.0</td>\n",
       "      <td>0.0</td>\n",
       "      <td>0.0</td>\n",
       "      <td>...</td>\n",
       "      <td>0.0</td>\n",
       "      <td>0.0</td>\n",
       "      <td>0.0</td>\n",
       "      <td>0.0</td>\n",
       "      <td>0.0</td>\n",
       "      <td>0.0</td>\n",
       "      <td>0.0</td>\n",
       "      <td>0.0</td>\n",
       "      <td>0.0</td>\n",
       "      <td>0.0</td>\n",
       "    </tr>\n",
       "    <tr>\n",
       "      <th>4</th>\n",
       "      <td>0.0</td>\n",
       "      <td>0.0</td>\n",
       "      <td>0.0</td>\n",
       "      <td>0.0</td>\n",
       "      <td>0.0</td>\n",
       "      <td>0.0</td>\n",
       "      <td>0.0</td>\n",
       "      <td>0.0</td>\n",
       "      <td>0.0</td>\n",
       "      <td>0.0</td>\n",
       "      <td>...</td>\n",
       "      <td>0.0</td>\n",
       "      <td>0.0</td>\n",
       "      <td>0.0</td>\n",
       "      <td>0.0</td>\n",
       "      <td>0.0</td>\n",
       "      <td>0.0</td>\n",
       "      <td>0.0</td>\n",
       "      <td>0.0</td>\n",
       "      <td>0.0</td>\n",
       "      <td>0.0</td>\n",
       "    </tr>\n",
       "    <tr>\n",
       "      <th>...</th>\n",
       "      <td>...</td>\n",
       "      <td>...</td>\n",
       "      <td>...</td>\n",
       "      <td>...</td>\n",
       "      <td>...</td>\n",
       "      <td>...</td>\n",
       "      <td>...</td>\n",
       "      <td>...</td>\n",
       "      <td>...</td>\n",
       "      <td>...</td>\n",
       "      <td>...</td>\n",
       "      <td>...</td>\n",
       "      <td>...</td>\n",
       "      <td>...</td>\n",
       "      <td>...</td>\n",
       "      <td>...</td>\n",
       "      <td>...</td>\n",
       "      <td>...</td>\n",
       "      <td>...</td>\n",
       "      <td>...</td>\n",
       "      <td>...</td>\n",
       "    </tr>\n",
       "    <tr>\n",
       "      <th>606</th>\n",
       "      <td>2.5</td>\n",
       "      <td>0.0</td>\n",
       "      <td>0.0</td>\n",
       "      <td>0.0</td>\n",
       "      <td>0.0</td>\n",
       "      <td>0.0</td>\n",
       "      <td>2.5</td>\n",
       "      <td>0.0</td>\n",
       "      <td>0.0</td>\n",
       "      <td>0.0</td>\n",
       "      <td>...</td>\n",
       "      <td>0.0</td>\n",
       "      <td>0.0</td>\n",
       "      <td>0.0</td>\n",
       "      <td>0.0</td>\n",
       "      <td>0.0</td>\n",
       "      <td>0.0</td>\n",
       "      <td>0.0</td>\n",
       "      <td>0.0</td>\n",
       "      <td>0.0</td>\n",
       "      <td>0.0</td>\n",
       "    </tr>\n",
       "    <tr>\n",
       "      <th>607</th>\n",
       "      <td>4.0</td>\n",
       "      <td>0.0</td>\n",
       "      <td>0.0</td>\n",
       "      <td>0.0</td>\n",
       "      <td>0.0</td>\n",
       "      <td>0.0</td>\n",
       "      <td>0.0</td>\n",
       "      <td>0.0</td>\n",
       "      <td>0.0</td>\n",
       "      <td>0.0</td>\n",
       "      <td>...</td>\n",
       "      <td>0.0</td>\n",
       "      <td>0.0</td>\n",
       "      <td>0.0</td>\n",
       "      <td>0.0</td>\n",
       "      <td>0.0</td>\n",
       "      <td>0.0</td>\n",
       "      <td>0.0</td>\n",
       "      <td>0.0</td>\n",
       "      <td>0.0</td>\n",
       "      <td>0.0</td>\n",
       "    </tr>\n",
       "    <tr>\n",
       "      <th>608</th>\n",
       "      <td>2.5</td>\n",
       "      <td>2.0</td>\n",
       "      <td>2.0</td>\n",
       "      <td>0.0</td>\n",
       "      <td>0.0</td>\n",
       "      <td>0.0</td>\n",
       "      <td>0.0</td>\n",
       "      <td>0.0</td>\n",
       "      <td>0.0</td>\n",
       "      <td>4.0</td>\n",
       "      <td>...</td>\n",
       "      <td>0.0</td>\n",
       "      <td>0.0</td>\n",
       "      <td>0.0</td>\n",
       "      <td>0.0</td>\n",
       "      <td>0.0</td>\n",
       "      <td>0.0</td>\n",
       "      <td>0.0</td>\n",
       "      <td>0.0</td>\n",
       "      <td>0.0</td>\n",
       "      <td>0.0</td>\n",
       "    </tr>\n",
       "    <tr>\n",
       "      <th>609</th>\n",
       "      <td>3.0</td>\n",
       "      <td>0.0</td>\n",
       "      <td>0.0</td>\n",
       "      <td>0.0</td>\n",
       "      <td>0.0</td>\n",
       "      <td>0.0</td>\n",
       "      <td>0.0</td>\n",
       "      <td>0.0</td>\n",
       "      <td>0.0</td>\n",
       "      <td>4.0</td>\n",
       "      <td>...</td>\n",
       "      <td>0.0</td>\n",
       "      <td>0.0</td>\n",
       "      <td>0.0</td>\n",
       "      <td>0.0</td>\n",
       "      <td>0.0</td>\n",
       "      <td>0.0</td>\n",
       "      <td>0.0</td>\n",
       "      <td>0.0</td>\n",
       "      <td>0.0</td>\n",
       "      <td>0.0</td>\n",
       "    </tr>\n",
       "    <tr>\n",
       "      <th>610</th>\n",
       "      <td>5.0</td>\n",
       "      <td>0.0</td>\n",
       "      <td>0.0</td>\n",
       "      <td>0.0</td>\n",
       "      <td>0.0</td>\n",
       "      <td>5.0</td>\n",
       "      <td>0.0</td>\n",
       "      <td>0.0</td>\n",
       "      <td>0.0</td>\n",
       "      <td>0.0</td>\n",
       "      <td>...</td>\n",
       "      <td>0.0</td>\n",
       "      <td>0.0</td>\n",
       "      <td>0.0</td>\n",
       "      <td>0.0</td>\n",
       "      <td>0.0</td>\n",
       "      <td>0.0</td>\n",
       "      <td>0.0</td>\n",
       "      <td>0.0</td>\n",
       "      <td>0.0</td>\n",
       "      <td>0.0</td>\n",
       "    </tr>\n",
       "  </tbody>\n",
       "</table>\n",
       "<p>611 rows × 9742 columns</p>\n",
       "</div>"
      ],
      "text/plain": [
       "     0     1     2     3     4     5     6     7     8     9     ...  9732   \n",
       "0     0.0   0.0   0.0   0.0   0.0   0.0   0.0   0.0   0.0   0.0  ...   0.0  \\\n",
       "1     4.0   0.0   4.0   0.0   0.0   4.0   0.0   0.0   0.0   0.0  ...   0.0   \n",
       "2     0.0   0.0   0.0   0.0   0.0   0.0   0.0   0.0   0.0   0.0  ...   0.0   \n",
       "3     0.0   0.0   0.0   0.0   0.0   0.0   0.0   0.0   0.0   0.0  ...   0.0   \n",
       "4     0.0   0.0   0.0   0.0   0.0   0.0   0.0   0.0   0.0   0.0  ...   0.0   \n",
       "..    ...   ...   ...   ...   ...   ...   ...   ...   ...   ...  ...   ...   \n",
       "606   2.5   0.0   0.0   0.0   0.0   0.0   2.5   0.0   0.0   0.0  ...   0.0   \n",
       "607   4.0   0.0   0.0   0.0   0.0   0.0   0.0   0.0   0.0   0.0  ...   0.0   \n",
       "608   2.5   2.0   2.0   0.0   0.0   0.0   0.0   0.0   0.0   4.0  ...   0.0   \n",
       "609   3.0   0.0   0.0   0.0   0.0   0.0   0.0   0.0   0.0   4.0  ...   0.0   \n",
       "610   5.0   0.0   0.0   0.0   0.0   5.0   0.0   0.0   0.0   0.0  ...   0.0   \n",
       "\n",
       "     9733  9734  9735  9736  9737  9738  9739  9740  9741  \n",
       "0     0.0   0.0   0.0   0.0   0.0   0.0   0.0   0.0   0.0  \n",
       "1     0.0   0.0   0.0   0.0   0.0   0.0   0.0   0.0   0.0  \n",
       "2     0.0   0.0   0.0   0.0   0.0   0.0   0.0   0.0   0.0  \n",
       "3     0.0   0.0   0.0   0.0   0.0   0.0   0.0   0.0   0.0  \n",
       "4     0.0   0.0   0.0   0.0   0.0   0.0   0.0   0.0   0.0  \n",
       "..    ...   ...   ...   ...   ...   ...   ...   ...   ...  \n",
       "606   0.0   0.0   0.0   0.0   0.0   0.0   0.0   0.0   0.0  \n",
       "607   0.0   0.0   0.0   0.0   0.0   0.0   0.0   0.0   0.0  \n",
       "608   0.0   0.0   0.0   0.0   0.0   0.0   0.0   0.0   0.0  \n",
       "609   0.0   0.0   0.0   0.0   0.0   0.0   0.0   0.0   0.0  \n",
       "610   0.0   0.0   0.0   0.0   0.0   0.0   0.0   0.0   0.0  \n",
       "\n",
       "[611 rows x 9742 columns]"
      ]
     },
     "execution_count": 10,
     "metadata": {},
     "output_type": "execute_result"
    }
   ],
   "source": [
    "df_r = pd.DataFrame(R.todense())\n",
    "df_r"
   ]
  },
  {
   "cell_type": "markdown",
   "metadata": {},
   "source": [
    "### Create a model and set the hyperparameters"
   ]
  },
  {
   "cell_type": "code",
   "execution_count": null,
   "metadata": {},
   "outputs": [],
   "source": [
    "import os\n",
    "# Create the directory if it doesn't exist\n",
    "os.makedirs('./data', exist_ok=True)"
   ]
  },
  {
   "cell_type": "code",
   "execution_count": null,
   "metadata": {
    "tags": []
   },
   "outputs": [],
   "source": [
    "\n",
    "model = NMF(n_components=250, max_iter=1000)\n",
    "\n",
    "model.fit(R)\n",
    "\n",
    "# Save model \n",
    "with open('./model_nmf.pkl', 'wb') as file:\n",
    "    pickle.dump(model, file)"
   ]
  },
  {
   "cell_type": "code",
   "execution_count": 11,
   "metadata": {
    "tags": []
   },
   "outputs": [],
   "source": [
    "# Load model\n",
    "with open('./model_nmf.pkl', 'rb') as file:\n",
    "    model = pickle.load(file)"
   ]
  },
  {
   "cell_type": "code",
   "execution_count": 12,
   "metadata": {
    "tags": []
   },
   "outputs": [
    {
     "data": {
      "text/plain": [
       "409.6605777307307"
      ]
     },
     "execution_count": 12,
     "metadata": {},
     "output_type": "execute_result"
    }
   ],
   "source": [
    "model.reconstruction_err_"
   ]
  },
  {
   "cell_type": "markdown",
   "metadata": {},
   "source": [
    "## Recommender function"
   ]
  },
  {
   "cell_type": "markdown",
   "metadata": {},
   "source": [
    "### Skip over the following code, still needs refinement"
   ]
  },
  {
   "cell_type": "code",
   "execution_count": 13,
   "metadata": {
    "tags": []
   },
   "outputs": [],
   "source": [
    "def recommender_nmf(query, model_name, df_ratings, df_movies, df_links, k):\n",
    "\n",
    "    # Create user vector\n",
    "    df_new_user = pd.DataFrame(query, columns=df_movies[\"movieId\"], index=[\"new_user\"])\n",
    "    df_new_user_modified = df_new_user.fillna(0)\n",
    "\n",
    "    # call in the model_load\n",
    "    model = load_model(model_name)\n",
    "\n",
    "    # Create user-feature matrix P for new user\n",
    "    P_new_user_matrix = model.transform(df_new_user_modified)\n",
    "\n",
    "    # New dataframe \n",
    "    P_new_user = pd.DataFrame(\n",
    "        P_new_user_matrix,\n",
    "        columns=model.get_feature_names_out(),\n",
    "        index=[\"new_user\"],\n",
    "    )\n",
    "\n",
    "    # Reconstruct user-movie matrix/dataframe for new user\n",
    "    Q_matrix = model.components_\n",
    "    Q = pd.DataFrame(Q_matrix)\n",
    "    R_hat_new_user_matrix = np.dot(P_new_user, Q)\n",
    "    R_hat_new_user = pd.DataFrame(R_hat_new_user_matrix, index=[\"new_user\"])\n",
    "\n",
    "    ranked = R_hat_new_user.T.sort_values(\"new_user\", ascending=False)\n",
    "    recommended = ranked[~ranked.index.isin(query)].reset_index()\n",
    "    recommended.columns = [\"movieid\", \"score\"]\n",
    "\n",
    "    # Get movie ids and corresponding titles the same order\n",
    "    movie_ids = recommended.iloc[:k][\"movieid\"]\n",
    "    # titles = [df_movies.loc[id][\"title\"] for id in movie_ids]\n",
    "    \n",
    "    recommendations = df_movies[df_movies.movieId.isin(movie_ids)]\n",
    "\n",
    "    # getting the poster images and saving them in a directory \n",
    "    api_key = '32963fd453f575aa44262db989d926d6'\n",
    "    image_paths = get_movie_posters(df_links.tmdbId.loc[recommendations.movieId], api_key)\n",
    "    \n",
    "    return recommendations, image_paths"
   ]
  },
  {
   "cell_type": "code",
   "execution_count": 4,
   "metadata": {
    "tags": []
   },
   "outputs": [],
   "source": []
  },
  {
   "cell_type": "code",
   "execution_count": 6,
   "metadata": {
    "tags": []
   },
   "outputs": [
    {
     "data": {
      "text/html": [
       "<div>\n",
       "<style scoped>\n",
       "    .dataframe tbody tr th:only-of-type {\n",
       "        vertical-align: middle;\n",
       "    }\n",
       "\n",
       "    .dataframe tbody tr th {\n",
       "        vertical-align: top;\n",
       "    }\n",
       "\n",
       "    .dataframe thead th {\n",
       "        text-align: right;\n",
       "    }\n",
       "</style>\n",
       "<table border=\"1\" class=\"dataframe\">\n",
       "  <thead>\n",
       "    <tr style=\"text-align: right;\">\n",
       "      <th></th>\n",
       "      <th>Unnamed: 0</th>\n",
       "      <th>movieId</th>\n",
       "      <th>title</th>\n",
       "      <th>genres</th>\n",
       "      <th>released_yr</th>\n",
       "    </tr>\n",
       "  </thead>\n",
       "  <tbody>\n",
       "    <tr>\n",
       "      <th>0</th>\n",
       "      <td>0</td>\n",
       "      <td>0</td>\n",
       "      <td>Toy Story</td>\n",
       "      <td>['Adventure', 'Animation', 'Children', 'Comedy...</td>\n",
       "      <td>1995.0</td>\n",
       "    </tr>\n",
       "    <tr>\n",
       "      <th>224</th>\n",
       "      <td>224</td>\n",
       "      <td>224</td>\n",
       "      <td>Star Wars: Episode IV - A New Hope</td>\n",
       "      <td>['Action', 'Adventure', 'Sci-Fi']</td>\n",
       "      <td>1977.0</td>\n",
       "    </tr>\n",
       "    <tr>\n",
       "      <th>510</th>\n",
       "      <td>510</td>\n",
       "      <td>510</td>\n",
       "      <td>Silence of the Lambs, The</td>\n",
       "      <td>['Crime', 'Horror', 'Thriller']</td>\n",
       "      <td>1991.0</td>\n",
       "    </tr>\n",
       "    <tr>\n",
       "      <th>514</th>\n",
       "      <td>514</td>\n",
       "      <td>514</td>\n",
       "      <td>Pretty Woman</td>\n",
       "      <td>['Comedy', 'Romance']</td>\n",
       "      <td>1990.0</td>\n",
       "    </tr>\n",
       "    <tr>\n",
       "      <th>546</th>\n",
       "      <td>546</td>\n",
       "      <td>546</td>\n",
       "      <td>Mission: Impossible</td>\n",
       "      <td>['Action', 'Adventure', 'Mystery', 'Thriller']</td>\n",
       "      <td>1996.0</td>\n",
       "    </tr>\n",
       "    <tr>\n",
       "      <th>615</th>\n",
       "      <td>615</td>\n",
       "      <td>615</td>\n",
       "      <td>Independence Day (a.k.a. ID4)</td>\n",
       "      <td>['Action', 'Adventure', 'Sci-Fi', 'Thriller']</td>\n",
       "      <td>1996.0</td>\n",
       "    </tr>\n",
       "    <tr>\n",
       "      <th>622</th>\n",
       "      <td>622</td>\n",
       "      <td>622</td>\n",
       "      <td>Nutty Professor, The</td>\n",
       "      <td>['Comedy', 'Fantasy', 'Romance', 'Sci-Fi']</td>\n",
       "      <td>1996.0</td>\n",
       "    </tr>\n",
       "    <tr>\n",
       "      <th>815</th>\n",
       "      <td>815</td>\n",
       "      <td>815</td>\n",
       "      <td>Willy Wonka &amp; the Chocolate Factory</td>\n",
       "      <td>['Children', 'Comedy', 'Fantasy', 'Musical']</td>\n",
       "      <td>1971.0</td>\n",
       "    </tr>\n",
       "    <tr>\n",
       "      <th>911</th>\n",
       "      <td>911</td>\n",
       "      <td>911</td>\n",
       "      <td>Star Wars: Episode VI - Return of the Jedi</td>\n",
       "      <td>['Action', 'Adventure', 'Sci-Fi']</td>\n",
       "      <td>1983.0</td>\n",
       "    </tr>\n",
       "    <tr>\n",
       "      <th>1073</th>\n",
       "      <td>1073</td>\n",
       "      <td>1073</td>\n",
       "      <td>Jerry Maguire</td>\n",
       "      <td>['Drama', 'Romance']</td>\n",
       "      <td>1996.0</td>\n",
       "    </tr>\n",
       "  </tbody>\n",
       "</table>\n",
       "</div>"
      ],
      "text/plain": [
       "      Unnamed: 0  movieId                                        title   \n",
       "0              0        0                                   Toy Story   \\\n",
       "224          224      224          Star Wars: Episode IV - A New Hope    \n",
       "510          510      510                   Silence of the Lambs, The    \n",
       "514          514      514                                Pretty Woman    \n",
       "546          546      546                         Mission: Impossible    \n",
       "615          615      615               Independence Day (a.k.a. ID4)    \n",
       "622          622      622                        Nutty Professor, The    \n",
       "815          815      815         Willy Wonka & the Chocolate Factory    \n",
       "911          911      911  Star Wars: Episode VI - Return of the Jedi    \n",
       "1073        1073     1073                               Jerry Maguire    \n",
       "\n",
       "                                                 genres  released_yr  \n",
       "0     ['Adventure', 'Animation', 'Children', 'Comedy...       1995.0  \n",
       "224                   ['Action', 'Adventure', 'Sci-Fi']       1977.0  \n",
       "510                     ['Crime', 'Horror', 'Thriller']       1991.0  \n",
       "514                               ['Comedy', 'Romance']       1990.0  \n",
       "546      ['Action', 'Adventure', 'Mystery', 'Thriller']       1996.0  \n",
       "615       ['Action', 'Adventure', 'Sci-Fi', 'Thriller']       1996.0  \n",
       "622          ['Comedy', 'Fantasy', 'Romance', 'Sci-Fi']       1996.0  \n",
       "815        ['Children', 'Comedy', 'Fantasy', 'Musical']       1971.0  \n",
       "911                   ['Action', 'Adventure', 'Sci-Fi']       1983.0  \n",
       "1073                               ['Drama', 'Romance']       1996.0  "
      ]
     },
     "execution_count": 6,
     "metadata": {},
     "output_type": "execute_result"
    }
   ],
   "source": [
    "# shabnams ratings based on movies with genre action\n",
    "user_query = {\n",
    "    2: 4.8, \n",
    "    1101: 5,\n",
    "    1370: 4.5,\n",
    "    1515: 4.9,\n",
    "    1580: 5, \n",
    "    1722: 4.5,\n",
    "    1831: 4.7, \n",
    "    1858: 4.2,\n",
    "    62374: 4.5, \n",
    "    67923: 4.6, \n",
    "}\n",
    "\n",
    "model_name = 'NMF'\n",
    "recommendations, image_paths = recommender_nmf(user_query, model_name, ratings, movies, links, k=10)\n",
    "recommendations"
   ]
  },
  {
   "cell_type": "code",
   "execution_count": null,
   "metadata": {
    "tags": []
   },
   "outputs": [],
   "source": [
    "movies.set_index('movieId').loc[movie_id]"
   ]
  },
  {
   "cell_type": "markdown",
   "metadata": {},
   "source": [
    "### Run the codes below"
   ]
  },
  {
   "cell_type": "code",
   "execution_count": null,
   "metadata": {},
   "outputs": [],
   "source": [
    "def recommended_movies(query, model, ratings, movies, k=5):\n",
    "    # Ensure movie_ids from the model match the ratings DataFrame columns\n",
    "    movie_ids = ratings.columns\n",
    "    \n",
    "    # Create a user vector with 0s for all movies the user hasn't rated\n",
    "    new_user_row = pd.Series(0, index=movie_ids)\n",
    "    \n",
    "    # Fill in the ratings from the query\n",
    "    for movie_id, rating in query.items():\n",
    "        if movie_id in movie_ids:\n",
    "            new_user_row[movie_id] = rating\n",
    "\n",
    "    # Reshape the row to create a single-row matrix for the model\n",
    "    new_user_matrix = new_user_row.values.reshape(1, -1)\n",
    "\n",
    "    # Transform the user vector using the NMF model to get the user-feature matrix P\n",
    "    P_new_user_matrix = model.transform(new_user_matrix)\n",
    "\n",
    "    # Reconstruct the user-movie matrix for the new user\n",
    "    Q_matrix = model.components_\n",
    "    R_hat_new_user_matrix = np.dot(P_new_user_matrix, Q_matrix)\n",
    "\n",
    "    # Create a DataFrame for predicted scores\n",
    "    predicted_scores = pd.DataFrame(R_hat_new_user_matrix, columns=movie_ids, index=[\"new_user\"])\n",
    "\n",
    "    # Rank movies by predicted scores\n",
    "    ranked = predicted_scores.T.sort_values(\"new_user\", ascending=False)\n",
    "\n",
    "    # Remove movies that the user has already rated\n",
    "    ranked = ranked[~ranked.index.isin(query.keys())]\n",
    "\n",
    "    # Get top-k recommendations\n",
    "    recommendations = ranked.head(k).reset_index()\n",
    "    recommendations.columns = [\"movie_id\", \"score\"]\n",
    "\n",
    "    # Merge with movie titles\n",
    "    recommendations = recommendations.merge(movies, on=\"movie_id\")\n",
    "\n",
    "    return recommendations[[\"movie_id\", \"title\", \"score\"]]"
   ]
  },
  {
   "cell_type": "code",
   "execution_count": null,
   "metadata": {},
   "outputs": [],
   "source": [
    "# shabnams ratings based on movies with genre action\n",
    "user_query = {\n",
    "    2: 4.8, \n",
    "    1101: 5,\n",
    "    1370: 4.5,\n",
    "    1515: 4.9,\n",
    "    1580: 5,\n",
    "}\n",
    "\n",
    "recommended_movies(user_query, model, ratings, movies, k=5)"
   ]
  },
  {
   "cell_type": "code",
   "execution_count": null,
   "metadata": {},
   "outputs": [],
   "source": [
    "# shabnams ratings based on movies with genre action\n",
    "user_query = {\n",
    "    2: 4.8, \n",
    "    1101: 5,\n",
    "    1370: 4.5,\n",
    "    1515: 4.9,\n",
    "    1580: 5, \n",
    "    1722: 4.5,\n",
    "    1831: 4.7, \n",
    "    1858: 4.2,\n",
    "    62374: 4.5, \n",
    "    67923: 4.6, \n",
    "}\n",
    "\n",
    "movie_ids, titles = recommended_movies(user_query, model, ratings, movies, k=10)\n",
    "\n",
    "print(\"Recommended movies:\\n\")\n",
    "for i, title in enumerate(titles):\n",
    "    print(f\"{i+1}. {title}\")\n",
    "    "
   ]
  },
  {
   "cell_type": "markdown",
   "metadata": {},
   "source": [
    "### Build a simple recommender "
   ]
  },
  {
   "cell_type": "code",
   "execution_count": null,
   "metadata": {},
   "outputs": [],
   "source": [
    "def recommend_popular(query, ratings, k=10):\n",
    "    \"\"\"\n",
    "    Function that returns a list of k unseen, most pupular movies.\n",
    "    \"\"\"\n",
    "    # Create a list of movies by popularity\n",
    "    df_popularity = (\n",
    "        ratings.groupby(\"movie_id\")\n",
    "        .agg(mean=(\"rating\", \"mean\"))\n",
    "        .sort_values(\"mean\", ascending=False)\n",
    "        .reset_index()\n",
    "        .copy()\n",
    "    )\n",
    "\n",
    "    # Filter out movie_ids the user has seen (rated)\n",
    "    df_popularity = df_popularity[df_popularity[\"movie_id\"].isin(query)]\n",
    "\n",
    "    return df_popularity[\"movie_id\"].head(k).to_list()"
   ]
  },
  {
   "cell_type": "code",
   "execution_count": null,
   "metadata": {},
   "outputs": [],
   "source": [
    "query = ratings[ratings[\"user_id\"] == 4][[\"movie_id\", \"rating\"]]\n",
    "query = query.set_index(\"movie_id\").to_dict()[\"rating\"]\n",
    "\n",
    "recommened_ids = recommend_popular(query, ratings, k=10)\n",
    "\n",
    "recommended_movies = movies[movies[\"movie_id\"].isin(recommened_ids)]\n",
    "recommended_movies[[\"movie_id\", \"title\"]]"
   ]
  }
 ],
 "metadata": {
  "kernelspec": {
   "display_name": "Python 3 (ipykernel)",
   "language": "python",
   "name": "python3"
  },
  "language_info": {
   "codemirror_mode": {
    "name": "ipython",
    "version": 3
   },
   "file_extension": ".py",
   "mimetype": "text/x-python",
   "name": "python",
   "nbconvert_exporter": "python",
   "pygments_lexer": "ipython3",
   "version": "3.11.3"
  }
 },
 "nbformat": 4,
 "nbformat_minor": 4
}
