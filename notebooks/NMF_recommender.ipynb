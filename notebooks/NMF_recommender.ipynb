{
 "cells": [
  {
   "cell_type": "code",
   "execution_count": null,
   "metadata": {},
   "outputs": [],
   "source": [
    "import pickle \n",
    "import numpy as np\n",
    "import pandas as pd \n",
    "import seaborn as sns\n",
    "import matplotlib.pyplot as plt\n",
    "from scipy.sparse import csr_matrix\n",
    "from sklearn.decomposition import NMF"
   ]
  },
  {
   "cell_type": "code",
   "execution_count": null,
   "metadata": {},
   "outputs": [],
   "source": [
    "import os\n",
    "print(os.getcwd())"
   ]
  },
  {
   "cell_type": "code",
   "execution_count": null,
   "metadata": {},
   "outputs": [],
   "source": [
    "ratings = pd.read_csv(r'C:\\Users\\shabn\\neuefische\\ds-capstone-recommendation\\data\\ml-latest-small\\ratings_modified.csv')\n",
    "movies = pd.read_csv(r'C:\\Users\\shabn\\neuefische\\ds-capstone-recommendation\\data\\ml-latest-small\\movies_modified.csv')"
   ]
  },
  {
   "cell_type": "code",
   "execution_count": null,
   "metadata": {},
   "outputs": [],
   "source": [
    "ratings.info()"
   ]
  },
  {
   "cell_type": "code",
   "execution_count": null,
   "metadata": {},
   "outputs": [],
   "source": [
    "movies.info()"
   ]
  },
  {
   "cell_type": "markdown",
   "metadata": {},
   "source": [
    "### Initialize a sparse user-item rating matrix"
   ]
  },
  {
   "cell_type": "code",
   "execution_count": null,
   "metadata": {},
   "outputs": [],
   "source": [
    "R = csr_matrix((ratings[\"rating\"], (ratings[\"user_id\"], ratings[\"movie_id\"])))\n",
    "R"
   ]
  },
  {
   "cell_type": "code",
   "execution_count": null,
   "metadata": {},
   "outputs": [],
   "source": [
    "df_r = pd.DataFrame(R.todense())\n",
    "df_r"
   ]
  },
  {
   "cell_type": "markdown",
   "metadata": {},
   "source": [
    "### Create a model and set the hyperparameters"
   ]
  },
  {
   "cell_type": "code",
   "execution_count": null,
   "metadata": {},
   "outputs": [],
   "source": [
    "import os\n",
    "# Create the directory if it doesn't exist\n",
    "os.makedirs('./data', exist_ok=True)"
   ]
  },
  {
   "cell_type": "code",
   "execution_count": null,
   "metadata": {},
   "outputs": [],
   "source": [
    "\n",
    "model = NMF(n_components=1000, max_iter=1000)\n",
    "\n",
    "model.fit(R)\n",
    "\n",
    "# Save model \n",
    "with open('./data/model_nmf.pkl', 'wb') as file:\n",
    "    pickle.dump(model, file)\n",
    "\n",
    "# Load model\n",
    "with open('./data/model_nmf.pkl', 'rb') as file:\n",
    "    model = pickle.load(file)"
   ]
  },
  {
   "cell_type": "code",
   "execution_count": null,
   "metadata": {},
   "outputs": [],
   "source": [
    "model.reconstruction_err_"
   ]
  },
  {
   "cell_type": "markdown",
   "metadata": {},
   "source": [
    "## Recommender function"
   ]
  },
  {
   "cell_type": "markdown",
   "metadata": {},
   "source": [
    "### Skip over the following code, still needs refinement"
   ]
  },
  {
   "cell_type": "code",
   "execution_count": null,
   "metadata": {},
   "outputs": [],
   "source": [
    "\n",
    "def recommended_movies(query, model, ratings, movies, k=10):\n",
    "\n",
    "    # Create user vector\n",
    "    df_new_user = pd.DataFrame(query, columns=movies[\"movie_id\"], index=[\"new_user\"])\n",
    "    df_new_user_modified = df_new_user.fillna(0)\n",
    "\n",
    "    # Create user-feature matrix P for new user\n",
    "    P_new_user_matrix = model.transform(df_new_user_modified)\n",
    "\n",
    "    # New dataframe \n",
    "    P_new_user = pd.DataFrame(\n",
    "        P_new_user_matrix,\n",
    "        columns=model.get_feature_names_out(),\n",
    "        index=[\"new_user\"],\n",
    "    )\n",
    "\n",
    "    # Reconstruct user-movie matrix/dataframe for new user\n",
    "    Q_matrix = model.components_\n",
    "    Q = pd.DataFrame(Q_matrix)\n",
    "    R_hat_new_user_matrix = np.dot(P_new_user, Q)\n",
    "    R_hat_new_user = pd.DataFrame(R_hat_new_user_matrix, index=[\"new_user\"])\n",
    "\n",
    "    ranked = R_hat_new_user.T.sort_values(\"new_user\", ascending=False)\n",
    "    recommended = ranked[~ranked.index.isin(query)].reset_index()\n",
    "    recommended.columns = [\"movie_id\", \"score\"]\n",
    "\n",
    "    # Get movie ids and corresponding titles the same order\n",
    "    movie_ids = recommended.iloc[:k][\"movie_id\"]\n",
    "    titles = [movies.loc[id][\"title\"] for id in movie_ids]\n",
    "    return movie_ids, titles\n",
    "\n",
    "    "
   ]
  },
  {
   "cell_type": "code",
   "execution_count": null,
   "metadata": {},
   "outputs": [],
   "source": [
    "# shabnams ratings based on movies with genre action\n",
    "user_query = {\n",
    "    2: 4.8, \n",
    "    1101: 5,\n",
    "    1370: 4.5,\n",
    "    1515: 4.9,\n",
    "    1580: 5, \n",
    "    1722: 4.5,\n",
    "    1831: 4.7, \n",
    "    1858: 4.2,\n",
    "    62374: 4.5, \n",
    "    67923: 4.6, \n",
    "}\n",
    "\n",
    "recommended_movies(user_query, model, ratings, movies, k=10)"
   ]
  },
  {
   "cell_type": "markdown",
   "metadata": {},
   "source": [
    "### Run the codes below"
   ]
  },
  {
   "cell_type": "code",
   "execution_count": null,
   "metadata": {},
   "outputs": [],
   "source": [
    "def recommended_movies(query, model, ratings, movies, k=5):\n",
    "    # Ensure movie_ids from the model match the ratings DataFrame columns\n",
    "    movie_ids = ratings.columns\n",
    "    \n",
    "    # Create a user vector with 0s for all movies the user hasn't rated\n",
    "    new_user_row = pd.Series(0, index=movie_ids)\n",
    "    \n",
    "    # Fill in the ratings from the query\n",
    "    for movie_id, rating in query.items():\n",
    "        if movie_id in movie_ids:\n",
    "            new_user_row[movie_id] = rating\n",
    "\n",
    "    # Reshape the row to create a single-row matrix for the model\n",
    "    new_user_matrix = new_user_row.values.reshape(1, -1)\n",
    "\n",
    "    # Transform the user vector using the NMF model to get the user-feature matrix P\n",
    "    P_new_user_matrix = model.transform(new_user_matrix)\n",
    "\n",
    "    # Reconstruct the user-movie matrix for the new user\n",
    "    Q_matrix = model.components_\n",
    "    R_hat_new_user_matrix = np.dot(P_new_user_matrix, Q_matrix)\n",
    "\n",
    "    # Create a DataFrame for predicted scores\n",
    "    predicted_scores = pd.DataFrame(R_hat_new_user_matrix, columns=movie_ids, index=[\"new_user\"])\n",
    "\n",
    "    # Rank movies by predicted scores\n",
    "    ranked = predicted_scores.T.sort_values(\"new_user\", ascending=False)\n",
    "\n",
    "    # Remove movies that the user has already rated\n",
    "    ranked = ranked[~ranked.index.isin(query.keys())]\n",
    "\n",
    "    # Get top-k recommendations\n",
    "    recommendations = ranked.head(k).reset_index()\n",
    "    recommendations.columns = [\"movie_id\", \"score\"]\n",
    "\n",
    "    # Merge with movie titles\n",
    "    recommendations = recommendations.merge(movies, on=\"movie_id\")\n",
    "\n",
    "    return recommendations[[\"movie_id\", \"title\", \"score\"]]"
   ]
  },
  {
   "cell_type": "code",
   "execution_count": null,
   "metadata": {},
   "outputs": [],
   "source": [
    "# shabnams ratings based on movies with genre action\n",
    "user_query = {\n",
    "    2: 4.8, \n",
    "    1101: 5,\n",
    "    1370: 4.5,\n",
    "    1515: 4.9,\n",
    "    1580: 5,\n",
    "}\n",
    "\n",
    "recommended_movies(user_query, model, ratings, movies, k=5)"
   ]
  },
  {
   "cell_type": "code",
   "execution_count": null,
   "metadata": {},
   "outputs": [],
   "source": [
    "# shabnams ratings based on movies with genre action\n",
    "user_query = {\n",
    "    2: 4.8, \n",
    "    1101: 5,\n",
    "    1370: 4.5,\n",
    "    1515: 4.9,\n",
    "    1580: 5, \n",
    "    1722: 4.5,\n",
    "    1831: 4.7, \n",
    "    1858: 4.2,\n",
    "    62374: 4.5, \n",
    "    67923: 4.6, \n",
    "}\n",
    "\n",
    "movie_ids, titles = recommended_movies(user_query, model, ratings, movies, k=10)\n",
    "\n",
    "print(\"Recommended movies:\\n\")\n",
    "for i, title in enumerate(titles):\n",
    "    print(f\"{i+1}. {title}\")\n",
    "    "
   ]
  },
  {
   "cell_type": "markdown",
   "metadata": {},
   "source": [
    "### Build a simple recommender "
   ]
  },
  {
   "cell_type": "code",
   "execution_count": 49,
   "metadata": {},
   "outputs": [],
   "source": [
    "def recommend_popular(query, ratings, k=10):\n",
    "    \"\"\"\n",
    "    Function that returns a list of k unseen, most pupular movies.\n",
    "    \"\"\"\n",
    "    # Create a list of movies by popularity\n",
    "    df_popularity = (\n",
    "        ratings.groupby(\"movie_id\")\n",
    "        .agg(mean=(\"rating\", \"mean\"))\n",
    "        .sort_values(\"mean\", ascending=False)\n",
    "        .reset_index()\n",
    "        .copy()\n",
    "    )\n",
    "\n",
    "    # Filter out movie_ids the user has seen (rated)\n",
    "    df_popularity = df_popularity[df_popularity[\"movie_id\"].isin(query)]\n",
    "\n",
    "    return df_popularity[\"movie_id\"].head(k).to_list()"
   ]
  },
  {
   "cell_type": "code",
   "execution_count": 52,
   "metadata": {},
   "outputs": [
    {
     "data": {
      "text/html": [
       "<div>\n",
       "<style scoped>\n",
       "    .dataframe tbody tr th:only-of-type {\n",
       "        vertical-align: middle;\n",
       "    }\n",
       "\n",
       "    .dataframe tbody tr th {\n",
       "        vertical-align: top;\n",
       "    }\n",
       "\n",
       "    .dataframe thead th {\n",
       "        text-align: right;\n",
       "    }\n",
       "</style>\n",
       "<table border=\"1\" class=\"dataframe\">\n",
       "  <thead>\n",
       "    <tr style=\"text-align: right;\">\n",
       "      <th></th>\n",
       "      <th>movie_id</th>\n",
       "      <th>title</th>\n",
       "    </tr>\n",
       "  </thead>\n",
       "  <tbody>\n",
       "    <tr>\n",
       "      <th>3</th>\n",
       "      <td>4</td>\n",
       "      <td>Waiting to Exhale (1995)</td>\n",
       "    </tr>\n",
       "    <tr>\n",
       "      <th>6</th>\n",
       "      <td>7</td>\n",
       "      <td>Sabrina (1995)</td>\n",
       "    </tr>\n",
       "    <tr>\n",
       "      <th>14</th>\n",
       "      <td>15</td>\n",
       "      <td>Cutthroat Island (1995)</td>\n",
       "    </tr>\n",
       "    <tr>\n",
       "      <th>22</th>\n",
       "      <td>23</td>\n",
       "      <td>Assassins (1995)</td>\n",
       "    </tr>\n",
       "    <tr>\n",
       "      <th>25</th>\n",
       "      <td>26</td>\n",
       "      <td>Othello (1995)</td>\n",
       "    </tr>\n",
       "    <tr>\n",
       "      <th>32</th>\n",
       "      <td>34</td>\n",
       "      <td>Babe (1995)</td>\n",
       "    </tr>\n",
       "    <tr>\n",
       "      <th>152</th>\n",
       "      <td>180</td>\n",
       "      <td>Mallrats (1995)</td>\n",
       "    </tr>\n",
       "    <tr>\n",
       "      <th>196</th>\n",
       "      <td>230</td>\n",
       "      <td>Dolores Claiborne (1995)</td>\n",
       "    </tr>\n",
       "    <tr>\n",
       "      <th>281</th>\n",
       "      <td>322</td>\n",
       "      <td>Swimming with Sharks (1995)</td>\n",
       "    </tr>\n",
       "  </tbody>\n",
       "</table>\n",
       "</div>"
      ],
      "text/plain": [
       "     movie_id                        title\n",
       "3           4     Waiting to Exhale (1995)\n",
       "6           7               Sabrina (1995)\n",
       "14         15      Cutthroat Island (1995)\n",
       "22         23             Assassins (1995)\n",
       "25         26               Othello (1995)\n",
       "32         34                  Babe (1995)\n",
       "152       180              Mallrats (1995)\n",
       "196       230     Dolores Claiborne (1995)\n",
       "281       322  Swimming with Sharks (1995)"
      ]
     },
     "execution_count": 52,
     "metadata": {},
     "output_type": "execute_result"
    }
   ],
   "source": [
    "query = ratings[ratings[\"user_id\"] == 4][[\"movie_id\", \"rating\"]]\n",
    "query = query.set_index(\"movie_id\").to_dict()[\"rating\"]\n",
    "\n",
    "recommened_ids = recommend_popular(query, ratings, k=10)\n",
    "\n",
    "recommended_movies = movies[movies[\"movie_id\"].isin(recommened_ids)]\n",
    "recommended_movies[[\"movie_id\", \"title\"]]"
   ]
  }
 ],
 "metadata": {
  "kernelspec": {
   "display_name": ".venv",
   "language": "python",
   "name": "python3"
  },
  "language_info": {
   "codemirror_mode": {
    "name": "ipython",
    "version": 3
   },
   "file_extension": ".py",
   "mimetype": "text/x-python",
   "name": "python",
   "nbconvert_exporter": "python",
   "pygments_lexer": "ipython3",
   "version": "3.11.3"
  }
 },
 "nbformat": 4,
 "nbformat_minor": 2
}
