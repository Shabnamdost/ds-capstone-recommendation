{
 "cells": [
  {
   "cell_type": "markdown",
   "metadata": {},
   "source": [
    "# Collaborative Filtering with Matrix Factorization\n",
    "---  "
   ]
  },
  {
   "cell_type": "markdown",
   "metadata": {},
   "source": [
    "## Concept\n",
    "(Non-negative) Matrix Factorization (or Approximation) is a model based collaborative filtering technique\n",
    "non-negative ➜ because all elements of the matrix are generally positive or zero\n",
    "matrix factorization ➜ because a large (and sparse) matrix containing all user and rating information is divided into two much smaller matrices/factors\n",
    "\n",
    "In non-negative matrix factorization, we are trying to factorise (separate) the rating matrix into two matrices, for users and for films separately, each of which also has latent features in the hidden axis. The sub-matrices are found so that their product approximates ratings matrix R."
   ]
  },
  {
   "cell_type": "markdown",
   "metadata": {},
   "source": [
    "<img src=\"nmf.png\" width=\"600\" height=\"400\">"
   ]
  },
  {
   "cell_type": "markdown",
   "metadata": {},
   "source": [
    "## Your task\n",
    "Complete the NMF worksheet\n",
    "[Course Materials](https://spiced.space/gradient-masala/ds-course/chapters/project_movie_recommender/model_based_cf.html)"
   ]
  },
  {
   "cell_type": "markdown",
   "metadata": {},
   "source": [
    "## Coding"
   ]
  },
  {
   "cell_type": "code",
   "execution_count": null,
   "metadata": {},
   "outputs": [],
   "source": [
    "import pandas as pd\n",
    "import numpy as np\n",
    "import seaborn as sns\n",
    "import matplotlib.pyplot as plt\n",
    "from scipy.sparse import csr_matrix\n",
    "from sklearn.decomposition import NMF\n",
    "import pickle"
   ]
  },
  {
   "cell_type": "markdown",
   "metadata": {},
   "source": [
    "#### Let's collect some recommendations for a new users that loves Disney Movies! "
   ]
  },
  {
   "cell_type": "code",
   "execution_count": null,
   "metadata": {},
   "outputs": [],
   "source": [
    "# for calculating recommendations\n",
    "query = {\n",
    "    # movieId, rating\n",
    "    4470:5, \n",
    "    48:5,\n",
    "    594:5,\n",
    "    27619:5,\n",
    "    152081:5,\n",
    "    595:5,\n",
    "    616:5,\n",
    "    1029:5\n",
    "}\n",
    "\n",
    "\n",
    "# for testing the recommender after getting some recommendations\n",
    "relevant_items = [\n",
    "    596, 4016, 1033, 134853, \n",
    "    2018, 588, 364, 26999, 75395, 2085, \n",
    "    1907, 2078, 1032, 177765   \n",
    "]"
   ]
  },
  {
   "cell_type": "markdown",
   "metadata": {},
   "source": [
    "## Non Negative Matrix Factorization for Recommender Systems\n",
    "---\n",
    "\n"
   ]
  },
  {
   "cell_type": "code",
   "execution_count": null,
   "metadata": {},
   "outputs": [],
   "source": [
    "ratings = pd.read_csv('../data/ml-latest-small/ratings.csv')\n",
    "movies = pd.read_csv('../data/ml-latest-small/movies.csv')"
   ]
  },
  {
   "cell_type": "code",
   "execution_count": null,
   "metadata": {},
   "outputs": [],
   "source": [
    "# which movies are in the query?\n",
    "movies.set_index('movieId').loc[query.keys()]"
   ]
  },
  {
   "cell_type": "markdown",
   "metadata": {},
   "source": [
    "---\n",
    "## 1. Model Development"
   ]
  },
  {
   "cell_type": "markdown",
   "metadata": {},
   "source": [
    "### Preprocessing\n",
    "\n",
    "- filter out movies rated by less than 20/ 50 / 100 ... users\n",
    "- filter out movies with an average rating lower than 2\n",
    "- create a sparse user item matrix"
   ]
  },
  {
   "cell_type": "code",
   "execution_count": null,
   "metadata": {},
   "outputs": [],
   "source": [
    "# Check original data\n",
    "ratings"
   ]
  },
  {
   "cell_type": "code",
   "execution_count": null,
   "metadata": {},
   "outputs": [],
   "source": [
    "# calculate the number of ratings per movie\n",
    "rating_per_movie=ratings.groupby('movieId')['userId'].count()\n",
    "rating_per_movie"
   ]
  },
  {
   "cell_type": "code",
   "execution_count": null,
   "metadata": {},
   "outputs": [],
   "source": [
    "# filter for movies with more than 20 ratings and extract the index\n",
    "popular_movie=rating_per_movie.loc[rating_per_movie>20]\n",
    "popular_movie"
   ]
  },
  {
   "cell_type": "code",
   "execution_count": null,
   "metadata": {},
   "outputs": [],
   "source": [
    "# filter the ratings matrix and only keep the popular movies\n",
    "ratings=ratings.set_index('movieId').loc[popular_movie.index]\n",
    "ratings=ratings.reset_index()\n",
    "ratings"
   ]
  },
  {
   "cell_type": "code",
   "execution_count": null,
   "metadata": {},
   "outputs": [],
   "source": [
    "# Initialize a sparse user-item rating matrix \n",
    "# (data, (row_ind, col_ind)\n",
    "R=csr_matrix((ratings['rating'], (ratings['userId'], ratings['movieId'])))"
   ]
  },
  {
   "cell_type": "code",
   "execution_count": null,
   "metadata": {},
   "outputs": [],
   "source": [
    "R"
   ]
  },
  {
   "cell_type": "markdown",
   "metadata": {},
   "source": [
    "### Training\n",
    "\n",
    "- initialize the model\n",
    "- fit it on the user item matrix\n",
    "- optionally, tune the number of components (hidden features): what happens if you set the number of components to a really low number?\n",
    "- decrease the `tol` to train for a longer time"
   ]
  },
  {
   "cell_type": "code",
   "execution_count": null,
   "metadata": {},
   "outputs": [],
   "source": [
    "# initialize the unsupervised model\n",
    "# 55 hidden features, F=55\n",
    "model = NMF(n_components=55, init='nndsvd', max_iter=10000, tol=0.01, verbose=2)\n",
    "\n",
    "# fit it to the user-item rating matrix\n",
    "model.fit(R)\n",
    "\n",
    "# initialzed P, Q matrix with random values\n",
    "# iterate and optimize the values stored in P and Q"
   ]
  },
  {
   "cell_type": "markdown",
   "metadata": {},
   "source": [
    "### Model inspection"
   ]
  },
  {
   "cell_type": "code",
   "execution_count": null,
   "metadata": {},
   "outputs": [],
   "source": [
    "R"
   ]
  },
  {
   "cell_type": "markdown",
   "metadata": {},
   "source": [
    "#### the hidden features"
   ]
  },
  {
   "cell_type": "code",
   "execution_count": null,
   "metadata": {},
   "outputs": [],
   "source": [
    "model.components_.shape"
   ]
  },
  {
   "cell_type": "code",
   "execution_count": null,
   "metadata": {},
   "outputs": [],
   "source": [
    "# user-'genre' matrix [611x55]\n",
    "P =model.transform(R)\n",
    "\n",
    "# movie-'genre' matrix [55x168253]\n",
    "Q = model.components_\n",
    "\n",
    "P.shape, Q.shape"
   ]
  },
  {
   "cell_type": "code",
   "execution_count": null,
   "metadata": {},
   "outputs": [],
   "source": [
    "# user with id 1: sparse format\n",
    "R[1,:]"
   ]
  },
  {
   "cell_type": "code",
   "execution_count": null,
   "metadata": {},
   "outputs": [],
   "source": [
    "# user with id 1: dense embedding\n",
    "P[1,:]"
   ]
  },
  {
   "cell_type": "code",
   "execution_count": null,
   "metadata": {},
   "outputs": [],
   "source": [
    "# dense embedding for movie with id 1\n",
    "Q[:,1]"
   ]
  },
  {
   "cell_type": "code",
   "execution_count": null,
   "metadata": {},
   "outputs": [],
   "source": [
    "# reconstructed matrix Rhat\n",
    "# R_hat = P.dot(Q)"
   ]
  },
  {
   "cell_type": "code",
   "execution_count": null,
   "metadata": {},
   "outputs": [],
   "source": [
    "# R -> encoding -> P -> decoding -> Rhat\n",
    "R_hat = model.inverse_transform(model.transform(R))"
   ]
  },
  {
   "cell_type": "code",
   "execution_count": null,
   "metadata": {},
   "outputs": [],
   "source": [
    "R_hat"
   ]
  },
  {
   "cell_type": "markdown",
   "metadata": {},
   "source": [
    "#### the reconstruction error\n",
    "\n",
    "$$\n",
    "L(R, \\hat{R}) = \\sqrt{\\sum_i\\sum_j(R_{ij}-\\hat{R}_{ij})^2} = \\sqrt{\\sum_i\\sum_j(R_{ij}-PQ_{ij})^2}\n",
    "$$"
   ]
  },
  {
   "cell_type": "code",
   "execution_count": null,
   "metadata": {},
   "outputs": [],
   "source": [
    "R.shape, R_hat.shape"
   ]
  },
  {
   "cell_type": "code",
   "execution_count": null,
   "metadata": {},
   "outputs": [],
   "source": [
    "# reconstruction error\n",
    "np.sqrt(np.sum(np.square(R - R_hat)))"
   ]
  },
  {
   "cell_type": "code",
   "execution_count": null,
   "metadata": {},
   "outputs": [],
   "source": [
    "model.reconstruction_err_"
   ]
  },
  {
   "cell_type": "markdown",
   "metadata": {},
   "source": [
    "---\n",
    "## 2. Model deployment: Make recommendations for a new user"
   ]
  },
  {
   "cell_type": "markdown",
   "metadata": {},
   "source": [
    "### Save the trained model on your hard drive"
   ]
  },
  {
   "cell_type": "code",
   "execution_count": null,
   "metadata": {},
   "outputs": [],
   "source": [
    "with open('./nmf_recommender.pkl', 'wb') as file:\n",
    "    pickle.dump(model, file)"
   ]
  },
  {
   "cell_type": "code",
   "execution_count": null,
   "metadata": {},
   "outputs": [],
   "source": [
    "!ls"
   ]
  },
  {
   "cell_type": "markdown",
   "metadata": {},
   "source": [
    "### Read the model from hard drive"
   ]
  },
  {
   "cell_type": "code",
   "execution_count": null,
   "metadata": {},
   "outputs": [],
   "source": [
    "with open('./nmf_recommender.pkl', 'rb') as file:\n",
    "    model = pickle.load(file)"
   ]
  },
  {
   "cell_type": "code",
   "execution_count": null,
   "metadata": {},
   "outputs": [],
   "source": [
    "model.reconstruction_err_"
   ]
  },
  {
   "cell_type": "markdown",
   "metadata": {},
   "source": [
    "### Receive a user query"
   ]
  },
  {
   "cell_type": "code",
   "execution_count": null,
   "metadata": {},
   "outputs": [],
   "source": [
    "query"
   ]
  },
  {
   "cell_type": "code",
   "execution_count": null,
   "metadata": {},
   "outputs": [],
   "source": [
    "R[1,:]"
   ]
  },
  {
   "cell_type": "markdown",
   "metadata": {},
   "source": [
    "### Construct a user vector\n",
    "\n",
    "we need the same input as was used during training!"
   ]
  },
  {
   "cell_type": "code",
   "execution_count": null,
   "metadata": {},
   "outputs": [],
   "source": [
    "list(query.values())"
   ]
  },
  {
   "cell_type": "code",
   "execution_count": null,
   "metadata": {},
   "outputs": [],
   "source": [
    "data=list(query.values())           # the ratings of the new user\n",
    "row_ind=[0]*len(data)          # we use just a single row 0 for this user\n",
    "col_ind=list(query.keys())  \n",
    "data, row_ind,col_ind                           # the columns (=movieId) of the ratings\n"
   ]
  },
  {
   "cell_type": "code",
   "execution_count": null,
   "metadata": {},
   "outputs": [],
   "source": [
    "# new user vector: needs to have the same format as the training data\n",
    "user_vec=csr_matrix((data, (row_ind, col_ind)), shape=(1, R.shape[1]))\n",
    "user_vec\n"
   ]
  },
  {
   "cell_type": "code",
   "execution_count": null,
   "metadata": {},
   "outputs": [],
   "source": [
    "R"
   ]
  },
  {
   "cell_type": "markdown",
   "metadata": {},
   "source": [
    "### Calculate the score\n",
    "\n",
    "1. transform the user vector to its dense representation (encoding) \n",
    "2. inverse transform the dense vector into the sparse representation (decoding)\n",
    "\n",
    "$$\n",
    "\\hat{r}_{ij} = p_i' \\cdot q_j \n",
    "$$"
   ]
  },
  {
   "cell_type": "code",
   "execution_count": null,
   "metadata": {},
   "outputs": [],
   "source": [
    "# user_vec -> encoding -> p_user_vec -> decoding -> user_vec_hat\n",
    "\n",
    "scores=model.inverse_transform(model.transform(user_vec))\n",
    "\n",
    "\n",
    "# convert to a pandas series\n",
    "scores=pd.Series(scores[0])\n",
    "scores"
   ]
  },
  {
   "cell_type": "markdown",
   "metadata": {},
   "source": [
    "### Give recommendations"
   ]
  },
  {
   "cell_type": "code",
   "execution_count": null,
   "metadata": {},
   "outputs": [],
   "source": [
    "query.keys()"
   ]
  },
  {
   "cell_type": "code",
   "execution_count": null,
   "metadata": {},
   "outputs": [],
   "source": [
    "# give a zero score to movies the user has allready seen\n",
    "scores[query.keys()]=0"
   ]
  },
  {
   "cell_type": "code",
   "execution_count": null,
   "metadata": {},
   "outputs": [],
   "source": [
    "# sort the scores from high to low \n",
    "scores=scores.sort_values(ascending=False)\n",
    "scores"
   ]
  },
  {
   "cell_type": "code",
   "execution_count": null,
   "metadata": {},
   "outputs": [],
   "source": [
    "# get the movieIds of the top 10 entries\n",
    "recommendations=scores.head(10).index\n",
    "recommendations"
   ]
  },
  {
   "cell_type": "code",
   "execution_count": null,
   "metadata": {},
   "outputs": [],
   "source": [
    "movies.set_index('movieId').loc[recommendations]"
   ]
  },
  {
   "cell_type": "markdown",
   "metadata": {},
   "source": [
    "---\n",
    "## 3. Project Task: NMF recommender function\n",
    "\n",
    "1. Collect different user queries for \"typical\" users (e.g. a horror movie buff) and evaluate the algorithm\n",
    "2. Set the number of components to a very low number (e.g. 2). What happens to the recommendations?\n",
    "3. Implement a recommender function that recommends movies to a new user based on the NMF model!\n",
    "\n",
    "Note: Training of the model happens outside of the function! Don't retrain the model every time you want to calculate recommendations for a user.\n"
   ]
  },
  {
   "cell_type": "code",
   "execution_count": null,
   "metadata": {},
   "outputs": [],
   "source": [
    "# collaborative filtering = look at ratings only!\n",
    "def recommend_nmf(query, model, ratings, k=10):\n",
    "    \"\"\"\n",
    "    Filters and recommends the top k movies for any given input query based on a trained NMF model. \n",
    "    Returns a list of k movie ids.\n",
    "    \"\"\"\n",
    "    # 1. candiate generation\n",
    "    \n",
    "    # construct a user vector\n",
    "    \n",
    "   \n",
    "    # 2. scoring\n",
    "    \n",
    "    # calculate the score with the NMF model\n",
    "    \n",
    "    \n",
    "    # 3. ranking\n",
    "    \n",
    "    # filter out movies allready seen by the user\n",
    "    \n",
    "    # return the top-k highst rated movie ids or titles\n",
    "    \n",
    "    return [364, 372, 43, 34, 243]"
   ]
  },
  {
   "cell_type": "code",
   "execution_count": null,
   "metadata": {},
   "outputs": [],
   "source": [
    "# recommender.py\n",
    "# from recommender import recommend_nmf"
   ]
  }
 ],
 "metadata": {
  "kernelspec": {
   "display_name": "Python 3 (ipykernel)",
   "language": "python",
   "name": "python3"
  },
  "language_info": {
   "codemirror_mode": {
    "name": "ipython",
    "version": 3
   },
   "file_extension": ".py",
   "mimetype": "text/x-python",
   "name": "python",
   "nbconvert_exporter": "python",
   "pygments_lexer": "ipython3",
   "version": "3.11.3"
  }
 },
 "nbformat": 4,
 "nbformat_minor": 4
}
