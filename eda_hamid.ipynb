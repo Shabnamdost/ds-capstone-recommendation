{
 "cells": [
  {
   "cell_type": "markdown",
   "id": "d145d3f5",
   "metadata": {},
   "source": [
    "# EDA Process\n",
    "<hr style=\"border:2px solid black\">"
   ]
  },
  {
   "cell_type": "markdown",
   "id": "1f47b9c9-3fc6-4c7b-99fc-a358bbbeae33",
   "metadata": {},
   "source": [
    "- This notebook serves to read and join the tables from different data set.\n",
    "- The reader is expected to run the codes and try to understand the contents of the data files"
   ]
  },
  {
   "cell_type": "code",
   "execution_count": 1,
   "id": "f3159bd9-5b00-4982-8116-dda0118f5a7b",
   "metadata": {},
   "outputs": [],
   "source": [
    "## A tagline is a short description or comment on a movie that is displayed on movie posters (or direct to video covers, etc.) to capture the essence of the movie, and ultimately make you watch the movie."
   ]
  },
  {
   "cell_type": "markdown",
   "id": "80404529-977c-471d-9373-9b806eed5768",
   "metadata": {},
   "source": [
    "#### Ideas for joining the Tables\n",
    "- ???"
   ]
  },
  {
   "cell_type": "markdown",
   "id": "5e60e499",
   "metadata": {},
   "source": [
    "#### load packages"
   ]
  },
  {
   "cell_type": "code",
   "execution_count": 2,
   "id": "1fe9ec85-d895-4eb1-ae62-9850ac71ab12",
   "metadata": {
    "tags": []
   },
   "outputs": [],
   "source": [
    "# !pip install mplcyberpunk"
   ]
  },
  {
   "cell_type": "code",
   "execution_count": 1,
   "id": "9f80539a",
   "metadata": {
    "tags": []
   },
   "outputs": [],
   "source": [
    "import sys\n",
    "\n",
    "import io\n",
    "import matplotlib.pyplot as plt\n",
    "import mplcyberpunk\\\n",
    "# data analysis stack\n",
    "import numpy as np\n",
    "import pandas as pd\n",
    "\n",
    "import time\n",
    "import tkinter as tk\n",
    "\n",
    "\n",
    "# data visualization stack\n",
    "import seaborn as sns\n",
    "import matplotlib.pyplot as plt\n",
    "# import missingno as msno\n",
    "\n",
    "%matplotlib inline\n",
    "# import seaborn as sns\n",
    "# sns.set_style('whitegrid')\n",
    "\n",
    "# for data cleaning\n",
    "from sklearn.impute import KNNImputer\n",
    "\n",
    "\n",
    "# miscellaneous\n",
    "import warnings\n",
    "warnings.filterwarnings(\"ignore\")\n",
    "\n",
    "\n",
    "# Set display\n",
    "pd.set_option('display.max_columns', None)"
   ]
  },
  {
   "cell_type": "markdown",
   "id": "7f6caaf7-2e5f-4195-afea-519950d03199",
   "metadata": {},
   "source": [
    "#### load data, Second data set from\n",
    "https://grouplens.org/datasets/movielens/"
   ]
  },
  {
   "cell_type": "code",
   "execution_count": 40,
   "id": "eed0fc2d-7be9-4cb6-9345-2a114b3e381e",
   "metadata": {
    "tags": []
   },
   "outputs": [],
   "source": [
    "df_ml_32m_rating = pd.read_csv('./data/ml-latest-small/ratings.csv')"
   ]
  },
  {
   "cell_type": "code",
   "execution_count": 54,
   "id": "7a7882ca-1772-4405-a085-9f5a573fa9c9",
   "metadata": {
    "tags": []
   },
   "outputs": [],
   "source": [
    "df_ml_32m_links = pd.read_csv('./data/ml-latest-small/links.csv')"
   ]
  },
  {
   "cell_type": "code",
   "execution_count": 62,
   "id": "de80204e-2aa6-46ed-b8c5-790e15dc5e9e",
   "metadata": {
    "tags": []
   },
   "outputs": [],
   "source": [
    "df_ml_32m_movies = pd.read_csv('./data/ml-latest-small/movies.csv')"
   ]
  },
  {
   "cell_type": "code",
   "execution_count": 12,
   "id": "1684ebff-e0f9-4233-9789-875977e26fc6",
   "metadata": {
    "tags": []
   },
   "outputs": [],
   "source": [
    "# df_ml_32m_tags = pd.read_csv('./data/ml-latest-small/tags.csv')"
   ]
  },
  {
   "cell_type": "markdown",
   "id": "8471dd0c-64d2-4b39-8cf6-d6935b8e9448",
   "metadata": {},
   "source": [
    "#### ***Data Cleaning of Data Sets***\n",
    "***Table Rating***"
   ]
  },
  {
   "cell_type": "code",
   "execution_count": 14,
   "id": "0a88d073-74f0-4698-b6bd-28e279d7e8a8",
   "metadata": {
    "tags": []
   },
   "outputs": [],
   "source": [
    "# df_ml_32m_rating.info()\n",
    "# no missing value found"
   ]
  },
  {
   "cell_type": "code",
   "execution_count": 17,
   "id": "641750f4-3c2b-4fa5-aa0f-51947b98a107",
   "metadata": {
    "tags": []
   },
   "outputs": [],
   "source": [
    "# # here we convert the seconds (in timestamp column) into real time-stamp\n",
    "# from datetime import datetime\n",
    "\n",
    "# # Convert seconds to a datetime object\n",
    "# for i in range(len(df_ml_32m_rating.timestamp)):\n",
    "#     df_ml_32m_rating.loc[i, 'time_stamp'] = datetime.fromtimestamp(df_ml_32m_rating.loc[i, 'timestamp']) "
   ]
  },
  {
   "cell_type": "code",
   "execution_count": 18,
   "id": "97a82b7f-2dd2-42e8-98d6-edac4b94740c",
   "metadata": {
    "tags": []
   },
   "outputs": [],
   "source": [
    "# # now droppingh inplace the old timestamp col and rename the new one \n",
    "# df_ml_32m_rating = df_ml_32m_rating.drop('timestamp', axis = 1, inplace = False)  "
   ]
  },
  {
   "cell_type": "code",
   "execution_count": 43,
   "id": "57876da2-5606-4cf7-a038-f8558b08cf23",
   "metadata": {
    "tags": []
   },
   "outputs": [
    {
     "name": "stdout",
     "output_type": "stream",
     "text": [
      "[     1      2      3 ... 193585 193587 193609]\n"
     ]
    },
    {
     "data": {
      "text/plain": [
       "array([   0,    2,    5, ..., 9342, 9389, 9390], dtype=int64)"
      ]
     },
     "execution_count": 43,
     "metadata": {},
     "output_type": "execute_result"
    }
   ],
   "source": [
    "# unique movieIds\n",
    "movie_ids = df_ml_32m_movies.movieId.unique()\n",
    "print(movie_ids)\n",
    "\n",
    "# Define mapping\n",
    "mapping_dict = {int(j): int(i) for i, j in enumerate(movie_ids)} # i runs over the index and j runs over the enteries (movie_ids)\n",
    "\n",
    "# Apply mapping\n",
    "df_ml_32m_rating.movieId = df_ml_32m_rating.movieId.map(mapping_dict)\n",
    "df_ml_32m_rating.movieId.unique()"
   ]
  },
  {
   "cell_type": "code",
   "execution_count": 45,
   "id": "8cb0f8a3-c451-4f53-92f5-dc6fbb048af7",
   "metadata": {
    "tags": []
   },
   "outputs": [],
   "source": [
    "df_ml_32m_rating = df_ml_32m_rating.drop('timestamp', axis = 1)"
   ]
  },
  {
   "cell_type": "code",
   "execution_count": 73,
   "id": "22d66476-770b-4585-bf01-1e7f32e77892",
   "metadata": {
    "tags": []
   },
   "outputs": [],
   "source": [
    "df_ml_32m_rating.to_csv('./data/ml-latest-small/ratings_cleaned.csv')"
   ]
  },
  {
   "cell_type": "markdown",
   "id": "476aca0f-0681-4b2b-9f66-679e80db4db9",
   "metadata": {},
   "source": [
    "#### ***Data Cleaning of Data Sets***\n",
    "***Table Links***"
   ]
  },
  {
   "cell_type": "code",
   "execution_count": 55,
   "id": "3b7702e9-b176-4d43-9667-ba77e4ce9ddf",
   "metadata": {
    "tags": []
   },
   "outputs": [
    {
     "data": {
      "text/html": [
       "<div>\n",
       "<style scoped>\n",
       "    .dataframe tbody tr th:only-of-type {\n",
       "        vertical-align: middle;\n",
       "    }\n",
       "\n",
       "    .dataframe tbody tr th {\n",
       "        vertical-align: top;\n",
       "    }\n",
       "\n",
       "    .dataframe thead th {\n",
       "        text-align: right;\n",
       "    }\n",
       "</style>\n",
       "<table border=\"1\" class=\"dataframe\">\n",
       "  <thead>\n",
       "    <tr style=\"text-align: right;\">\n",
       "      <th></th>\n",
       "      <th>movieId</th>\n",
       "      <th>imdbId</th>\n",
       "      <th>tmdbId</th>\n",
       "    </tr>\n",
       "  </thead>\n",
       "  <tbody>\n",
       "    <tr>\n",
       "      <th>0</th>\n",
       "      <td>1</td>\n",
       "      <td>114709</td>\n",
       "      <td>862.0</td>\n",
       "    </tr>\n",
       "    <tr>\n",
       "      <th>1</th>\n",
       "      <td>2</td>\n",
       "      <td>113497</td>\n",
       "      <td>8844.0</td>\n",
       "    </tr>\n",
       "    <tr>\n",
       "      <th>2</th>\n",
       "      <td>3</td>\n",
       "      <td>113228</td>\n",
       "      <td>15602.0</td>\n",
       "    </tr>\n",
       "    <tr>\n",
       "      <th>3</th>\n",
       "      <td>4</td>\n",
       "      <td>114885</td>\n",
       "      <td>31357.0</td>\n",
       "    </tr>\n",
       "    <tr>\n",
       "      <th>4</th>\n",
       "      <td>5</td>\n",
       "      <td>113041</td>\n",
       "      <td>11862.0</td>\n",
       "    </tr>\n",
       "  </tbody>\n",
       "</table>\n",
       "</div>"
      ],
      "text/plain": [
       "   movieId  imdbId   tmdbId\n",
       "0        1  114709    862.0\n",
       "1        2  113497   8844.0\n",
       "2        3  113228  15602.0\n",
       "3        4  114885  31357.0\n",
       "4        5  113041  11862.0"
      ]
     },
     "execution_count": 55,
     "metadata": {},
     "output_type": "execute_result"
    }
   ],
   "source": [
    "df_ml_32m_links.head()"
   ]
  },
  {
   "cell_type": "code",
   "execution_count": 56,
   "id": "f1802682-0ec1-4ad3-b554-f3a9730a3c35",
   "metadata": {
    "tags": []
   },
   "outputs": [
    {
     "name": "stdout",
     "output_type": "stream",
     "text": [
      "<class 'pandas.core.frame.DataFrame'>\n",
      "RangeIndex: 9742 entries, 0 to 9741\n",
      "Data columns (total 3 columns):\n",
      " #   Column   Non-Null Count  Dtype  \n",
      "---  ------   --------------  -----  \n",
      " 0   movieId  9742 non-null   int64  \n",
      " 1   imdbId   9742 non-null   int64  \n",
      " 2   tmdbId   9734 non-null   float64\n",
      "dtypes: float64(1), int64(2)\n",
      "memory usage: 228.5 KB\n"
     ]
    }
   ],
   "source": [
    "df_ml_32m_links.info()"
   ]
  },
  {
   "cell_type": "code",
   "execution_count": 57,
   "id": "9d74a651-77a4-45d4-aa7c-aecbf9e5c8ae",
   "metadata": {
    "tags": []
   },
   "outputs": [],
   "source": [
    "# HEre we define a imputation model to impute the table links\n",
    "\n",
    "knn_imputer = KNNImputer()\n",
    "knn_imputer.fit(df_ml_32m_links[['tmdbId']])\n",
    "df_ml_32m_links['tmdbId'] = knn_imputer.transform( df_ml_32m_links[['tmdbId']] ).flatten()"
   ]
  },
  {
   "cell_type": "code",
   "execution_count": 58,
   "id": "9de22b75-6cda-4039-b586-58d0de3abb0b",
   "metadata": {
    "tags": []
   },
   "outputs": [
    {
     "name": "stdout",
     "output_type": "stream",
     "text": [
      "<class 'pandas.core.frame.DataFrame'>\n",
      "RangeIndex: 9742 entries, 0 to 9741\n",
      "Data columns (total 3 columns):\n",
      " #   Column   Non-Null Count  Dtype  \n",
      "---  ------   --------------  -----  \n",
      " 0   movieId  9742 non-null   int64  \n",
      " 1   imdbId   9742 non-null   int64  \n",
      " 2   tmdbId   9742 non-null   float64\n",
      "dtypes: float64(1), int64(2)\n",
      "memory usage: 228.5 KB\n"
     ]
    }
   ],
   "source": [
    "df_ml_32m_links.info()"
   ]
  },
  {
   "cell_type": "code",
   "execution_count": 59,
   "id": "69d12b9c-84bc-4d99-85f1-95c0f95187e5",
   "metadata": {
    "tags": []
   },
   "outputs": [],
   "source": [
    "df_ml_32m_links = df_ml_32m_links.drop('imdbId', axis = 1)"
   ]
  },
  {
   "cell_type": "code",
   "execution_count": 60,
   "id": "3108f570-04dc-44dc-9292-df1261527e17",
   "metadata": {
    "tags": []
   },
   "outputs": [
    {
     "data": {
      "text/plain": [
       "array([   0,    1,    2, ..., 9739, 9740, 9741], dtype=int64)"
      ]
     },
     "execution_count": 60,
     "metadata": {},
     "output_type": "execute_result"
    }
   ],
   "source": [
    "# Apply mapping\n",
    "df_ml_32m_links.movieId = df_ml_32m_links.movieId.map(mapping_dict)\n",
    "df_ml_32m_links.movieId.unique()"
   ]
  },
  {
   "cell_type": "code",
   "execution_count": 72,
   "id": "59d61012-4de2-40f8-b782-a52d9c8998fb",
   "metadata": {
    "tags": []
   },
   "outputs": [],
   "source": [
    "df_ml_32m_links.to_csv('./data/ml-latest-small/links_cleaned.csv')"
   ]
  },
  {
   "cell_type": "markdown",
   "id": "05549ff8-167d-4a5f-b4ec-11b73e68d3d8",
   "metadata": {},
   "source": [
    "#### ***Data Cleaning of Data Sets***\n",
    "***Table Movie***"
   ]
  },
  {
   "cell_type": "code",
   "execution_count": 63,
   "id": "7e7ef78b-45c3-4fd6-aa88-822bd2c61510",
   "metadata": {
    "tags": []
   },
   "outputs": [
    {
     "name": "stdout",
     "output_type": "stream",
     "text": [
      "<class 'pandas.core.frame.DataFrame'>\n",
      "RangeIndex: 9742 entries, 0 to 9741\n",
      "Data columns (total 3 columns):\n",
      " #   Column   Non-Null Count  Dtype \n",
      "---  ------   --------------  ----- \n",
      " 0   movieId  9742 non-null   int64 \n",
      " 1   title    9742 non-null   object\n",
      " 2   genres   9742 non-null   object\n",
      "dtypes: int64(1), object(2)\n",
      "memory usage: 228.5+ KB\n"
     ]
    }
   ],
   "source": [
    "df_ml_32m_movies.info()"
   ]
  },
  {
   "cell_type": "code",
   "execution_count": 64,
   "id": "379ef1b2-d346-4c59-bf03-b031af99f80e",
   "metadata": {
    "tags": []
   },
   "outputs": [
    {
     "data": {
      "text/html": [
       "<div>\n",
       "<style scoped>\n",
       "    .dataframe tbody tr th:only-of-type {\n",
       "        vertical-align: middle;\n",
       "    }\n",
       "\n",
       "    .dataframe tbody tr th {\n",
       "        vertical-align: top;\n",
       "    }\n",
       "\n",
       "    .dataframe thead th {\n",
       "        text-align: right;\n",
       "    }\n",
       "</style>\n",
       "<table border=\"1\" class=\"dataframe\">\n",
       "  <thead>\n",
       "    <tr style=\"text-align: right;\">\n",
       "      <th></th>\n",
       "      <th>movieId</th>\n",
       "      <th>title</th>\n",
       "      <th>genres</th>\n",
       "    </tr>\n",
       "  </thead>\n",
       "  <tbody>\n",
       "    <tr>\n",
       "      <th>0</th>\n",
       "      <td>1</td>\n",
       "      <td>Toy Story (1995)</td>\n",
       "      <td>Adventure|Animation|Children|Comedy|Fantasy</td>\n",
       "    </tr>\n",
       "    <tr>\n",
       "      <th>1</th>\n",
       "      <td>2</td>\n",
       "      <td>Jumanji (1995)</td>\n",
       "      <td>Adventure|Children|Fantasy</td>\n",
       "    </tr>\n",
       "    <tr>\n",
       "      <th>2</th>\n",
       "      <td>3</td>\n",
       "      <td>Grumpier Old Men (1995)</td>\n",
       "      <td>Comedy|Romance</td>\n",
       "    </tr>\n",
       "    <tr>\n",
       "      <th>3</th>\n",
       "      <td>4</td>\n",
       "      <td>Waiting to Exhale (1995)</td>\n",
       "      <td>Comedy|Drama|Romance</td>\n",
       "    </tr>\n",
       "    <tr>\n",
       "      <th>4</th>\n",
       "      <td>5</td>\n",
       "      <td>Father of the Bride Part II (1995)</td>\n",
       "      <td>Comedy</td>\n",
       "    </tr>\n",
       "  </tbody>\n",
       "</table>\n",
       "</div>"
      ],
      "text/plain": [
       "   movieId                               title   \n",
       "0        1                    Toy Story (1995)  \\\n",
       "1        2                      Jumanji (1995)   \n",
       "2        3             Grumpier Old Men (1995)   \n",
       "3        4            Waiting to Exhale (1995)   \n",
       "4        5  Father of the Bride Part II (1995)   \n",
       "\n",
       "                                        genres  \n",
       "0  Adventure|Animation|Children|Comedy|Fantasy  \n",
       "1                   Adventure|Children|Fantasy  \n",
       "2                               Comedy|Romance  \n",
       "3                         Comedy|Drama|Romance  \n",
       "4                                       Comedy  "
      ]
     },
     "execution_count": 64,
     "metadata": {},
     "output_type": "execute_result"
    }
   ],
   "source": [
    "df_ml_32m_movies.head()"
   ]
  },
  {
   "cell_type": "code",
   "execution_count": 65,
   "id": "7b4b96e1-164a-420b-aa89-244baf36faa9",
   "metadata": {
    "tags": []
   },
   "outputs": [
    {
     "data": {
      "text/plain": [
       "['Babylon 5',\n",
       " 'Ready Player One',\n",
       " 'Hyena Road',\n",
       " 'The Adventures of Sherlock Holmes and Doctor Watson',\n",
       " 'Nocturnal Animals',\n",
       " 'Paterson',\n",
       " 'Moonlight',\n",
       " 'The OA',\n",
       " 'Cosmos',\n",
       " 'Maria Bamford: Old Baby',\n",
       " 'Generation Iron 2',\n",
       " 'Black Mirror']"
      ]
     },
     "execution_count": 65,
     "metadata": {},
     "output_type": "execute_result"
    }
   ],
   "source": [
    "# HEre we try to divide a single title column into two columns, title and released year\n",
    "import re\n",
    "\n",
    "movies_no_yr = []\n",
    "for i in range(len(df_ml_32m_movies.title)):\n",
    "\n",
    "# # Sample string\n",
    "    string = df_ml_32m_movies.loc[i, 'title']\n",
    "\n",
    "# # Regular expression pattern to find a 4-digit year\n",
    "    pattern = r'\\b((19|20)\\d{2}\\b)'\n",
    "    # pattern_yr_ps = r'\\b(19|20)\\d{2}\\b'\n",
    "# # Search for the pattern in the string\n",
    "    match = re.search(pattern, string)\n",
    "  \n",
    "\n",
    "    if match:\n",
    "        year = match.group()\n",
    "        df_ml_32m_movies.loc[i, 'released_yr'] = int(year)\n",
    "        df_ml_32m_movies.loc[i, 'title'] = df_ml_32m_movies.loc[i, 'title'].replace(f'({year})','')\n",
    "#     print(\"Year found:\", year)\n",
    "    else:\n",
    "        df_ml_32m_movies.loc[i, 'released_yr'] = 2000\n",
    "        movies_no_yr.append(df_ml_32m_movies.loc[i,'title'])\n",
    "        \n",
    "movies_no_yr"
   ]
  },
  {
   "cell_type": "code",
   "execution_count": 18,
   "id": "59bb34c9-0681-4848-be13-ae0c1c22c753",
   "metadata": {
    "tags": []
   },
   "outputs": [],
   "source": [
    "# df_ml_32m_movies.head()"
   ]
  },
  {
   "cell_type": "code",
   "execution_count": 66,
   "id": "9c9d49cd-d965-4af4-b278-de0a8a0cb9e8",
   "metadata": {
    "tags": []
   },
   "outputs": [],
   "source": [
    "# here we turn the column genres into a column of lists\n",
    "df_ml_32m_movies.genres = df_ml_32m_movies.genres.str.split('|')\n",
    "# now for each row we have alist of genres for each movies"
   ]
  },
  {
   "cell_type": "code",
   "execution_count": 65,
   "id": "15ca7fcd-f06d-4fa9-adb4-be42f14396bc",
   "metadata": {
    "tags": []
   },
   "outputs": [],
   "source": [
    "# df_ml_32m_movies.released_yr.unique()"
   ]
  },
  {
   "cell_type": "code",
   "execution_count": 67,
   "id": "d58eb065-cd70-4dec-8cbd-76ecc9e0c8c6",
   "metadata": {
    "tags": []
   },
   "outputs": [
    {
     "data": {
      "text/html": [
       "<div>\n",
       "<style scoped>\n",
       "    .dataframe tbody tr th:only-of-type {\n",
       "        vertical-align: middle;\n",
       "    }\n",
       "\n",
       "    .dataframe tbody tr th {\n",
       "        vertical-align: top;\n",
       "    }\n",
       "\n",
       "    .dataframe thead th {\n",
       "        text-align: right;\n",
       "    }\n",
       "</style>\n",
       "<table border=\"1\" class=\"dataframe\">\n",
       "  <thead>\n",
       "    <tr style=\"text-align: right;\">\n",
       "      <th></th>\n",
       "      <th>movieId</th>\n",
       "      <th>title</th>\n",
       "      <th>genres</th>\n",
       "      <th>released_yr</th>\n",
       "    </tr>\n",
       "  </thead>\n",
       "  <tbody>\n",
       "    <tr>\n",
       "      <th>0</th>\n",
       "      <td>1</td>\n",
       "      <td>Toy Story</td>\n",
       "      <td>[Adventure, Animation, Children, Comedy, Fantasy]</td>\n",
       "      <td>1995.0</td>\n",
       "    </tr>\n",
       "    <tr>\n",
       "      <th>1</th>\n",
       "      <td>2</td>\n",
       "      <td>Jumanji</td>\n",
       "      <td>[Adventure, Children, Fantasy]</td>\n",
       "      <td>1995.0</td>\n",
       "    </tr>\n",
       "    <tr>\n",
       "      <th>2</th>\n",
       "      <td>3</td>\n",
       "      <td>Grumpier Old Men</td>\n",
       "      <td>[Comedy, Romance]</td>\n",
       "      <td>1995.0</td>\n",
       "    </tr>\n",
       "    <tr>\n",
       "      <th>3</th>\n",
       "      <td>4</td>\n",
       "      <td>Waiting to Exhale</td>\n",
       "      <td>[Comedy, Drama, Romance]</td>\n",
       "      <td>1995.0</td>\n",
       "    </tr>\n",
       "    <tr>\n",
       "      <th>4</th>\n",
       "      <td>5</td>\n",
       "      <td>Father of the Bride Part II</td>\n",
       "      <td>[Comedy]</td>\n",
       "      <td>1995.0</td>\n",
       "    </tr>\n",
       "  </tbody>\n",
       "</table>\n",
       "</div>"
      ],
      "text/plain": [
       "   movieId                         title   \n",
       "0        1                    Toy Story   \\\n",
       "1        2                      Jumanji    \n",
       "2        3             Grumpier Old Men    \n",
       "3        4            Waiting to Exhale    \n",
       "4        5  Father of the Bride Part II    \n",
       "\n",
       "                                              genres  released_yr  \n",
       "0  [Adventure, Animation, Children, Comedy, Fantasy]       1995.0  \n",
       "1                     [Adventure, Children, Fantasy]       1995.0  \n",
       "2                                  [Comedy, Romance]       1995.0  \n",
       "3                           [Comedy, Drama, Romance]       1995.0  \n",
       "4                                           [Comedy]       1995.0  "
      ]
     },
     "execution_count": 67,
     "metadata": {},
     "output_type": "execute_result"
    }
   ],
   "source": [
    "df_ml_32m_movies.head(5)"
   ]
  },
  {
   "cell_type": "code",
   "execution_count": 68,
   "id": "b1092a0c-6372-4ab0-9ad3-2ea40489ebb0",
   "metadata": {
    "tags": []
   },
   "outputs": [
    {
     "data": {
      "text/plain": [
       "array([   0,    1,    2, ..., 9739, 9740, 9741], dtype=int64)"
      ]
     },
     "execution_count": 68,
     "metadata": {},
     "output_type": "execute_result"
    }
   ],
   "source": [
    "# Apply mapping\n",
    "df_ml_32m_movies.movieId = df_ml_32m_movies.movieId.map(mapping_dict)\n",
    "df_ml_32m_movies.movieId.unique()"
   ]
  },
  {
   "cell_type": "code",
   "execution_count": 69,
   "id": "54dace9d-4af1-4670-a345-c1df132cc42d",
   "metadata": {
    "tags": []
   },
   "outputs": [
    {
     "data": {
      "text/html": [
       "<div>\n",
       "<style scoped>\n",
       "    .dataframe tbody tr th:only-of-type {\n",
       "        vertical-align: middle;\n",
       "    }\n",
       "\n",
       "    .dataframe tbody tr th {\n",
       "        vertical-align: top;\n",
       "    }\n",
       "\n",
       "    .dataframe thead th {\n",
       "        text-align: right;\n",
       "    }\n",
       "</style>\n",
       "<table border=\"1\" class=\"dataframe\">\n",
       "  <thead>\n",
       "    <tr style=\"text-align: right;\">\n",
       "      <th></th>\n",
       "      <th>movieId</th>\n",
       "      <th>title</th>\n",
       "      <th>genres</th>\n",
       "      <th>released_yr</th>\n",
       "    </tr>\n",
       "  </thead>\n",
       "  <tbody>\n",
       "    <tr>\n",
       "      <th>0</th>\n",
       "      <td>0</td>\n",
       "      <td>Toy Story</td>\n",
       "      <td>[Adventure, Animation, Children, Comedy, Fantasy]</td>\n",
       "      <td>1995.0</td>\n",
       "    </tr>\n",
       "    <tr>\n",
       "      <th>1</th>\n",
       "      <td>1</td>\n",
       "      <td>Jumanji</td>\n",
       "      <td>[Adventure, Children, Fantasy]</td>\n",
       "      <td>1995.0</td>\n",
       "    </tr>\n",
       "    <tr>\n",
       "      <th>2</th>\n",
       "      <td>2</td>\n",
       "      <td>Grumpier Old Men</td>\n",
       "      <td>[Comedy, Romance]</td>\n",
       "      <td>1995.0</td>\n",
       "    </tr>\n",
       "    <tr>\n",
       "      <th>3</th>\n",
       "      <td>3</td>\n",
       "      <td>Waiting to Exhale</td>\n",
       "      <td>[Comedy, Drama, Romance]</td>\n",
       "      <td>1995.0</td>\n",
       "    </tr>\n",
       "    <tr>\n",
       "      <th>4</th>\n",
       "      <td>4</td>\n",
       "      <td>Father of the Bride Part II</td>\n",
       "      <td>[Comedy]</td>\n",
       "      <td>1995.0</td>\n",
       "    </tr>\n",
       "  </tbody>\n",
       "</table>\n",
       "</div>"
      ],
      "text/plain": [
       "   movieId                         title   \n",
       "0        0                    Toy Story   \\\n",
       "1        1                      Jumanji    \n",
       "2        2             Grumpier Old Men    \n",
       "3        3            Waiting to Exhale    \n",
       "4        4  Father of the Bride Part II    \n",
       "\n",
       "                                              genres  released_yr  \n",
       "0  [Adventure, Animation, Children, Comedy, Fantasy]       1995.0  \n",
       "1                     [Adventure, Children, Fantasy]       1995.0  \n",
       "2                                  [Comedy, Romance]       1995.0  \n",
       "3                           [Comedy, Drama, Romance]       1995.0  \n",
       "4                                           [Comedy]       1995.0  "
      ]
     },
     "execution_count": 69,
     "metadata": {},
     "output_type": "execute_result"
    }
   ],
   "source": [
    "df_ml_32m_movies.head(5)"
   ]
  },
  {
   "cell_type": "code",
   "execution_count": 70,
   "id": "e255dc18-29ee-4d7c-87ff-6577d5bbea97",
   "metadata": {
    "tags": []
   },
   "outputs": [],
   "source": [
    "# saving movie data set to a csv file\n",
    "\n",
    "df_ml_32m_movies.to_csv('./data/ml-latest-small/movies_cleaned.csv')"
   ]
  },
  {
   "cell_type": "markdown",
   "id": "27c96a3f-e0d8-4c23-8d72-74d681d1f2f7",
   "metadata": {},
   "source": [
    "#### ***Data Cleaning of Data Sets***\n",
    "***Table Tags***"
   ]
  },
  {
   "cell_type": "code",
   "execution_count": 18,
   "id": "c1013456-e6c9-468b-b772-a6869ef75295",
   "metadata": {
    "tags": []
   },
   "outputs": [],
   "source": [
    "# # Here wes use drop the rows with simmilar values for userID and movieId for tag table\n",
    "# df_ml_32m_tags_temp = df_ml_32m_tags.drop_duplicates(subset = ['userId','movieId'], ignore_index=True)"
   ]
  },
  {
   "cell_type": "code",
   "execution_count": 21,
   "id": "de1aff4a-afc0-4e3d-853e-076cb06bc829",
   "metadata": {
    "tags": []
   },
   "outputs": [
    {
     "name": "stdout",
     "output_type": "stream",
     "text": [
      "<class 'pandas.core.frame.DataFrame'>\n",
      "RangeIndex: 3683 entries, 0 to 3682\n",
      "Data columns (total 4 columns):\n",
      " #   Column     Non-Null Count  Dtype \n",
      "---  ------     --------------  ----- \n",
      " 0   userId     3683 non-null   int64 \n",
      " 1   movieId    3683 non-null   int64 \n",
      " 2   tag        3683 non-null   object\n",
      " 3   timestamp  3683 non-null   int64 \n",
      "dtypes: int64(3), object(1)\n",
      "memory usage: 115.2+ KB\n"
     ]
    }
   ],
   "source": [
    "df_ml_32m_tags.info()"
   ]
  },
  {
   "cell_type": "code",
   "execution_count": 24,
   "id": "2f3cd186-383b-4614-8ea5-8454087a4b8b",
   "metadata": {
    "tags": []
   },
   "outputs": [],
   "source": [
    "# here we convert teh seconds (in timestamp column) into real time-stamp\n",
    "from datetime import datetime\n",
    "\n",
    "# Convert seconds to a datetime object\n",
    "for i in range(len(df_ml_32m_tags.timestamp)):\n",
    "    df_ml_32m_tags.loc[i, 'time_stamp'] = datetime.fromtimestamp(df_ml_32m_tags.loc[i, 'timestamp'])\n"
   ]
  },
  {
   "cell_type": "code",
   "execution_count": 25,
   "id": "3d5e3150-39a4-46f2-8393-98309c556b85",
   "metadata": {
    "tags": []
   },
   "outputs": [],
   "source": [
    "# now droppingh inplace the old timestamp col and rename the new one \n",
    "df_ml_32m_tags = df_ml_32m_tags.drop('timestamp', axis = 1, inplace = False)  "
   ]
  },
  {
   "cell_type": "code",
   "execution_count": 26,
   "id": "c871bdb4-375f-48fc-93eb-523ea45bd3f1",
   "metadata": {
    "tags": []
   },
   "outputs": [
    {
     "data": {
      "text/html": [
       "<div>\n",
       "<style scoped>\n",
       "    .dataframe tbody tr th:only-of-type {\n",
       "        vertical-align: middle;\n",
       "    }\n",
       "\n",
       "    .dataframe tbody tr th {\n",
       "        vertical-align: top;\n",
       "    }\n",
       "\n",
       "    .dataframe thead th {\n",
       "        text-align: right;\n",
       "    }\n",
       "</style>\n",
       "<table border=\"1\" class=\"dataframe\">\n",
       "  <thead>\n",
       "    <tr style=\"text-align: right;\">\n",
       "      <th></th>\n",
       "      <th>userId</th>\n",
       "      <th>movieId</th>\n",
       "      <th>tag</th>\n",
       "      <th>time_stamp</th>\n",
       "    </tr>\n",
       "  </thead>\n",
       "  <tbody>\n",
       "    <tr>\n",
       "      <th>0</th>\n",
       "      <td>2</td>\n",
       "      <td>60756</td>\n",
       "      <td>funny</td>\n",
       "      <td>2015-10-24 21:29:54</td>\n",
       "    </tr>\n",
       "    <tr>\n",
       "      <th>1</th>\n",
       "      <td>2</td>\n",
       "      <td>60756</td>\n",
       "      <td>Highly quotable</td>\n",
       "      <td>2015-10-24 21:29:56</td>\n",
       "    </tr>\n",
       "    <tr>\n",
       "      <th>2</th>\n",
       "      <td>2</td>\n",
       "      <td>60756</td>\n",
       "      <td>will ferrell</td>\n",
       "      <td>2015-10-24 21:29:52</td>\n",
       "    </tr>\n",
       "    <tr>\n",
       "      <th>3</th>\n",
       "      <td>2</td>\n",
       "      <td>89774</td>\n",
       "      <td>Boxing story</td>\n",
       "      <td>2015-10-24 21:33:27</td>\n",
       "    </tr>\n",
       "    <tr>\n",
       "      <th>4</th>\n",
       "      <td>2</td>\n",
       "      <td>89774</td>\n",
       "      <td>MMA</td>\n",
       "      <td>2015-10-24 21:33:20</td>\n",
       "    </tr>\n",
       "  </tbody>\n",
       "</table>\n",
       "</div>"
      ],
      "text/plain": [
       "   userId  movieId              tag          time_stamp\n",
       "0       2    60756            funny 2015-10-24 21:29:54\n",
       "1       2    60756  Highly quotable 2015-10-24 21:29:56\n",
       "2       2    60756     will ferrell 2015-10-24 21:29:52\n",
       "3       2    89774     Boxing story 2015-10-24 21:33:27\n",
       "4       2    89774              MMA 2015-10-24 21:33:20"
      ]
     },
     "execution_count": 26,
     "metadata": {},
     "output_type": "execute_result"
    }
   ],
   "source": [
    "df_ml_32m_tags.head()"
   ]
  },
  {
   "cell_type": "markdown",
   "id": "c3f6eb6c-d509-465e-98c3-bb05cd806bba",
   "metadata": {},
   "source": [
    "#### ***Vizulization of Data Sets***\n",
    "***Table Rating***"
   ]
  },
  {
   "cell_type": "code",
   "execution_count": 84,
   "id": "d8e1bb5e-f15b-4e4d-9df2-dcbb59b0d448",
   "metadata": {
    "tags": []
   },
   "outputs": [
    {
     "data": {
      "text/html": [
       "<div>\n",
       "<style scoped>\n",
       "    .dataframe tbody tr th:only-of-type {\n",
       "        vertical-align: middle;\n",
       "    }\n",
       "\n",
       "    .dataframe tbody tr th {\n",
       "        vertical-align: top;\n",
       "    }\n",
       "\n",
       "    .dataframe thead th {\n",
       "        text-align: right;\n",
       "    }\n",
       "</style>\n",
       "<table border=\"1\" class=\"dataframe\">\n",
       "  <thead>\n",
       "    <tr style=\"text-align: right;\">\n",
       "      <th></th>\n",
       "      <th>userId</th>\n",
       "      <th>movieId</th>\n",
       "      <th>rating</th>\n",
       "      <th>time_stamp</th>\n",
       "    </tr>\n",
       "  </thead>\n",
       "  <tbody>\n",
       "    <tr>\n",
       "      <th>0</th>\n",
       "      <td>1</td>\n",
       "      <td>1</td>\n",
       "      <td>4.0</td>\n",
       "      <td>2000-07-30 20:45:03</td>\n",
       "    </tr>\n",
       "    <tr>\n",
       "      <th>1</th>\n",
       "      <td>1</td>\n",
       "      <td>3</td>\n",
       "      <td>4.0</td>\n",
       "      <td>2000-07-30 20:20:47</td>\n",
       "    </tr>\n",
       "    <tr>\n",
       "      <th>2</th>\n",
       "      <td>1</td>\n",
       "      <td>6</td>\n",
       "      <td>4.0</td>\n",
       "      <td>2000-07-30 20:37:04</td>\n",
       "    </tr>\n",
       "    <tr>\n",
       "      <th>3</th>\n",
       "      <td>1</td>\n",
       "      <td>47</td>\n",
       "      <td>5.0</td>\n",
       "      <td>2000-07-30 21:03:35</td>\n",
       "    </tr>\n",
       "    <tr>\n",
       "      <th>4</th>\n",
       "      <td>1</td>\n",
       "      <td>50</td>\n",
       "      <td>5.0</td>\n",
       "      <td>2000-07-30 20:48:51</td>\n",
       "    </tr>\n",
       "  </tbody>\n",
       "</table>\n",
       "</div>"
      ],
      "text/plain": [
       "   userId  movieId  rating          time_stamp\n",
       "0       1        1     4.0 2000-07-30 20:45:03\n",
       "1       1        3     4.0 2000-07-30 20:20:47\n",
       "2       1        6     4.0 2000-07-30 20:37:04\n",
       "3       1       47     5.0 2000-07-30 21:03:35\n",
       "4       1       50     5.0 2000-07-30 20:48:51"
      ]
     },
     "execution_count": 84,
     "metadata": {},
     "output_type": "execute_result"
    }
   ],
   "source": [
    "df_ml_32m_rating.head()"
   ]
  },
  {
   "cell_type": "markdown",
   "id": "d9b12232-e627-4bae-92d5-f8f3b3de78d0",
   "metadata": {},
   "source": [
    "#### ***Distribution of Ratings***"
   ]
  },
  {
   "cell_type": "code",
   "execution_count": 31,
   "id": "0683f30f-fc5a-41ad-bc53-5918f8ad02de",
   "metadata": {
    "tags": []
   },
   "outputs": [
    {
     "ename": "ValueError",
     "evalue": "keyword fontweight is not recognized; valid keywords are ['size', 'width', 'color', 'tickdir', 'pad', 'labelsize', 'labelcolor', 'zorder', 'gridOn', 'tick1On', 'tick2On', 'label1On', 'label2On', 'length', 'direction', 'left', 'bottom', 'right', 'top', 'labelleft', 'labelbottom', 'labelright', 'labeltop', 'labelrotation', 'grid_agg_filter', 'grid_alpha', 'grid_animated', 'grid_antialiased', 'grid_clip_box', 'grid_clip_on', 'grid_clip_path', 'grid_color', 'grid_dash_capstyle', 'grid_dash_joinstyle', 'grid_dashes', 'grid_data', 'grid_drawstyle', 'grid_figure', 'grid_fillstyle', 'grid_gapcolor', 'grid_gid', 'grid_in_layout', 'grid_label', 'grid_linestyle', 'grid_linewidth', 'grid_marker', 'grid_markeredgecolor', 'grid_markeredgewidth', 'grid_markerfacecolor', 'grid_markerfacecoloralt', 'grid_markersize', 'grid_markevery', 'grid_mouseover', 'grid_path_effects', 'grid_picker', 'grid_pickradius', 'grid_rasterized', 'grid_sketch_params', 'grid_snap', 'grid_solid_capstyle', 'grid_solid_joinstyle', 'grid_transform', 'grid_url', 'grid_visible', 'grid_xdata', 'grid_ydata', 'grid_zorder', 'grid_aa', 'grid_c', 'grid_ds', 'grid_ls', 'grid_lw', 'grid_mec', 'grid_mew', 'grid_mfc', 'grid_mfcalt', 'grid_ms']",
     "output_type": "error",
     "traceback": [
      "\u001b[1;31m---------------------------------------------------------------------------\u001b[0m",
      "\u001b[1;31mValueError\u001b[0m                                Traceback (most recent call last)",
      "Cell \u001b[1;32mIn[31], line 23\u001b[0m\n\u001b[0;32m     20\u001b[0m ax0\u001b[38;5;241m.\u001b[39mset_xlabel(\u001b[38;5;124m'\u001b[39m\u001b[38;5;124mrating\u001b[39m\u001b[38;5;124m'\u001b[39m,  fontsize \u001b[38;5;241m=\u001b[39m \u001b[38;5;241m15.0\u001b[39m, fontweight \u001b[38;5;241m=\u001b[39m \u001b[38;5;124m'\u001b[39m\u001b[38;5;124mbold\u001b[39m\u001b[38;5;124m'\u001b[39m)\n\u001b[0;32m     21\u001b[0m ax0\u001b[38;5;241m.\u001b[39mset_ylabel(\u001b[38;5;124m'\u001b[39m\u001b[38;5;124mNumber of Rating\u001b[39m\u001b[38;5;124m'\u001b[39m,  fontsize \u001b[38;5;241m=\u001b[39m \u001b[38;5;241m15.0\u001b[39m, fontweight \u001b[38;5;241m=\u001b[39m \u001b[38;5;124m'\u001b[39m\u001b[38;5;124mbold\u001b[39m\u001b[38;5;124m'\u001b[39m)\n\u001b[1;32m---> 23\u001b[0m \u001b[43max0\u001b[49m\u001b[38;5;241;43m.\u001b[39;49m\u001b[43mtick_params\u001b[49m\u001b[43m(\u001b[49m\u001b[43maxis\u001b[49m\u001b[38;5;241;43m=\u001b[39;49m\u001b[38;5;124;43m'\u001b[39;49m\u001b[38;5;124;43mboth\u001b[39;49m\u001b[38;5;124;43m'\u001b[39;49m\u001b[43m,\u001b[49m\u001b[43m \u001b[49m\u001b[43mwhich\u001b[49m\u001b[43m \u001b[49m\u001b[38;5;241;43m=\u001b[39;49m\u001b[43m \u001b[49m\u001b[38;5;124;43m'\u001b[39;49m\u001b[38;5;124;43mboth\u001b[39;49m\u001b[38;5;124;43m'\u001b[39;49m\u001b[43m,\u001b[49m\u001b[43m \u001b[49m\u001b[43mdirection\u001b[49m\u001b[43m \u001b[49m\u001b[38;5;241;43m=\u001b[39;49m\u001b[43m \u001b[49m\u001b[38;5;124;43m'\u001b[39;49m\u001b[38;5;124;43min\u001b[39;49m\u001b[38;5;124;43m'\u001b[39;49m\u001b[43m,\u001b[49m\u001b[43m \u001b[49m\u001b[43mwidth\u001b[49m\u001b[43m \u001b[49m\u001b[38;5;241;43m=\u001b[39;49m\u001b[43m \u001b[49m\u001b[38;5;241;43m3\u001b[39;49m\u001b[43m,\u001b[49m\u001b[43m \u001b[49m\u001b[43mlength\u001b[49m\u001b[43m \u001b[49m\u001b[38;5;241;43m=\u001b[39;49m\u001b[43m \u001b[49m\u001b[38;5;241;43m6\u001b[39;49m\u001b[43m,\u001b[49m\u001b[43m \u001b[49m\u001b[43mlabelsize\u001b[49m\u001b[43m \u001b[49m\u001b[38;5;241;43m=\u001b[39;49m\u001b[43m \u001b[49m\u001b[38;5;241;43m15\u001b[39;49m\u001b[43m,\u001b[49m\u001b[43m \u001b[49m\u001b[43mfontweight\u001b[49m\u001b[43m \u001b[49m\u001b[38;5;241;43m=\u001b[39;49m\u001b[43m \u001b[49m\u001b[38;5;241;43m10\u001b[39;49m\u001b[43m)\u001b[49m\n\u001b[0;32m     25\u001b[0m ax0\u001b[38;5;241m.\u001b[39mspines[\u001b[38;5;124m'\u001b[39m\u001b[38;5;124mtop\u001b[39m\u001b[38;5;124m'\u001b[39m]\u001b[38;5;241m.\u001b[39mset_linewidth(\u001b[38;5;241m2\u001b[39m)\n\u001b[0;32m     26\u001b[0m ax0\u001b[38;5;241m.\u001b[39mspines[\u001b[38;5;124m'\u001b[39m\u001b[38;5;124mright\u001b[39m\u001b[38;5;124m'\u001b[39m]\u001b[38;5;241m.\u001b[39mset_linewidth(\u001b[38;5;241m2\u001b[39m)\n",
      "File \u001b[1;32mD:\\hh-ds-24-07\\projects\\ds-capstone-recommendation\\.venv\\Lib\\site-packages\\matplotlib\\axes\\_base.py:3385\u001b[0m, in \u001b[0;36m_AxesBase.tick_params\u001b[1;34m(self, axis, **kwargs)\u001b[0m\n\u001b[0;32m   3383\u001b[0m     xkw\u001b[38;5;241m.\u001b[39mpop(\u001b[38;5;124m'\u001b[39m\u001b[38;5;124mlabelleft\u001b[39m\u001b[38;5;124m'\u001b[39m, \u001b[38;5;28;01mNone\u001b[39;00m)\n\u001b[0;32m   3384\u001b[0m     xkw\u001b[38;5;241m.\u001b[39mpop(\u001b[38;5;124m'\u001b[39m\u001b[38;5;124mlabelright\u001b[39m\u001b[38;5;124m'\u001b[39m, \u001b[38;5;28;01mNone\u001b[39;00m)\n\u001b[1;32m-> 3385\u001b[0m     \u001b[38;5;28;43mself\u001b[39;49m\u001b[38;5;241;43m.\u001b[39;49m\u001b[43mxaxis\u001b[49m\u001b[38;5;241;43m.\u001b[39;49m\u001b[43mset_tick_params\u001b[49m\u001b[43m(\u001b[49m\u001b[38;5;241;43m*\u001b[39;49m\u001b[38;5;241;43m*\u001b[39;49m\u001b[43mxkw\u001b[49m\u001b[43m)\u001b[49m\n\u001b[0;32m   3386\u001b[0m \u001b[38;5;28;01mif\u001b[39;00m axis \u001b[38;5;129;01min\u001b[39;00m [\u001b[38;5;124m'\u001b[39m\u001b[38;5;124my\u001b[39m\u001b[38;5;124m'\u001b[39m, \u001b[38;5;124m'\u001b[39m\u001b[38;5;124mboth\u001b[39m\u001b[38;5;124m'\u001b[39m]:\n\u001b[0;32m   3387\u001b[0m     ykw \u001b[38;5;241m=\u001b[39m \u001b[38;5;28mdict\u001b[39m(kwargs)\n",
      "File \u001b[1;32mD:\\hh-ds-24-07\\projects\\ds-capstone-recommendation\\.venv\\Lib\\site-packages\\matplotlib\\axis.py:932\u001b[0m, in \u001b[0;36mAxis.set_tick_params\u001b[1;34m(self, which, reset, **kwargs)\u001b[0m\n\u001b[0;32m    919\u001b[0m \u001b[38;5;250m\u001b[39m\u001b[38;5;124;03m\"\"\"\u001b[39;00m\n\u001b[0;32m    920\u001b[0m \u001b[38;5;124;03mSet appearance parameters for ticks, ticklabels, and gridlines.\u001b[39;00m\n\u001b[0;32m    921\u001b[0m \n\u001b[1;32m   (...)\u001b[0m\n\u001b[0;32m    929\u001b[0m \u001b[38;5;124;03m    gridlines.\u001b[39;00m\n\u001b[0;32m    930\u001b[0m \u001b[38;5;124;03m\"\"\"\u001b[39;00m\n\u001b[0;32m    931\u001b[0m _api\u001b[38;5;241m.\u001b[39mcheck_in_list([\u001b[38;5;124m'\u001b[39m\u001b[38;5;124mmajor\u001b[39m\u001b[38;5;124m'\u001b[39m, \u001b[38;5;124m'\u001b[39m\u001b[38;5;124mminor\u001b[39m\u001b[38;5;124m'\u001b[39m, \u001b[38;5;124m'\u001b[39m\u001b[38;5;124mboth\u001b[39m\u001b[38;5;124m'\u001b[39m], which\u001b[38;5;241m=\u001b[39mwhich)\n\u001b[1;32m--> 932\u001b[0m kwtrans \u001b[38;5;241m=\u001b[39m \u001b[38;5;28;43mself\u001b[39;49m\u001b[38;5;241;43m.\u001b[39;49m\u001b[43m_translate_tick_params\u001b[49m\u001b[43m(\u001b[49m\u001b[43mkwargs\u001b[49m\u001b[43m)\u001b[49m\n\u001b[0;32m    934\u001b[0m \u001b[38;5;66;03m# the kwargs are stored in self._major/minor_tick_kw so that any\u001b[39;00m\n\u001b[0;32m    935\u001b[0m \u001b[38;5;66;03m# future new ticks will automatically get them\u001b[39;00m\n\u001b[0;32m    936\u001b[0m \u001b[38;5;28;01mif\u001b[39;00m reset:\n",
      "File \u001b[1;32mD:\\hh-ds-24-07\\projects\\ds-capstone-recommendation\\.venv\\Lib\\site-packages\\matplotlib\\axis.py:1076\u001b[0m, in \u001b[0;36mAxis._translate_tick_params\u001b[1;34m(kw, reverse)\u001b[0m\n\u001b[0;32m   1074\u001b[0m \u001b[38;5;28;01mfor\u001b[39;00m key \u001b[38;5;129;01min\u001b[39;00m kw_:\n\u001b[0;32m   1075\u001b[0m     \u001b[38;5;28;01mif\u001b[39;00m key \u001b[38;5;129;01mnot\u001b[39;00m \u001b[38;5;129;01min\u001b[39;00m allowed_keys:\n\u001b[1;32m-> 1076\u001b[0m         \u001b[38;5;28;01mraise\u001b[39;00m \u001b[38;5;167;01mValueError\u001b[39;00m(\n\u001b[0;32m   1077\u001b[0m             \u001b[38;5;124m\"\u001b[39m\u001b[38;5;124mkeyword \u001b[39m\u001b[38;5;132;01m%s\u001b[39;00m\u001b[38;5;124m is not recognized; valid keywords are \u001b[39m\u001b[38;5;132;01m%s\u001b[39;00m\u001b[38;5;124m\"\u001b[39m\n\u001b[0;32m   1078\u001b[0m             \u001b[38;5;241m%\u001b[39m (key, allowed_keys))\n\u001b[0;32m   1079\u001b[0m kwtrans\u001b[38;5;241m.\u001b[39mupdate(kw_)\n\u001b[0;32m   1080\u001b[0m \u001b[38;5;28;01mreturn\u001b[39;00m kwtrans\n",
      "\u001b[1;31mValueError\u001b[0m: keyword fontweight is not recognized; valid keywords are ['size', 'width', 'color', 'tickdir', 'pad', 'labelsize', 'labelcolor', 'zorder', 'gridOn', 'tick1On', 'tick2On', 'label1On', 'label2On', 'length', 'direction', 'left', 'bottom', 'right', 'top', 'labelleft', 'labelbottom', 'labelright', 'labeltop', 'labelrotation', 'grid_agg_filter', 'grid_alpha', 'grid_animated', 'grid_antialiased', 'grid_clip_box', 'grid_clip_on', 'grid_clip_path', 'grid_color', 'grid_dash_capstyle', 'grid_dash_joinstyle', 'grid_dashes', 'grid_data', 'grid_drawstyle', 'grid_figure', 'grid_fillstyle', 'grid_gapcolor', 'grid_gid', 'grid_in_layout', 'grid_label', 'grid_linestyle', 'grid_linewidth', 'grid_marker', 'grid_markeredgecolor', 'grid_markeredgewidth', 'grid_markerfacecolor', 'grid_markerfacecoloralt', 'grid_markersize', 'grid_markevery', 'grid_mouseover', 'grid_path_effects', 'grid_picker', 'grid_pickradius', 'grid_rasterized', 'grid_sketch_params', 'grid_snap', 'grid_solid_capstyle', 'grid_solid_joinstyle', 'grid_transform', 'grid_url', 'grid_visible', 'grid_xdata', 'grid_ydata', 'grid_zorder', 'grid_aa', 'grid_c', 'grid_ds', 'grid_ls', 'grid_lw', 'grid_mec', 'grid_mew', 'grid_mfc', 'grid_mfcalt', 'grid_ms']"
     ]
    },
    {
     "data": {
      "image/png": "[encoded data removed]",
      "text/plain": [
       "<Figure size 1000x800 with 1 Axes>"
      ]
     },
     "metadata": {},
     "output_type": "display_data"
    }
   ],
   "source": [
    "# distribution of Rating\n",
    "sns.set_style(\"whitegrid\")\n",
    "\n",
    "n_rating = df_ml_32m_rating['rating'].nunique()\n",
    "\n",
    "fig, ax0 = plt.subplots(1,1, figsize = (10,8))\n",
    "\n",
    "\n",
    "n, bins, patches = plt.hist(df_ml_32m_rating['rating'], bins=n_rating, color='skyblue', edgecolor='black', alpha=0.7)\n",
    "\n",
    "# Calculate total count for percentage calculation\n",
    "total = n.sum()\n",
    "\n",
    "# Annotate each bar with percentage\n",
    "for count, bin_edge in zip(n, bins):\n",
    "    # Calculate the position for each label\n",
    "    percentage = (count / total) * 100\n",
    "    plt.text(bin_edge + 0.25, count, f'{percentage:.1f}%', ha='center', va='bottom', fontsize = 15.0, fontweight = 10)\n",
    "    \n",
    "ax0.set_xlabel('Rating',  fontsize = 15.0, fontweight = 'bold')\n",
    "ax0.set_ylabel('Number of Rating',  fontsize = 15.0, fontweight = 'bold')\n",
    "\n",
    "ax0.tick_params(axis='both', which = 'both', direction = 'in', width = 3, length = 6, labelsize = 15, fontweight = 10)\n",
    "\n",
    "ax0.spines['top'].set_linewidth(2)\n",
    "ax0.spines['right'].set_linewidth(2)\n",
    "ax0.spines['bottom'].set_linewidth(2)\n",
    "ax0.spines['left'].set_linewidth(2)\n",
    "plt.show()"
   ]
  },
  {
   "cell_type": "markdown",
   "id": "1e8dce3e-3637-4910-8f8a-258b71d9cd68",
   "metadata": {},
   "source": [
    "#### ***Distribution of Rating Times***"
   ]
  },
  {
   "cell_type": "code",
   "execution_count": 51,
   "id": "664a8a1e-7db4-48bf-b22a-fe01c7f46a6c",
   "metadata": {
    "tags": []
   },
   "outputs": [
    {
     "data": {
      "text/plain": [
       "128"
      ]
     },
     "execution_count": 51,
     "metadata": {},
     "output_type": "execute_result"
    }
   ],
   "source": [
    "df_ml_32m_rating['time_stamp'].value_counts().max()"
   ]
  },
  {
   "cell_type": "code",
   "execution_count": 58,
   "id": "88aeb606-71bb-4347-a619-d3f42b367b72",
   "metadata": {
    "tags": []
   },
   "outputs": [
    {
     "name": "stdout",
     "output_type": "stream",
     "text": [
      "1996 2018\n"
     ]
    },
    {
     "data": {
      "image/png": "[encoded data removed]",
      "text/plain": [
       "<Figure size 1000x800 with 1 Axes>"
      ]
     },
     "metadata": {},
     "output_type": "display_data"
    }
   ],
   "source": [
    "# distribution of timestamps\n",
    "\n",
    "from datetime import datetime\n",
    "\n",
    "print(df_ml_32m_rating['time_stamp'].min().year, df_ml_32m_rating['time_stamp'].max().year)\n",
    "sns.set_style(\"whitegrid\")\n",
    "# number of year in the time period ratings are recorded\n",
    "no_year = df_ml_32m_rating['time_stamp'].max().year - df_ml_32m_rating['time_stamp'].min().year\n",
    "fig, ax0 = plt.subplots(1,1, figsize = (10,8))\n",
    "\n",
    "df_ml_32m_rating['time_stamp'].hist(bins=no_year, color='green', edgecolor='black', alpha=0.7)\n",
    "\n",
    "ax0.set_xlabel('Year',  fontsize = 15.0, fontweight = 'bold')\n",
    "ax0.set_ylabel('Number of Rating',  fontsize = 15.0, fontweight = 'bold')\n",
    "\n",
    "ax0.set_xticklabels(labels = [1996, 2000, 2004, 2008, 2012, 2016, 2020], fontsize = 15,  fontweight = 'bold')\n",
    "ax0.set_yticklabels(labels = [0, 2000, 4000, 6000, 8000], fontsize = 15, fontweight = 'bold')\n",
    "\n",
    "ax0.tick_params(axis='both', which = 'both', direction = 'in', width = 3, length = 6)\n",
    "\n",
    "ax0.spines['top'].set_linewidth(2)\n",
    "ax0.spines['right'].set_linewidth(2)\n",
    "ax0.spines['bottom'].set_linewidth(2)\n",
    "ax0.spines['left'].set_linewidth(2)\n",
    "plt.show()"
   ]
  },
  {
   "cell_type": "code",
   "execution_count": 31,
   "id": "abf7adee-d780-4302-9a6d-d211a5a60f74",
   "metadata": {
    "tags": []
   },
   "outputs": [],
   "source": [
    "# # scatter plot of rates and moviId\n",
    "\n",
    "# from datetime import datetime\n",
    "\n",
    "# sns.set_style(\"whitegrid\")\n",
    "\n",
    "# fig, ax0 = plt.subplots(1,1, figsize = (10,8))\n",
    "\n",
    "# sns.scatterplot(x=df_ml_32m_rating.groupby('movieId'), y='rating', data=df_ml_32m_rating)\n",
    "\n",
    "# ax0.set_xlabel('Movies',  fontsize = 15.0, fontweight = 'bold')\n",
    "# ax0.set_ylabel('Number of Rating',  fontsize = 15.0, fontweight = 'bold')\n",
    "\n",
    "# ax0.tick_params(axis='both', which = 'both', direction = 'in', width = 3, length = 6)\n",
    "\n",
    "# ax0.spines['top'].set_linewidth(2)\n",
    "# ax0.spines['right'].set_linewidth(2)\n",
    "# ax0.spines['bottom'].set_linewidth(2)\n",
    "# ax0.spines['left'].set_linewidth(2)\n",
    "# plt.show()"
   ]
  },
  {
   "cell_type": "code",
   "execution_count": 14,
   "id": "059620d1-1120-4c1c-8da7-2b551118ddf7",
   "metadata": {
    "tags": []
   },
   "outputs": [
    {
     "data": {
      "text/plain": [
       "(   userId  movieId  rating  timestamp\n",
       " 0       1        1     4.0  964982703\n",
       " 1       1        3     4.0  964981247\n",
       " 2       1        6     4.0  964982224\n",
       " 3       1       47     5.0  964983815\n",
       " 4       1       50     5.0  964982931,\n",
       " 9724)"
      ]
     },
     "execution_count": 14,
     "metadata": {},
     "output_type": "execute_result"
    }
   ],
   "source": [
    "df_ml_32m_rating.head(), df_ml_32m_rating.movieId.nunique()"
   ]
  },
  {
   "cell_type": "markdown",
   "id": "96ce87a1-dba8-4f82-a218-bfa7b8fb153e",
   "metadata": {},
   "source": [
    "#### ***Distribution of Number of Movies vs Number of Rating per Movie***"
   ]
  },
  {
   "cell_type": "code",
   "execution_count": null,
   "id": "db00c182-86db-4d88-b35b-b9de293d02f4",
   "metadata": {
    "tags": []
   },
   "outputs": [
    {
     "ename": "NameError",
     "evalue": "name 'bin_edge' is not defined",
     "output_type": "error",
     "traceback": [
      "\u001b[1;31m---------------------------------------------------------------------------\u001b[0m",
      "\u001b[1;31mNameError\u001b[0m                                 Traceback (most recent call last)",
      "Cell \u001b[1;32mIn[62], line 19\u001b[0m\n\u001b[0;32m     15\u001b[0m ax0\u001b[38;5;241m.\u001b[39mset_ylabel(\u001b[38;5;124m'\u001b[39m\u001b[38;5;124mNumber of Movies\u001b[39m\u001b[38;5;124m'\u001b[39m,  fontsize \u001b[38;5;241m=\u001b[39m \u001b[38;5;241m15.0\u001b[39m, fontweight \u001b[38;5;241m=\u001b[39m \u001b[38;5;124m'\u001b[39m\u001b[38;5;124mbold\u001b[39m\u001b[38;5;124m'\u001b[39m)\n\u001b[0;32m     17\u001b[0m ax0\u001b[38;5;241m.\u001b[39mtick_params(axis\u001b[38;5;241m=\u001b[39m\u001b[38;5;124m'\u001b[39m\u001b[38;5;124mboth\u001b[39m\u001b[38;5;124m'\u001b[39m, which \u001b[38;5;241m=\u001b[39m \u001b[38;5;124m'\u001b[39m\u001b[38;5;124mboth\u001b[39m\u001b[38;5;124m'\u001b[39m, direction \u001b[38;5;241m=\u001b[39m \u001b[38;5;124m'\u001b[39m\u001b[38;5;124min\u001b[39m\u001b[38;5;124m'\u001b[39m, width \u001b[38;5;241m=\u001b[39m \u001b[38;5;241m3\u001b[39m, length \u001b[38;5;241m=\u001b[39m \u001b[38;5;241m6\u001b[39m)\n\u001b[1;32m---> 19\u001b[0m plt\u001b[38;5;241m.\u001b[39mtext(\u001b[43mbin_edge\u001b[49m \u001b[38;5;241m+\u001b[39m \u001b[38;5;241m0.25\u001b[39m, count, \u001b[38;5;124mf\u001b[39m\u001b[38;5;124m'\u001b[39m\u001b[38;5;132;01m{\u001b[39;00mpercentage\u001b[38;5;132;01m:\u001b[39;00m\u001b[38;5;124m.1f\u001b[39m\u001b[38;5;132;01m}\u001b[39;00m\u001b[38;5;124m%\u001b[39m\u001b[38;5;124m'\u001b[39m, ha\u001b[38;5;241m=\u001b[39m\u001b[38;5;124m'\u001b[39m\u001b[38;5;124mcenter\u001b[39m\u001b[38;5;124m'\u001b[39m, va\u001b[38;5;241m=\u001b[39m\u001b[38;5;124m'\u001b[39m\u001b[38;5;124mbottom\u001b[39m\u001b[38;5;124m'\u001b[39m, fontsize \u001b[38;5;241m=\u001b[39m \u001b[38;5;241m15.0\u001b[39m, fontweight \u001b[38;5;241m=\u001b[39m \u001b[38;5;241m10\u001b[39m)\n\u001b[0;32m     21\u001b[0m ax0\u001b[38;5;241m.\u001b[39mspines[\u001b[38;5;124m'\u001b[39m\u001b[38;5;124mtop\u001b[39m\u001b[38;5;124m'\u001b[39m]\u001b[38;5;241m.\u001b[39mset_linewidth(\u001b[38;5;241m2\u001b[39m)\n\u001b[0;32m     22\u001b[0m ax0\u001b[38;5;241m.\u001b[39mspines[\u001b[38;5;124m'\u001b[39m\u001b[38;5;124mright\u001b[39m\u001b[38;5;124m'\u001b[39m]\u001b[38;5;241m.\u001b[39mset_linewidth(\u001b[38;5;241m2\u001b[39m)\n",
      "\u001b[1;31mNameError\u001b[0m: name 'bin_edge' is not defined"
     ]
    }
   ],
   "source": [
    "# hist plot of number of rates per movies\n",
    "\n",
    "df_ml_32m_rating_gb = df_ml_32m_rating.groupby('movieId')['rating'] #.count().clip(upper=100)\n",
    "df_ml_32m_rating_gb\n",
    "\n",
    "from datetime import datetime\n",
    "\n",
    "sns.set_style(\"whitegrid\")\n",
    "\n",
    "fig, ax0 = plt.subplots(1,1, figsize = (10,8))\n",
    "\n",
    "df_ml_32m_rating_gb.hist(bins=50, color='green', edgecolor='black', alpha=0.7)\n",
    "\n",
    "ax0.set_xlabel('Number of Rating',  fontsize = 15.0, fontweight = 'bold')\n",
    "ax0.set_ylabel('Number of Movies',  fontsize = 15.0, fontweight = 'bold')\n",
    "\n",
    "ax0.tick_params(axis='both', which = 'both', direction = 'in', width = 3, length = 6)\n",
    "\n",
    "plt.text(bin_edge + 0.25, count, f'{percentage:.1f}%', ha='center', va='bottom', fontsize = 15.0, fontweight = 10)\n",
    "\n",
    "ax0.spines['top'].set_linewidth(2)\n",
    "ax0.spines['right'].set_linewidth(2)\n",
    "ax0.spines['bottom'].set_linewidth(2)\n",
    "ax0.spines['left'].set_linewidth(2)\n",
    "plt.show()"
   ]
  },
  {
   "cell_type": "code",
   "execution_count": 30,
   "id": "087e7615-3cd1-43e7-b217-d1973a5b56e8",
   "metadata": {
    "tags": []
   },
   "outputs": [
    {
     "data": {
      "text/html": [
       "<div>\n",
       "<style scoped>\n",
       "    .dataframe tbody tr th:only-of-type {\n",
       "        vertical-align: middle;\n",
       "    }\n",
       "\n",
       "    .dataframe tbody tr th {\n",
       "        vertical-align: top;\n",
       "    }\n",
       "\n",
       "    .dataframe thead th {\n",
       "        text-align: right;\n",
       "    }\n",
       "</style>\n",
       "<table border=\"1\" class=\"dataframe\">\n",
       "  <thead>\n",
       "    <tr style=\"text-align: right;\">\n",
       "      <th></th>\n",
       "      <th>movieId</th>\n",
       "      <th>rating</th>\n",
       "    </tr>\n",
       "  </thead>\n",
       "  <tbody>\n",
       "    <tr>\n",
       "      <th>0</th>\n",
       "      <td>1</td>\n",
       "      <td>100</td>\n",
       "    </tr>\n",
       "    <tr>\n",
       "      <th>197</th>\n",
       "      <td>231</td>\n",
       "      <td>100</td>\n",
       "    </tr>\n",
       "    <tr>\n",
       "      <th>4131</th>\n",
       "      <td>5952</td>\n",
       "      <td>100</td>\n",
       "    </tr>\n",
       "    <tr>\n",
       "      <th>1938</th>\n",
       "      <td>2571</td>\n",
       "      <td>100</td>\n",
       "    </tr>\n",
       "    <tr>\n",
       "      <th>3002</th>\n",
       "      <td>4022</td>\n",
       "      <td>100</td>\n",
       "    </tr>\n",
       "    <tr>\n",
       "      <th>1978</th>\n",
       "      <td>2628</td>\n",
       "      <td>100</td>\n",
       "    </tr>\n",
       "    <tr>\n",
       "      <th>2013</th>\n",
       "      <td>2683</td>\n",
       "      <td>100</td>\n",
       "    </tr>\n",
       "    <tr>\n",
       "      <th>706</th>\n",
       "      <td>924</td>\n",
       "      <td>100</td>\n",
       "    </tr>\n",
       "    <tr>\n",
       "      <th>2979</th>\n",
       "      <td>3996</td>\n",
       "      <td>100</td>\n",
       "    </tr>\n",
       "    <tr>\n",
       "      <th>694</th>\n",
       "      <td>912</td>\n",
       "      <td>100</td>\n",
       "    </tr>\n",
       "  </tbody>\n",
       "</table>\n",
       "</div>"
      ],
      "text/plain": [
       "      movieId  rating\n",
       "0           1     100\n",
       "197       231     100\n",
       "4131     5952     100\n",
       "1938     2571     100\n",
       "3002     4022     100\n",
       "1978     2628     100\n",
       "2013     2683     100\n",
       "706       924     100\n",
       "2979     3996     100\n",
       "694       912     100"
      ]
     },
     "execution_count": 30,
     "metadata": {},
     "output_type": "execute_result"
    }
   ],
   "source": [
    "df_ml_32m_rating_gb.reset_index().sort_values('rating', ascending=False)[:10]"
   ]
  },
  {
   "cell_type": "markdown",
   "id": "62a00488-6c0b-46ab-9c46-d43bc0c00476",
   "metadata": {},
   "source": [
    "#### ***Distribution of Number of Movies vs Number of Rating User***"
   ]
  },
  {
   "cell_type": "code",
   "execution_count": 37,
   "id": "5b6f57ea-a459-4d7c-ac7d-f1fa6185319f",
   "metadata": {
    "tags": []
   },
   "outputs": [
    {
     "ename": "AttributeError",
     "evalue": "Text.set() got an unexpected keyword argument 'fontesize'",
     "output_type": "error",
     "traceback": [
      "\u001b[1;31m---------------------------------------------------------------------------\u001b[0m",
      "\u001b[1;31mAttributeError\u001b[0m                            Traceback (most recent call last)",
      "Cell \u001b[1;32mIn[37], line 19\u001b[0m\n\u001b[0;32m     15\u001b[0m ax0\u001b[38;5;241m.\u001b[39mset_ylabel(\u001b[38;5;124m'\u001b[39m\u001b[38;5;124mNumber of Users\u001b[39m\u001b[38;5;124m'\u001b[39m,  fontsize \u001b[38;5;241m=\u001b[39m \u001b[38;5;241m15.0\u001b[39m, fontweight \u001b[38;5;241m=\u001b[39m \u001b[38;5;124m'\u001b[39m\u001b[38;5;124mbold\u001b[39m\u001b[38;5;124m'\u001b[39m)\n\u001b[0;32m     17\u001b[0m ax0\u001b[38;5;241m.\u001b[39mtick_params(axis\u001b[38;5;241m=\u001b[39m\u001b[38;5;124m'\u001b[39m\u001b[38;5;124mboth\u001b[39m\u001b[38;5;124m'\u001b[39m, which \u001b[38;5;241m=\u001b[39m \u001b[38;5;124m'\u001b[39m\u001b[38;5;124mboth\u001b[39m\u001b[38;5;124m'\u001b[39m, direction \u001b[38;5;241m=\u001b[39m \u001b[38;5;124m'\u001b[39m\u001b[38;5;124min\u001b[39m\u001b[38;5;124m'\u001b[39m, width \u001b[38;5;241m=\u001b[39m \u001b[38;5;241m3\u001b[39m, length \u001b[38;5;241m=\u001b[39m \u001b[38;5;241m6\u001b[39m)\n\u001b[1;32m---> 19\u001b[0m \u001b[43mplt\u001b[49m\u001b[38;5;241;43m.\u001b[39;49m\u001b[43mxticks\u001b[49m\u001b[43m(\u001b[49m\u001b[43mrotation\u001b[49m\u001b[38;5;241;43m=\u001b[39;49m\u001b[38;5;124;43m'\u001b[39;49m\u001b[38;5;124;43mvertical\u001b[39;49m\u001b[38;5;124;43m'\u001b[39;49m\u001b[43m,\u001b[49m\u001b[43m \u001b[49m\u001b[43mfontesize\u001b[49m\u001b[43m \u001b[49m\u001b[38;5;241;43m=\u001b[39;49m\u001b[43m \u001b[49m\u001b[38;5;241;43m15\u001b[39;49m\u001b[43m)\u001b[49m\n\u001b[0;32m     21\u001b[0m ax0\u001b[38;5;241m.\u001b[39mspines[\u001b[38;5;124m'\u001b[39m\u001b[38;5;124mtop\u001b[39m\u001b[38;5;124m'\u001b[39m]\u001b[38;5;241m.\u001b[39mset_linewidth(\u001b[38;5;241m2\u001b[39m)\n\u001b[0;32m     22\u001b[0m ax0\u001b[38;5;241m.\u001b[39mspines[\u001b[38;5;124m'\u001b[39m\u001b[38;5;124mright\u001b[39m\u001b[38;5;124m'\u001b[39m]\u001b[38;5;241m.\u001b[39mset_linewidth(\u001b[38;5;241m2\u001b[39m)\n",
      "File \u001b[1;32mD:\\hh-ds-24-07\\projects\\ds-capstone-recommendation\\.venv\\Lib\\site-packages\\matplotlib\\pyplot.py:1891\u001b[0m, in \u001b[0;36mxticks\u001b[1;34m(ticks, labels, minor, **kwargs)\u001b[0m\n\u001b[0;32m   1889\u001b[0m     labels \u001b[38;5;241m=\u001b[39m ax\u001b[38;5;241m.\u001b[39mget_xticklabels(minor\u001b[38;5;241m=\u001b[39mminor)\n\u001b[0;32m   1890\u001b[0m     \u001b[38;5;28;01mfor\u001b[39;00m l \u001b[38;5;129;01min\u001b[39;00m labels:\n\u001b[1;32m-> 1891\u001b[0m         \u001b[43ml\u001b[49m\u001b[38;5;241;43m.\u001b[39;49m\u001b[43m_internal_update\u001b[49m\u001b[43m(\u001b[49m\u001b[43mkwargs\u001b[49m\u001b[43m)\u001b[49m\n\u001b[0;32m   1892\u001b[0m \u001b[38;5;28;01melse\u001b[39;00m:\n\u001b[0;32m   1893\u001b[0m     labels \u001b[38;5;241m=\u001b[39m ax\u001b[38;5;241m.\u001b[39mset_xticklabels(labels, minor\u001b[38;5;241m=\u001b[39mminor, \u001b[38;5;241m*\u001b[39m\u001b[38;5;241m*\u001b[39mkwargs)\n",
      "File \u001b[1;32mD:\\hh-ds-24-07\\projects\\ds-capstone-recommendation\\.venv\\Lib\\site-packages\\matplotlib\\artist.py:1223\u001b[0m, in \u001b[0;36mArtist._internal_update\u001b[1;34m(self, kwargs)\u001b[0m\n\u001b[0;32m   1216\u001b[0m \u001b[38;5;28;01mdef\u001b[39;00m \u001b[38;5;21m_internal_update\u001b[39m(\u001b[38;5;28mself\u001b[39m, kwargs):\n\u001b[0;32m   1217\u001b[0m \u001b[38;5;250m    \u001b[39m\u001b[38;5;124;03m\"\"\"\u001b[39;00m\n\u001b[0;32m   1218\u001b[0m \u001b[38;5;124;03m    Update artist properties without prenormalizing them, but generating\u001b[39;00m\n\u001b[0;32m   1219\u001b[0m \u001b[38;5;124;03m    errors as if calling `set`.\u001b[39;00m\n\u001b[0;32m   1220\u001b[0m \n\u001b[0;32m   1221\u001b[0m \u001b[38;5;124;03m    The lack of prenormalization is to maintain backcompatibility.\u001b[39;00m\n\u001b[0;32m   1222\u001b[0m \u001b[38;5;124;03m    \"\"\"\u001b[39;00m\n\u001b[1;32m-> 1223\u001b[0m     \u001b[38;5;28;01mreturn\u001b[39;00m \u001b[38;5;28;43mself\u001b[39;49m\u001b[38;5;241;43m.\u001b[39;49m\u001b[43m_update_props\u001b[49m\u001b[43m(\u001b[49m\n\u001b[0;32m   1224\u001b[0m \u001b[43m        \u001b[49m\u001b[43mkwargs\u001b[49m\u001b[43m,\u001b[49m\u001b[43m \u001b[49m\u001b[38;5;124;43m\"\u001b[39;49m\u001b[38;5;132;43;01m{cls.__name__}\u001b[39;49;00m\u001b[38;5;124;43m.set() got an unexpected keyword argument \u001b[39;49m\u001b[38;5;124;43m\"\u001b[39;49m\n\u001b[0;32m   1225\u001b[0m \u001b[43m        \u001b[49m\u001b[38;5;124;43m\"\u001b[39;49m\u001b[38;5;132;43;01m{prop_name!r}\u001b[39;49;00m\u001b[38;5;124;43m\"\u001b[39;49m\u001b[43m)\u001b[49m\n",
      "File \u001b[1;32mD:\\hh-ds-24-07\\projects\\ds-capstone-recommendation\\.venv\\Lib\\site-packages\\matplotlib\\artist.py:1197\u001b[0m, in \u001b[0;36mArtist._update_props\u001b[1;34m(self, props, errfmt)\u001b[0m\n\u001b[0;32m   1195\u001b[0m             func \u001b[38;5;241m=\u001b[39m \u001b[38;5;28mgetattr\u001b[39m(\u001b[38;5;28mself\u001b[39m, \u001b[38;5;124mf\u001b[39m\u001b[38;5;124m\"\u001b[39m\u001b[38;5;124mset_\u001b[39m\u001b[38;5;132;01m{\u001b[39;00mk\u001b[38;5;132;01m}\u001b[39;00m\u001b[38;5;124m\"\u001b[39m, \u001b[38;5;28;01mNone\u001b[39;00m)\n\u001b[0;32m   1196\u001b[0m             \u001b[38;5;28;01mif\u001b[39;00m \u001b[38;5;129;01mnot\u001b[39;00m \u001b[38;5;28mcallable\u001b[39m(func):\n\u001b[1;32m-> 1197\u001b[0m                 \u001b[38;5;28;01mraise\u001b[39;00m \u001b[38;5;167;01mAttributeError\u001b[39;00m(\n\u001b[0;32m   1198\u001b[0m                     errfmt\u001b[38;5;241m.\u001b[39mformat(\u001b[38;5;28mcls\u001b[39m\u001b[38;5;241m=\u001b[39m\u001b[38;5;28mtype\u001b[39m(\u001b[38;5;28mself\u001b[39m), prop_name\u001b[38;5;241m=\u001b[39mk))\n\u001b[0;32m   1199\u001b[0m             ret\u001b[38;5;241m.\u001b[39mappend(func(v))\n\u001b[0;32m   1200\u001b[0m \u001b[38;5;28;01mif\u001b[39;00m ret:\n",
      "\u001b[1;31mAttributeError\u001b[0m: Text.set() got an unexpected keyword argument 'fontesize'"
     ]
    },
    {
     "data": {
      "image/png": "[encoded data removed]",
      "text/plain": [
       "<Figure size 1000x800 with 1 Axes>"
      ]
     },
     "metadata": {},
     "output_type": "display_data"
    }
   ],
   "source": [
    "# hist plot of number of rates per movies\n",
    "\n",
    "df_ml_32m_rating_gb_user = df_ml_32m_rating.groupby('userId')['rating'].count() #.clip(upper=100)\n",
    "df_ml_32m_rating_gb\n",
    "\n",
    "from datetime import datetime\n",
    "\n",
    "sns.set_style(\"whitegrid\")\n",
    "\n",
    "fig, ax0 = plt.subplots(1,1, figsize = (10,8))\n",
    "\n",
    "df_ml_32m_rating_gb_user.hist(bins=50, color='brown', edgecolor='black', alpha=0.7)\n",
    "\n",
    "ax0.set_xlabel('Number of Rating per User',  fontsize = 15.0, fontweight = 'bold')\n",
    "ax0.set_ylabel('Number of Users',  fontsize = 15.0, fontweight = 'bold')\n",
    "\n",
    "ax0.tick_params(axis='both', which = 'both', direction = 'in', width = 3, length = 6)\n",
    "\n",
    "# plt.xticks(rotation='vertical', fontesize = 15)\n",
    "\n",
    "ax0.spines['top'].set_linewidth(2)\n",
    "ax0.spines['right'].set_linewidth(2)\n",
    "ax0.spines['bottom'].set_linewidth(2)\n",
    "ax0.spines['left'].set_linewidth(2)\n",
    "plt.show()"
   ]
  },
  {
   "cell_type": "code",
   "execution_count": 27,
   "id": "56053b63-19b6-49dd-9df7-29728e77e35b",
   "metadata": {
    "tags": []
   },
   "outputs": [
    {
     "data": {
      "text/html": [
       "<div>\n",
       "<style scoped>\n",
       "    .dataframe tbody tr th:only-of-type {\n",
       "        vertical-align: middle;\n",
       "    }\n",
       "\n",
       "    .dataframe tbody tr th {\n",
       "        vertical-align: top;\n",
       "    }\n",
       "\n",
       "    .dataframe thead th {\n",
       "        text-align: right;\n",
       "    }\n",
       "</style>\n",
       "<table border=\"1\" class=\"dataframe\">\n",
       "  <thead>\n",
       "    <tr style=\"text-align: right;\">\n",
       "      <th></th>\n",
       "      <th>userId</th>\n",
       "      <th>rating</th>\n",
       "    </tr>\n",
       "  </thead>\n",
       "  <tbody>\n",
       "    <tr>\n",
       "      <th>413</th>\n",
       "      <td>414</td>\n",
       "      <td>2698</td>\n",
       "    </tr>\n",
       "    <tr>\n",
       "      <th>598</th>\n",
       "      <td>599</td>\n",
       "      <td>2478</td>\n",
       "    </tr>\n",
       "    <tr>\n",
       "      <th>473</th>\n",
       "      <td>474</td>\n",
       "      <td>2108</td>\n",
       "    </tr>\n",
       "    <tr>\n",
       "      <th>447</th>\n",
       "      <td>448</td>\n",
       "      <td>1864</td>\n",
       "    </tr>\n",
       "    <tr>\n",
       "      <th>273</th>\n",
       "      <td>274</td>\n",
       "      <td>1346</td>\n",
       "    </tr>\n",
       "    <tr>\n",
       "      <th>609</th>\n",
       "      <td>610</td>\n",
       "      <td>1302</td>\n",
       "    </tr>\n",
       "    <tr>\n",
       "      <th>67</th>\n",
       "      <td>68</td>\n",
       "      <td>1260</td>\n",
       "    </tr>\n",
       "    <tr>\n",
       "      <th>379</th>\n",
       "      <td>380</td>\n",
       "      <td>1218</td>\n",
       "    </tr>\n",
       "    <tr>\n",
       "      <th>605</th>\n",
       "      <td>606</td>\n",
       "      <td>1115</td>\n",
       "    </tr>\n",
       "    <tr>\n",
       "      <th>287</th>\n",
       "      <td>288</td>\n",
       "      <td>1055</td>\n",
       "    </tr>\n",
       "  </tbody>\n",
       "</table>\n",
       "</div>"
      ],
      "text/plain": [
       "     userId  rating\n",
       "413     414    2698\n",
       "598     599    2478\n",
       "473     474    2108\n",
       "447     448    1864\n",
       "273     274    1346\n",
       "609     610    1302\n",
       "67       68    1260\n",
       "379     380    1218\n",
       "605     606    1115\n",
       "287     288    1055"
      ]
     },
     "execution_count": 27,
     "metadata": {},
     "output_type": "execute_result"
    }
   ],
   "source": [
    "df_ml_32m_rating_gb_user.reset_index().sort_values('rating', ascending=False)[:10]"
   ]
  },
  {
   "cell_type": "markdown",
   "id": "49367407-4e3a-403d-80b4-7c46f07833d5",
   "metadata": {},
   "source": [
    "#### ***Dimensionalty Reduction***\n",
    "To reduce the dimensionality of the data set, and avoid running into “memory error”, we will filter out rarely rated books (rated less than 20) and rarely rating users (rated below 20 movies)."
   ]
  },
  {
   "cell_type": "code",
   "execution_count": 61,
   "id": "180dc4e7-54d9-4f1a-9050-58b98fa8e0d4",
   "metadata": {
    "tags": []
   },
   "outputs": [
    {
     "name": "stdout",
     "output_type": "stream",
     "text": [
      "The original data frame shape:\t(100836, 5)\n",
      "The new data frame shape:\t(66405, 5)\n"
     ]
    }
   ],
   "source": [
    "min_movie_ratings = 20\n",
    "filter_movies = df_ml_32m_rating['movieId'].value_counts() > min_movie_ratings\n",
    "filter_movies = filter_movies[filter_movies].index.tolist()\n",
    "\n",
    "min_user_ratings = 20\n",
    "filter_users = df_ml_32m_rating['userId'].value_counts() > min_user_ratings\n",
    "filter_users = filter_users[filter_users].index.tolist()\n",
    "\n",
    "df_ml_32m_rating_red = df_ml_32m_rating[(df_ml_32m_rating['movieId'].isin(filter_movies)) & (df_ml_32m_rating['userId'].isin(filter_users))]\n",
    "print('The original data frame shape:\\t{}'.format(df_ml_32m_rating.shape))\n",
    "print('The new data frame shape:\\t{}'.format(df_ml_32m_rating_red.shape))\n",
    "\n",
    "df_ml_32m_rating_red.to_csv(('./data/ml-latest-small/ratings_red.csv'))"
   ]
  },
  {
   "cell_type": "markdown",
   "id": "146561da-ebfd-4d24-b132-4ad23ab3a94e",
   "metadata": {},
   "source": [
    "#### ***Vizulization of Data Sets***\n",
    "***Table Movies***"
   ]
  },
  {
   "cell_type": "code",
   "execution_count": 93,
   "id": "f317e4e3-9ae4-47c4-a824-951d608d7e1c",
   "metadata": {
    "tags": []
   },
   "outputs": [
    {
     "data": {
      "image/png": "[encoded data removed]",
      "text/plain": [
       "<Figure size 1000x800 with 1 Axes>"
      ]
     },
     "metadata": {},
     "output_type": "display_data"
    }
   ],
   "source": [
    "# Distribution of Released year\n",
    "sns.set_style(\"whitegrid\")\n",
    "\n",
    "fig, ax0 = plt.subplots(1,1, figsize = (10,8))\n",
    "\n",
    "df_ml_32m_movies['release_yr'].hist(bins=10, color='skyblue', edgecolor='black', alpha=0.7)\n",
    "\n",
    "ax0.set_xlabel('Release Year',  fontsize = 15.0, fontweight = 'bold')\n",
    "ax0.set_ylabel('Number of Movies',  fontsize = 15.0, fontweight = 'bold')\n",
    "\n",
    "ax0.tick_params(axis='both', which = 'both', direction = 'in', width = 3, length = 6)\n",
    "\n",
    "ax0.spines['top'].set_linewidth(2)\n",
    "ax0.spines['right'].set_linewidth(2)\n",
    "ax0.spines['bottom'].set_linewidth(2)\n",
    "ax0.spines['left'].set_linewidth(2)\n",
    "plt.show()\n",
    "\n",
    "\n"
   ]
  },
  {
   "cell_type": "code",
   "execution_count": 40,
   "id": "7dce9c54-47b1-493e-acc3-88d7f5e35349",
   "metadata": {
    "tags": []
   },
   "outputs": [],
   "source": [
    "# df_ml_32m_movies_genres_flatten = df_ml_32m_movies.genres.explode().astype(str)\n",
    "\n",
    "# df_ml_32m_movies_genres_flatten.unique()"
   ]
  },
  {
   "cell_type": "code",
   "execution_count": 39,
   "id": "581ba09f-4aae-438e-bb8a-b4c234272fcb",
   "metadata": {
    "tags": []
   },
   "outputs": [],
   "source": [
    "# df_ml_32m_movies_genres_flatten.value_counts()"
   ]
  },
  {
   "cell_type": "code",
   "execution_count": 41,
   "id": "eb5fd006-e96d-4887-9150-ee841d87e23a",
   "metadata": {
    "tags": []
   },
   "outputs": [
    {
     "data": {
      "image/png": "[encoded data removed]",
      "text/plain": [
       "<Figure size 1500x800 with 1 Axes>"
      ]
     },
     "metadata": {},
     "output_type": "display_data"
    }
   ],
   "source": [
    "# plotting a histogram of genres of movies\n",
    "sns.set_style(\"whitegrid\")\n",
    "#\n",
    "df_ml_32m_movies_genres_flatten = df_ml_32m_movies.genres.explode().astype(str)\n",
    "\n",
    "n_genres = df_ml_32m_movies_genres_flatten.nunique()\n",
    "\n",
    "fig, ax0 = plt.subplots(1,1, figsize = (15,8))\n",
    "\n",
    "\n",
    "df_ml_32m_movies_genres_flatten.hist(bins = n_genres, color='skyblue', edgecolor='black', alpha=0.7)\n",
    "\n",
    "ax0.set_xlabel('Release Year',  fontsize = 15.0, fontweight = 'bold', )\n",
    "ax0.set_ylabel('Number of Movies',  fontsize = 15.0, fontweight = 'bold')\n",
    "\n",
    "ax0.tick_params(axis='both', which = 'both', direction = 'in', width = 3, length = 6)\n",
    "\n",
    "plt.xticks(rotation=45)  # Rotate x-axis labels by 45 degrees\n",
    "\n",
    "ax0.spines['top'].set_linewidth(2)\n",
    "ax0.spines['right'].set_linewidth(2)\n",
    "ax0.spines['bottom'].set_linewidth(2)\n",
    "ax0.spines['left'].set_linewidth(2)\n",
    "plt.show()"
   ]
  },
  {
   "cell_type": "markdown",
   "id": "3eabde93-83ba-4861-9f0e-713ad39bc6ca",
   "metadata": {},
   "source": [
    "#### ***Vizulization of Data Sets***\n",
    "***Table Movies***\\\n",
    "***Plotting the 10 most rated movies***"
   ]
  },
  {
   "cell_type": "code",
   "execution_count": 108,
   "id": "69b48897-64e3-4376-a37b-af203d5110d3",
   "metadata": {
    "tags": []
   },
   "outputs": [],
   "source": [
    "# make a groupby and count method to list movies in terms of how many times rated. \n",
    "rating_per_movie = df_ml_32m_rating.groupby('movieId')['rating'].count()\n",
    "ave_rating_per_movie = df_ml_32m_rating.groupby('movieId')['rating'].mean()"
   ]
  },
  {
   "cell_type": "code",
   "execution_count": 109,
   "id": "8efb09de-98e2-4f99-9f60-a232ab72e559",
   "metadata": {
    "tags": []
   },
   "outputs": [],
   "source": [
    "# select the movies with number of rating over 200 times\n",
    "most_rated_movie=rating_per_movie.loc[rating_per_movie>200]\n",
    "ave_rate_movie=ave_rating_per_movie.loc[ave_rating_per_movie>3.5]\n",
    "\n",
    "# order the serie values decending \n",
    "most_rated_movie = most_rated_movie.sort_values(ascending=False)\n",
    "ave_rate_movie = ave_rate_movie.sort_values(ascending=False)\n",
    "# now get the index (movieId) so that later find the corresponding titles in the movie table.\n",
    "most_rated_movie_index = most_rated_movie.index\n",
    "ave_rate_movie_index = ave_rate_movie.index"
   ]
  },
  {
   "cell_type": "code",
   "execution_count": 115,
   "id": "7d7641b0-ddd2-4d13-a7a0-146c5ad779d8",
   "metadata": {
    "tags": []
   },
   "outputs": [
    {
     "data": {
      "text/plain": [
       "(movieId\n",
       " 149566    5.000000\n",
       " 86668     5.000000\n",
       " 2512      5.000000\n",
       " 162344    5.000000\n",
       " 142020    5.000000\n",
       "             ...   \n",
       " 4816      3.509259\n",
       " 70        3.509091\n",
       " 34162     3.508621\n",
       " 45722     3.506944\n",
       " 2011      3.505747\n",
       " Name: rating, Length: 3768, dtype: float64,\n",
       " 3.509259259259259)"
      ]
     },
     "execution_count": 115,
     "metadata": {},
     "output_type": "execute_result"
    }
   ],
   "source": [
    "ave_rate_movie, ave_rate_movie[4816]"
   ]
  },
  {
   "cell_type": "code",
   "execution_count": 77,
   "id": "19ee5626-9caf-4685-9c50-bc2bc055b8f5",
   "metadata": {},
   "outputs": [],
   "source": [
    "# here we get the titles from the movie table using the index of most rated movies.\n",
    "most_rated_movie_titles = df_ml_32m_movies[df_ml_32m_movies['movieId'].isin(most_rated_movie_index)]['title'].tolist()  #['title'][movieId == most_rated_movie_index]"
   ]
  },
  {
   "cell_type": "code",
   "execution_count": 119,
   "id": "6ae47cd7-739e-4a30-8327-fab0111419ec",
   "metadata": {
    "tags": []
   },
   "outputs": [
    {
     "data": {
      "image/png": "[encoded data removed]",
      "text/plain": [
       "<Figure size 1000x600 with 1 Axes>"
      ]
     },
     "metadata": {},
     "output_type": "display_data"
    }
   ],
   "source": [
    "import matplotlib.pyplot as plt\n",
    "import pandas as pd\n",
    "\n",
    "# Sample data\n",
    "# data = {\n",
    "#     'Fruits': ['Apples', 'Bananas', 'Cherries', 'Dates', 'Figs'],\n",
    "#     'Quantity': [25, 40, 15, 30, 10]\n",
    "# }\n",
    "# df = pd.DataFrame(data)\n",
    "\n",
    "# Plotting the bar chart\n",
    "plt.figure(figsize=(10, 6))  # Set figure size\n",
    "bars = plt.bar(most_rated_movie_titles[:10], most_rated_movie[:10], color='skyblue', edgecolor='black')\n",
    "\n",
    "# Add titles and labels\n",
    "plt.title('10 Most Rated Movies', fontsize=16)\n",
    "plt.xlabel('Movie', fontsize=15.0, fontweight = 'bold')\n",
    "plt.ylabel('Number of Rates', fontsize=15.0, fontweight = 'bold')\n",
    "\n",
    "# Add value labels on top of each bar\n",
    "i = 0\n",
    "for bar in bars:\n",
    "    plt.text(\n",
    "        bar.get_x() + bar.get_width() / 2,  # X position at center of bar\n",
    "        bar.get_height(),                   # Y position at bar height\n",
    "        f'{bar.get_height()} ({ave_rate_movie[most_rated_movie_index[i]].round(2)})',              # Text as bar height\n",
    "        ha='center',                        # Center alignment for X\n",
    "        va='bottom',                        # Bottom alignment for Y\n",
    "        fontsize=12                         # Font size for clarity\n",
    "    )\n",
    "    i+=1\n",
    "    \n",
    "# Optional: Rotate x-axis labels if needed\n",
    "plt.xticks(rotation=45, ha='right')\n",
    "\n",
    "ax0.tick_params(axis='both', which = 'both', direction = 'in', width = 3, length = 6)\n",
    "\n",
    "\n",
    "ax0.spines['top'].set_linewidth(2)\n",
    "ax0.spines['right'].set_linewidth(2)\n",
    "ax0.spines['bottom'].set_linewidth(2)\n",
    "ax0.spines['left'].set_linewidth(2)\n",
    "\n",
    "# Display the chart\n",
    "plt.tight_layout()  # Adjust layout to fit all labels\n",
    "plt.show()\n"
   ]
  },
  {
   "cell_type": "markdown",
   "id": "023a3537-b785-4b1c-a00e-f41148f8ad09",
   "metadata": {},
   "source": [
    "#### ***Vizulization of Data Sets***\n",
    "***Table Movies***\\\n",
    "***Plotting the 10 top movies with highest rating average***"
   ]
  },
  {
   "cell_type": "code",
   "execution_count": 90,
   "id": "12e39588-a7f5-47a2-b203-340100c35a61",
   "metadata": {
    "tags": []
   },
   "outputs": [],
   "source": [
    "# make a groupby and count method to list movies in terms of how many times rated. \n",
    "rating_per_movie_ave = df_ml_32m_rating.groupby('movieId')['rating'].mean()"
   ]
  },
  {
   "cell_type": "code",
   "execution_count": 93,
   "id": "6f2dd1d4-9e16-4f8d-bf1b-ea883c9d595c",
   "metadata": {
    "tags": []
   },
   "outputs": [
    {
     "data": {
      "text/plain": [
       "3768"
      ]
     },
     "execution_count": 93,
     "metadata": {},
     "output_type": "execute_result"
    }
   ],
   "source": [
    "# select the movies with average rating over 3.5\n",
    "popular_movie=rating_per_movie_ave.loc[rating_per_movie_ave>3.5]\n",
    "# order the serie values decending \n",
    "popular_movie = popular_movie.sort_values(ascending=False)\n",
    "# now get the index (movieId) so that later find the corresponding titles in the movie table.\n",
    "popular_movie_index = popular_movie.index\n",
    "len(popular_movie_index)"
   ]
  },
  {
   "cell_type": "code",
   "execution_count": 100,
   "id": "b2f70417-6dc5-4f9c-a7fe-e620b675e16f",
   "metadata": {
    "tags": []
   },
   "outputs": [],
   "source": [
    "pop_index = popular_movie_index[popular_movie_index.isin(most_rated_movie_index)]"
   ]
  },
  {
   "cell_type": "code",
   "execution_count": 102,
   "id": "ed13e6cf-52d5-42ba-9ea5-974164a91a25",
   "metadata": {
    "tags": []
   },
   "outputs": [
    {
     "data": {
      "text/plain": [
       "17"
      ]
     },
     "execution_count": 102,
     "metadata": {},
     "output_type": "execute_result"
    }
   ],
   "source": [
    "len(pop_index)"
   ]
  },
  {
   "cell_type": "code",
   "execution_count": 103,
   "id": "55f6deb0-47bf-4d5f-bb82-e9eb8a7a9a7e",
   "metadata": {
    "tags": []
   },
   "outputs": [],
   "source": [
    "# here we get the titles from the movie table using the index of most rated movies.\n",
    "most_popular_movie_titles = df_ml_32m_movies[df_ml_32m_movies['movieId'].isin(pop_index)]['title'].tolist()"
   ]
  },
  {
   "cell_type": "code",
   "execution_count": 104,
   "id": "a33339b7-80a2-4ee6-8778-3c5a3dd2ef93",
   "metadata": {
    "tags": []
   },
   "outputs": [
    {
     "data": {
      "text/plain": [
       "['Toy Story ',\n",
       " 'Seven (a.k.a. Se7en) ',\n",
       " 'Usual Suspects, The ',\n",
       " 'Braveheart ',\n",
       " 'Apollo 13 ',\n",
       " 'Star Wars: Episode IV - A New Hope ',\n",
       " 'Pulp Fiction ',\n",
       " 'Shawshank Redemption, The ',\n",
       " 'Forrest Gump ',\n",
       " 'Jurassic Park ',\n",
       " \"Schindler's List \",\n",
       " 'Terminator 2: Judgment Day ',\n",
       " 'Silence of the Lambs, The ',\n",
       " 'Star Wars: Episode V - The Empire Strikes Back ',\n",
       " 'Matrix, The ',\n",
       " 'American Beauty ',\n",
       " 'Fight Club ']"
      ]
     },
     "execution_count": 104,
     "metadata": {},
     "output_type": "execute_result"
    }
   ],
   "source": [
    "most_popular_movie_titles"
   ]
  },
  {
   "cell_type": "code",
   "execution_count": 106,
   "id": "583ac4dc-59d0-4dd1-81bd-efd930117e7c",
   "metadata": {
    "tags": []
   },
   "outputs": [
    {
     "ename": "KeyError",
     "evalue": "'movieId'",
     "output_type": "error",
     "traceback": [
      "\u001b[1;31m---------------------------------------------------------------------------\u001b[0m",
      "\u001b[1;31mKeyError\u001b[0m                                  Traceback (most recent call last)",
      "File \u001b[1;32mD:\\hh-ds-24-07\\projects\\ds-capstone-recommendation\\.venv\\Lib\\site-packages\\pandas\\core\\indexes\\base.py:3652\u001b[0m, in \u001b[0;36mIndex.get_loc\u001b[1;34m(self, key)\u001b[0m\n\u001b[0;32m   3651\u001b[0m \u001b[38;5;28;01mtry\u001b[39;00m:\n\u001b[1;32m-> 3652\u001b[0m     \u001b[38;5;28;01mreturn\u001b[39;00m \u001b[38;5;28;43mself\u001b[39;49m\u001b[38;5;241;43m.\u001b[39;49m\u001b[43m_engine\u001b[49m\u001b[38;5;241;43m.\u001b[39;49m\u001b[43mget_loc\u001b[49m\u001b[43m(\u001b[49m\u001b[43mcasted_key\u001b[49m\u001b[43m)\u001b[49m\n\u001b[0;32m   3653\u001b[0m \u001b[38;5;28;01mexcept\u001b[39;00m \u001b[38;5;167;01mKeyError\u001b[39;00m \u001b[38;5;28;01mas\u001b[39;00m err:\n",
      "File \u001b[1;32mD:\\hh-ds-24-07\\projects\\ds-capstone-recommendation\\.venv\\Lib\\site-packages\\pandas\\_libs\\index.pyx:147\u001b[0m, in \u001b[0;36mpandas._libs.index.IndexEngine.get_loc\u001b[1;34m()\u001b[0m\n",
      "File \u001b[1;32mD:\\hh-ds-24-07\\projects\\ds-capstone-recommendation\\.venv\\Lib\\site-packages\\pandas\\_libs\\index.pyx:155\u001b[0m, in \u001b[0;36mpandas._libs.index.IndexEngine.get_loc\u001b[1;34m()\u001b[0m\n",
      "File \u001b[1;32mpandas\\_libs\\index_class_helper.pxi:70\u001b[0m, in \u001b[0;36mpandas._libs.index.Int64Engine._check_type\u001b[1;34m()\u001b[0m\n",
      "\u001b[1;31mKeyError\u001b[0m: 'movieId'",
      "\nThe above exception was the direct cause of the following exception:\n",
      "\u001b[1;31mKeyError\u001b[0m                                  Traceback (most recent call last)",
      "Cell \u001b[1;32mIn[106], line 1\u001b[0m\n\u001b[1;32m----> 1\u001b[0m most_popular_movie_titles \u001b[38;5;241m=\u001b[39m rating_per_movie_ave[\u001b[43mrating_per_movie_ave\u001b[49m\u001b[43m[\u001b[49m\u001b[38;5;124;43m'\u001b[39;49m\u001b[38;5;124;43mmovieId\u001b[39;49m\u001b[38;5;124;43m'\u001b[39;49m\u001b[43m]\u001b[49m\u001b[38;5;241m.\u001b[39misin(pop_index)][\u001b[38;5;124m'\u001b[39m\u001b[38;5;124mtitle\u001b[39m\u001b[38;5;124m'\u001b[39m]\u001b[38;5;241m.\u001b[39mtolist()\n",
      "File \u001b[1;32mD:\\hh-ds-24-07\\projects\\ds-capstone-recommendation\\.venv\\Lib\\site-packages\\pandas\\core\\series.py:1007\u001b[0m, in \u001b[0;36mSeries.__getitem__\u001b[1;34m(self, key)\u001b[0m\n\u001b[0;32m   1004\u001b[0m     \u001b[38;5;28;01mreturn\u001b[39;00m \u001b[38;5;28mself\u001b[39m\u001b[38;5;241m.\u001b[39m_values[key]\n\u001b[0;32m   1006\u001b[0m \u001b[38;5;28;01melif\u001b[39;00m key_is_scalar:\n\u001b[1;32m-> 1007\u001b[0m     \u001b[38;5;28;01mreturn\u001b[39;00m \u001b[38;5;28;43mself\u001b[39;49m\u001b[38;5;241;43m.\u001b[39;49m\u001b[43m_get_value\u001b[49m\u001b[43m(\u001b[49m\u001b[43mkey\u001b[49m\u001b[43m)\u001b[49m\n\u001b[0;32m   1009\u001b[0m \u001b[38;5;28;01mif\u001b[39;00m is_hashable(key):\n\u001b[0;32m   1010\u001b[0m     \u001b[38;5;66;03m# Otherwise index.get_value will raise InvalidIndexError\u001b[39;00m\n\u001b[0;32m   1011\u001b[0m     \u001b[38;5;28;01mtry\u001b[39;00m:\n\u001b[0;32m   1012\u001b[0m         \u001b[38;5;66;03m# For labels that don't resolve as scalars like tuples and frozensets\u001b[39;00m\n",
      "File \u001b[1;32mD:\\hh-ds-24-07\\projects\\ds-capstone-recommendation\\.venv\\Lib\\site-packages\\pandas\\core\\series.py:1116\u001b[0m, in \u001b[0;36mSeries._get_value\u001b[1;34m(self, label, takeable)\u001b[0m\n\u001b[0;32m   1113\u001b[0m     \u001b[38;5;28;01mreturn\u001b[39;00m \u001b[38;5;28mself\u001b[39m\u001b[38;5;241m.\u001b[39m_values[label]\n\u001b[0;32m   1115\u001b[0m \u001b[38;5;66;03m# Similar to Index.get_value, but we do not fall back to positional\u001b[39;00m\n\u001b[1;32m-> 1116\u001b[0m loc \u001b[38;5;241m=\u001b[39m \u001b[38;5;28;43mself\u001b[39;49m\u001b[38;5;241;43m.\u001b[39;49m\u001b[43mindex\u001b[49m\u001b[38;5;241;43m.\u001b[39;49m\u001b[43mget_loc\u001b[49m\u001b[43m(\u001b[49m\u001b[43mlabel\u001b[49m\u001b[43m)\u001b[49m\n\u001b[0;32m   1118\u001b[0m \u001b[38;5;28;01mif\u001b[39;00m is_integer(loc):\n\u001b[0;32m   1119\u001b[0m     \u001b[38;5;28;01mreturn\u001b[39;00m \u001b[38;5;28mself\u001b[39m\u001b[38;5;241m.\u001b[39m_values[loc]\n",
      "File \u001b[1;32mD:\\hh-ds-24-07\\projects\\ds-capstone-recommendation\\.venv\\Lib\\site-packages\\pandas\\core\\indexes\\base.py:3654\u001b[0m, in \u001b[0;36mIndex.get_loc\u001b[1;34m(self, key)\u001b[0m\n\u001b[0;32m   3652\u001b[0m     \u001b[38;5;28;01mreturn\u001b[39;00m \u001b[38;5;28mself\u001b[39m\u001b[38;5;241m.\u001b[39m_engine\u001b[38;5;241m.\u001b[39mget_loc(casted_key)\n\u001b[0;32m   3653\u001b[0m \u001b[38;5;28;01mexcept\u001b[39;00m \u001b[38;5;167;01mKeyError\u001b[39;00m \u001b[38;5;28;01mas\u001b[39;00m err:\n\u001b[1;32m-> 3654\u001b[0m     \u001b[38;5;28;01mraise\u001b[39;00m \u001b[38;5;167;01mKeyError\u001b[39;00m(key) \u001b[38;5;28;01mfrom\u001b[39;00m \u001b[38;5;21;01merr\u001b[39;00m\n\u001b[0;32m   3655\u001b[0m \u001b[38;5;28;01mexcept\u001b[39;00m \u001b[38;5;167;01mTypeError\u001b[39;00m:\n\u001b[0;32m   3656\u001b[0m     \u001b[38;5;66;03m# If we have a listlike key, _check_indexing_error will raise\u001b[39;00m\n\u001b[0;32m   3657\u001b[0m     \u001b[38;5;66;03m#  InvalidIndexError. Otherwise we fall through and re-raise\u001b[39;00m\n\u001b[0;32m   3658\u001b[0m     \u001b[38;5;66;03m#  the TypeError.\u001b[39;00m\n\u001b[0;32m   3659\u001b[0m     \u001b[38;5;28mself\u001b[39m\u001b[38;5;241m.\u001b[39m_check_indexing_error(key)\n",
      "\u001b[1;31mKeyError\u001b[0m: 'movieId'"
     ]
    }
   ],
   "source": [
    "most_popular_movie_titles = rating_per_movie_ave[rating_per_movie_ave['movieId'].isin(pop_index)]['title'].tolist()"
   ]
  },
  {
   "cell_type": "code",
   "execution_count": null,
   "id": "0c59d5e4-73e4-4627-adae-866c721abd3c",
   "metadata": {},
   "outputs": [],
   "source": []
  }
 ],
 "metadata": {
  "kernelspec": {
   "display_name": "Python 3 (ipykernel)",
   "language": "python",
   "name": "python3"
  },
  "language_info": {
   "codemirror_mode": {
    "name": "ipython",
    "version": 3
   },
   "file_extension": ".py",
   "mimetype": "text/x-python",
   "name": "python",
   "nbconvert_exporter": "python",
   "pygments_lexer": "ipython3",
   "version": "3.11.3"
  }
 },
 "nbformat": 4,
 "nbformat_minor": 5
}
