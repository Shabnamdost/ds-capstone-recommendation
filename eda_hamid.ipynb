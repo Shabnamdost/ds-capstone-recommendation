{
 "cells": [
  {
   "cell_type": "markdown",
   "id": "d145d3f5",
   "metadata": {},
   "source": [
    "# EDA Process\n",
    "<hr style=\"border:2px solid black\">"
   ]
  },
  {
   "cell_type": "markdown",
   "id": "1f47b9c9-3fc6-4c7b-99fc-a358bbbeae33",
   "metadata": {},
   "source": [
    "- This notebook serves to read and join the tables from different data set.\n",
    "- The reader is expected to run the codes and try to understand the contents of the data files"
   ]
  },
  {
   "cell_type": "code",
   "execution_count": null,
   "id": "f3159bd9-5b00-4982-8116-dda0118f5a7b",
   "metadata": {},
   "outputs": [],
   "source": [
    "## A tagline is a short description or comment on a movie that is displayed on movie posters (or direct to video covers, etc.) to capture the essence of the movie, and ultimately make you watch the movie."
   ]
  },
  {
   "cell_type": "markdown",
   "id": "80404529-977c-471d-9373-9b806eed5768",
   "metadata": {},
   "source": [
    "#### Ideas for joining the Tables\n",
    "- ???"
   ]
  },
  {
   "cell_type": "markdown",
   "id": "5e60e499",
   "metadata": {},
   "source": [
    "#### load packages"
   ]
  },
  {
   "cell_type": "code",
   "execution_count": 143,
   "id": "1fe9ec85-d895-4eb1-ae62-9850ac71ab12",
   "metadata": {
    "tags": []
   },
   "outputs": [],
   "source": [
    "# !pip install mplcyberpunk"
   ]
  },
  {
   "cell_type": "code",
   "execution_count": 64,
   "id": "9f80539a",
   "metadata": {
    "tags": []
   },
   "outputs": [],
   "source": [
    "import sys\n",
    "\n",
    "import io\n",
    "import matplotlib.pyplot as plt\n",
    "import mplcyberpunk\\\n",
    "# data analysis stack\n",
    "import numpy as np\n",
    "import pandas as pd\n",
    "\n",
    "import time\n",
    "import tkinter as tk\n",
    "\n",
    "\n",
    "# data visualization stack\n",
    "import seaborn as sns\n",
    "import matplotlib.pyplot as plt\n",
    "# import missingno as msno\n",
    "\n",
    "%matplotlib inline\n",
    "# import seaborn as sns\n",
    "# sns.set_style('whitegrid')\n",
    "\n",
    "# for data cleaning\n",
    "from sklearn.impute import KNNImputer\n",
    "\n",
    "\n",
    "# miscellaneous\n",
    "import warnings\n",
    "warnings.filterwarnings(\"ignore\")\n",
    "\n",
    "\n",
    "# Set display\n",
    "pd.set_option('display.max_columns', None)"
   ]
  },
  {
   "cell_type": "markdown",
   "id": "997025c0",
   "metadata": {},
   "source": [
    "#### load data, first data set from\n",
    "https://www.kaggle.com/datasets/tmdb/tmdb-movie-metadata/data"
   ]
  },
  {
   "cell_type": "code",
   "execution_count": 79,
   "id": "bdaaf129",
   "metadata": {
    "tags": []
   },
   "outputs": [],
   "source": [
    "df_tmdb_credits = pd.read_csv('./data/tmdb_5000_credits.csv')"
   ]
  },
  {
   "cell_type": "code",
   "execution_count": 80,
   "id": "2fd88430-1a47-455a-aa41-ccb58a1a7ab6",
   "metadata": {
    "tags": []
   },
   "outputs": [],
   "source": [
    "df_tmdb_movies = pd.read_csv('./data/tmdb_5000_movies.csv')"
   ]
  },
  {
   "cell_type": "code",
   "execution_count": 113,
   "id": "ad6d3e9b-d8e8-4fb1-ae0d-7fc699a8d4ed",
   "metadata": {
    "tags": []
   },
   "outputs": [],
   "source": [
    "# df_tmdb_credits.head(2)"
   ]
  },
  {
   "cell_type": "code",
   "execution_count": 114,
   "id": "2187e267-3b4d-487c-a411-9326b364a2e3",
   "metadata": {
    "tags": []
   },
   "outputs": [],
   "source": [
    "# df_tmdb_movies.head(2)"
   ]
  },
  {
   "cell_type": "markdown",
   "id": "7f6caaf7-2e5f-4195-afea-519950d03199",
   "metadata": {},
   "source": [
    "#### load data, Second data set from\n",
    "https://grouplens.org/datasets/movielens/"
   ]
  },
  {
   "cell_type": "code",
   "execution_count": 2,
   "id": "eed0fc2d-7be9-4cb6-9345-2a114b3e381e",
   "metadata": {
    "tags": []
   },
   "outputs": [],
   "source": [
    "df_ml_32m_rating = pd.read_csv('./data/ml-latest-small/ratings.csv')"
   ]
  },
  {
   "cell_type": "code",
   "execution_count": 206,
   "id": "3d84e1fa-a027-4031-8fa2-1c6a3b6dd509",
   "metadata": {
    "tags": []
   },
   "outputs": [],
   "source": [
    "# df_ml_32m_rating.head(100)"
   ]
  },
  {
   "cell_type": "code",
   "execution_count": 3,
   "id": "7a7882ca-1772-4405-a085-9f5a573fa9c9",
   "metadata": {
    "tags": []
   },
   "outputs": [],
   "source": [
    "df_ml_32m_links = pd.read_csv('./data/ml-latest-small/links.csv')"
   ]
  },
  {
   "cell_type": "code",
   "execution_count": 45,
   "id": "de80204e-2aa6-46ed-b8c5-790e15dc5e9e",
   "metadata": {
    "tags": []
   },
   "outputs": [],
   "source": [
    "df_ml_32m_movies = pd.read_csv('./data/ml-latest-small/movies.csv')"
   ]
  },
  {
   "cell_type": "code",
   "execution_count": 5,
   "id": "1684ebff-e0f9-4233-9789-875977e26fc6",
   "metadata": {
    "tags": []
   },
   "outputs": [],
   "source": [
    "df_ml_32m_tags = pd.read_csv('./data/ml-latest-small/tags.csv')"
   ]
  },
  {
   "cell_type": "code",
   "execution_count": 6,
   "id": "cf1cbbc5-1600-46d6-ac24-8a239cd009c2",
   "metadata": {
    "tags": []
   },
   "outputs": [
    {
     "data": {
      "text/plain": [
       "(58, 610)"
      ]
     },
     "execution_count": 6,
     "metadata": {},
     "output_type": "execute_result"
    }
   ],
   "source": [
    "# df_ml_32m_tags.userId.nunique(), df_ml_32m_rating.userId.nunique()"
   ]
  },
  {
   "cell_type": "markdown",
   "id": "8471dd0c-64d2-4b39-8cf6-d6935b8e9448",
   "metadata": {},
   "source": [
    "#### ***Data Cleaning of Data Sets***\n",
    "***Table Rating***"
   ]
  },
  {
   "cell_type": "code",
   "execution_count": 63,
   "id": "0a88d073-74f0-4698-b6bd-28e279d7e8a8",
   "metadata": {
    "tags": []
   },
   "outputs": [],
   "source": [
    "# df_ml_32m_rating.info()\n",
    "# no missing value found"
   ]
  },
  {
   "cell_type": "code",
   "execution_count": 7,
   "id": "641750f4-3c2b-4fa5-aa0f-51947b98a107",
   "metadata": {
    "tags": []
   },
   "outputs": [],
   "source": [
    "# here we convert the seconds (in timestamp column) into real time-stamp\n",
    "from datetime import datetime\n",
    "\n",
    "# Convert seconds to a datetime object\n",
    "for i in range(len(df_ml_32m_rating.timestamp)):\n",
    "    df_ml_32m_rating.loc[i, 'time_stamp'] = datetime.fromtimestamp(df_ml_32m_rating.loc[i, 'timestamp']) "
   ]
  },
  {
   "cell_type": "code",
   "execution_count": 8,
   "id": "97a82b7f-2dd2-42e8-98d6-edac4b94740c",
   "metadata": {
    "tags": []
   },
   "outputs": [],
   "source": [
    "# now droppingh inplace the old timestamp col and rename the new one \n",
    "df_ml_32m_rating = df_ml_32m_rating.drop('timestamp', axis = 1, inplace = False)  "
   ]
  },
  {
   "cell_type": "code",
   "execution_count": 9,
   "id": "22d66476-770b-4585-bf01-1e7f32e77892",
   "metadata": {
    "tags": []
   },
   "outputs": [
    {
     "data": {
      "text/html": [
       "<div>\n",
       "<style scoped>\n",
       "    .dataframe tbody tr th:only-of-type {\n",
       "        vertical-align: middle;\n",
       "    }\n",
       "\n",
       "    .dataframe tbody tr th {\n",
       "        vertical-align: top;\n",
       "    }\n",
       "\n",
       "    .dataframe thead th {\n",
       "        text-align: right;\n",
       "    }\n",
       "</style>\n",
       "<table border=\"1\" class=\"dataframe\">\n",
       "  <thead>\n",
       "    <tr style=\"text-align: right;\">\n",
       "      <th></th>\n",
       "      <th>userId</th>\n",
       "      <th>movieId</th>\n",
       "      <th>rating</th>\n",
       "      <th>time_stamp</th>\n",
       "    </tr>\n",
       "  </thead>\n",
       "  <tbody>\n",
       "    <tr>\n",
       "      <th>0</th>\n",
       "      <td>1</td>\n",
       "      <td>1</td>\n",
       "      <td>4.0</td>\n",
       "      <td>2000-07-30 20:45:03</td>\n",
       "    </tr>\n",
       "    <tr>\n",
       "      <th>1</th>\n",
       "      <td>1</td>\n",
       "      <td>3</td>\n",
       "      <td>4.0</td>\n",
       "      <td>2000-07-30 20:20:47</td>\n",
       "    </tr>\n",
       "    <tr>\n",
       "      <th>2</th>\n",
       "      <td>1</td>\n",
       "      <td>6</td>\n",
       "      <td>4.0</td>\n",
       "      <td>2000-07-30 20:37:04</td>\n",
       "    </tr>\n",
       "    <tr>\n",
       "      <th>3</th>\n",
       "      <td>1</td>\n",
       "      <td>47</td>\n",
       "      <td>5.0</td>\n",
       "      <td>2000-07-30 21:03:35</td>\n",
       "    </tr>\n",
       "    <tr>\n",
       "      <th>4</th>\n",
       "      <td>1</td>\n",
       "      <td>50</td>\n",
       "      <td>5.0</td>\n",
       "      <td>2000-07-30 20:48:51</td>\n",
       "    </tr>\n",
       "  </tbody>\n",
       "</table>\n",
       "</div>"
      ],
      "text/plain": [
       "   userId  movieId  rating          time_stamp\n",
       "0       1        1     4.0 2000-07-30 20:45:03\n",
       "1       1        3     4.0 2000-07-30 20:20:47\n",
       "2       1        6     4.0 2000-07-30 20:37:04\n",
       "3       1       47     5.0 2000-07-30 21:03:35\n",
       "4       1       50     5.0 2000-07-30 20:48:51"
      ]
     },
     "execution_count": 9,
     "metadata": {},
     "output_type": "execute_result"
    }
   ],
   "source": [
    "df_ml_32m_rating.head()"
   ]
  },
  {
   "cell_type": "markdown",
   "id": "476aca0f-0681-4b2b-9f66-679e80db4db9",
   "metadata": {},
   "source": [
    "#### ***Data Cleaning of Data Sets***\n",
    "***Table Links***"
   ]
  },
  {
   "cell_type": "code",
   "execution_count": 10,
   "id": "f1802682-0ec1-4ad3-b554-f3a9730a3c35",
   "metadata": {
    "tags": []
   },
   "outputs": [
    {
     "name": "stdout",
     "output_type": "stream",
     "text": [
      "<class 'pandas.core.frame.DataFrame'>\n",
      "RangeIndex: 9742 entries, 0 to 9741\n",
      "Data columns (total 3 columns):\n",
      " #   Column   Non-Null Count  Dtype  \n",
      "---  ------   --------------  -----  \n",
      " 0   movieId  9742 non-null   int64  \n",
      " 1   imdbId   9742 non-null   int64  \n",
      " 2   tmdbId   9734 non-null   float64\n",
      "dtypes: float64(1), int64(2)\n",
      "memory usage: 228.5 KB\n"
     ]
    }
   ],
   "source": [
    "df_ml_32m_links.info()"
   ]
  },
  {
   "cell_type": "code",
   "execution_count": 11,
   "id": "9d74a651-77a4-45d4-aa7c-aecbf9e5c8ae",
   "metadata": {
    "tags": []
   },
   "outputs": [],
   "source": [
    "# HEre we define a imputation model to impute the table links\n",
    "\n",
    "knn_imputer = KNNImputer()\n",
    "knn_imputer.fit(df_ml_32m_links[['tmdbId']])\n",
    "df_ml_32m_links['tmdbId'] = knn_imputer.transform( df_ml_32m_links[['tmdbId']] ).flatten()"
   ]
  },
  {
   "cell_type": "code",
   "execution_count": 12,
   "id": "9de22b75-6cda-4039-b586-58d0de3abb0b",
   "metadata": {
    "tags": []
   },
   "outputs": [
    {
     "name": "stdout",
     "output_type": "stream",
     "text": [
      "<class 'pandas.core.frame.DataFrame'>\n",
      "RangeIndex: 9742 entries, 0 to 9741\n",
      "Data columns (total 3 columns):\n",
      " #   Column   Non-Null Count  Dtype  \n",
      "---  ------   --------------  -----  \n",
      " 0   movieId  9742 non-null   int64  \n",
      " 1   imdbId   9742 non-null   int64  \n",
      " 2   tmdbId   9742 non-null   float64\n",
      "dtypes: float64(1), int64(2)\n",
      "memory usage: 228.5 KB\n"
     ]
    }
   ],
   "source": [
    "df_ml_32m_links.info()"
   ]
  },
  {
   "cell_type": "markdown",
   "id": "05549ff8-167d-4a5f-b4ec-11b73e68d3d8",
   "metadata": {},
   "source": [
    "#### ***Data Cleaning of Data Sets***\n",
    "***Table Movie***"
   ]
  },
  {
   "cell_type": "code",
   "execution_count": 13,
   "id": "7e7ef78b-45c3-4fd6-aa88-822bd2c61510",
   "metadata": {
    "tags": []
   },
   "outputs": [
    {
     "name": "stdout",
     "output_type": "stream",
     "text": [
      "<class 'pandas.core.frame.DataFrame'>\n",
      "RangeIndex: 9742 entries, 0 to 9741\n",
      "Data columns (total 3 columns):\n",
      " #   Column   Non-Null Count  Dtype \n",
      "---  ------   --------------  ----- \n",
      " 0   movieId  9742 non-null   int64 \n",
      " 1   title    9742 non-null   object\n",
      " 2   genres   9742 non-null   object\n",
      "dtypes: int64(1), object(2)\n",
      "memory usage: 228.5+ KB\n"
     ]
    }
   ],
   "source": [
    "df_ml_32m_movies.info()"
   ]
  },
  {
   "cell_type": "code",
   "execution_count": 40,
   "id": "379ef1b2-d346-4c59-bf03-b031af99f80e",
   "metadata": {
    "tags": []
   },
   "outputs": [
    {
     "data": {
      "text/html": [
       "<div>\n",
       "<style scoped>\n",
       "    .dataframe tbody tr th:only-of-type {\n",
       "        vertical-align: middle;\n",
       "    }\n",
       "\n",
       "    .dataframe tbody tr th {\n",
       "        vertical-align: top;\n",
       "    }\n",
       "\n",
       "    .dataframe thead th {\n",
       "        text-align: right;\n",
       "    }\n",
       "</style>\n",
       "<table border=\"1\" class=\"dataframe\">\n",
       "  <thead>\n",
       "    <tr style=\"text-align: right;\">\n",
       "      <th></th>\n",
       "      <th>movieId</th>\n",
       "      <th>title</th>\n",
       "      <th>genres</th>\n",
       "    </tr>\n",
       "  </thead>\n",
       "  <tbody>\n",
       "    <tr>\n",
       "      <th>0</th>\n",
       "      <td>1</td>\n",
       "      <td>Toy Story (1995)</td>\n",
       "      <td>Adventure|Animation|Children|Comedy|Fantasy</td>\n",
       "    </tr>\n",
       "    <tr>\n",
       "      <th>1</th>\n",
       "      <td>2</td>\n",
       "      <td>Jumanji (1995)</td>\n",
       "      <td>Adventure|Children|Fantasy</td>\n",
       "    </tr>\n",
       "    <tr>\n",
       "      <th>2</th>\n",
       "      <td>3</td>\n",
       "      <td>Grumpier Old Men (1995)</td>\n",
       "      <td>Comedy|Romance</td>\n",
       "    </tr>\n",
       "    <tr>\n",
       "      <th>3</th>\n",
       "      <td>4</td>\n",
       "      <td>Waiting to Exhale (1995)</td>\n",
       "      <td>Comedy|Drama|Romance</td>\n",
       "    </tr>\n",
       "    <tr>\n",
       "      <th>4</th>\n",
       "      <td>5</td>\n",
       "      <td>Father of the Bride Part II (1995)</td>\n",
       "      <td>Comedy</td>\n",
       "    </tr>\n",
       "  </tbody>\n",
       "</table>\n",
       "</div>"
      ],
      "text/plain": [
       "   movieId                               title   \n",
       "0        1                    Toy Story (1995)  \\\n",
       "1        2                      Jumanji (1995)   \n",
       "2        3             Grumpier Old Men (1995)   \n",
       "3        4            Waiting to Exhale (1995)   \n",
       "4        5  Father of the Bride Part II (1995)   \n",
       "\n",
       "                                        genres  \n",
       "0  Adventure|Animation|Children|Comedy|Fantasy  \n",
       "1                   Adventure|Children|Fantasy  \n",
       "2                               Comedy|Romance  \n",
       "3                         Comedy|Drama|Romance  \n",
       "4                                       Comedy  "
      ]
     },
     "execution_count": 40,
     "metadata": {},
     "output_type": "execute_result"
    }
   ],
   "source": [
    "df_ml_32m_movies.head()"
   ]
  },
  {
   "cell_type": "code",
   "execution_count": 46,
   "id": "7b4b96e1-164a-420b-aa89-244baf36faa9",
   "metadata": {
    "tags": []
   },
   "outputs": [],
   "source": [
    "# HEre we try to divide a single title column into two columns, title and released year\n",
    "import re\n",
    "\n",
    "movies_no_yr = []\n",
    "for i in range(len(df_ml_32m_movies.title)):\n",
    "\n",
    "# # Sample string\n",
    "    string = df_ml_32m_movies.loc[i, 'title']\n",
    "\n",
    "# # Regular expression pattern to find a 4-digit year\n",
    "    pattern = r'\\b((19|20)\\d{2}\\b)'\n",
    "    # pattern_yr_ps = r'\\b(19|20)\\d{2}\\b'\n",
    "# # Search for the pattern in the string\n",
    "    match = re.search(pattern, string)\n",
    "  \n",
    "\n",
    "    if match:\n",
    "        year = match.group()\n",
    "        df_ml_32m_movies.loc[i, 'released_yr'] = int(year)\n",
    "        df_ml_32m_movies.loc[i, 'title'] = df_ml_32m_movies.loc[i, 'title'].replace(f'({year})','')\n",
    "#     print(\"Year found:\", year)\n",
    "    else:\n",
    "         movies_no_yr.append(title)\n"
   ]
  },
  {
   "cell_type": "code",
   "execution_count": 49,
   "id": "9c9d49cd-d965-4af4-b278-de0a8a0cb9e8",
   "metadata": {
    "tags": []
   },
   "outputs": [],
   "source": [
    "# here we turn the column genres into a column of lists\n",
    "df_ml_32m_movies.genres = df_ml_32m_movies.genres.str.split('|')\n",
    "# now for each row we have alist of genres for each movies"
   ]
  },
  {
   "cell_type": "code",
   "execution_count": 65,
   "id": "15ca7fcd-f06d-4fa9-adb4-be42f14396bc",
   "metadata": {
    "tags": []
   },
   "outputs": [],
   "source": [
    "# df_ml_32m_movies.released_yr.unique()"
   ]
  },
  {
   "cell_type": "code",
   "execution_count": 50,
   "id": "d58eb065-cd70-4dec-8cbd-76ecc9e0c8c6",
   "metadata": {
    "tags": []
   },
   "outputs": [
    {
     "data": {
      "text/html": [
       "<div>\n",
       "<style scoped>\n",
       "    .dataframe tbody tr th:only-of-type {\n",
       "        vertical-align: middle;\n",
       "    }\n",
       "\n",
       "    .dataframe tbody tr th {\n",
       "        vertical-align: top;\n",
       "    }\n",
       "\n",
       "    .dataframe thead th {\n",
       "        text-align: right;\n",
       "    }\n",
       "</style>\n",
       "<table border=\"1\" class=\"dataframe\">\n",
       "  <thead>\n",
       "    <tr style=\"text-align: right;\">\n",
       "      <th></th>\n",
       "      <th>movieId</th>\n",
       "      <th>title</th>\n",
       "      <th>genres</th>\n",
       "      <th>released_yr</th>\n",
       "    </tr>\n",
       "  </thead>\n",
       "  <tbody>\n",
       "    <tr>\n",
       "      <th>0</th>\n",
       "      <td>1</td>\n",
       "      <td>Toy Story</td>\n",
       "      <td>[Adventure, Animation, Children, Comedy, Fantasy]</td>\n",
       "      <td>1995.0</td>\n",
       "    </tr>\n",
       "    <tr>\n",
       "      <th>1</th>\n",
       "      <td>2</td>\n",
       "      <td>Jumanji</td>\n",
       "      <td>[Adventure, Children, Fantasy]</td>\n",
       "      <td>1995.0</td>\n",
       "    </tr>\n",
       "    <tr>\n",
       "      <th>2</th>\n",
       "      <td>3</td>\n",
       "      <td>Grumpier Old Men</td>\n",
       "      <td>[Comedy, Romance]</td>\n",
       "      <td>1995.0</td>\n",
       "    </tr>\n",
       "    <tr>\n",
       "      <th>3</th>\n",
       "      <td>4</td>\n",
       "      <td>Waiting to Exhale</td>\n",
       "      <td>[Comedy, Drama, Romance]</td>\n",
       "      <td>1995.0</td>\n",
       "    </tr>\n",
       "    <tr>\n",
       "      <th>4</th>\n",
       "      <td>5</td>\n",
       "      <td>Father of the Bride Part II</td>\n",
       "      <td>[Comedy]</td>\n",
       "      <td>1995.0</td>\n",
       "    </tr>\n",
       "  </tbody>\n",
       "</table>\n",
       "</div>"
      ],
      "text/plain": [
       "   movieId                         title   \n",
       "0        1                    Toy Story   \\\n",
       "1        2                      Jumanji    \n",
       "2        3             Grumpier Old Men    \n",
       "3        4            Waiting to Exhale    \n",
       "4        5  Father of the Bride Part II    \n",
       "\n",
       "                                              genres  released_yr  \n",
       "0  [Adventure, Animation, Children, Comedy, Fantasy]       1995.0  \n",
       "1                     [Adventure, Children, Fantasy]       1995.0  \n",
       "2                                  [Comedy, Romance]       1995.0  \n",
       "3                           [Comedy, Drama, Romance]       1995.0  \n",
       "4                                           [Comedy]       1995.0  "
      ]
     },
     "execution_count": 50,
     "metadata": {},
     "output_type": "execute_result"
    }
   ],
   "source": [
    "df_ml_32m_movies.head(5)"
   ]
  },
  {
   "cell_type": "markdown",
   "id": "27c96a3f-e0d8-4c23-8d72-74d681d1f2f7",
   "metadata": {},
   "source": [
    "#### ***Data Cleaning of Data Sets***\n",
    "***Table Tags***"
   ]
  },
  {
   "cell_type": "code",
   "execution_count": 18,
   "id": "c1013456-e6c9-468b-b772-a6869ef75295",
   "metadata": {
    "tags": []
   },
   "outputs": [],
   "source": [
    "# # Here wes use drop the rows with simmilar values for userID and movieId for tag table\n",
    "# df_ml_32m_tags_temp = df_ml_32m_tags.drop_duplicates(subset = ['userId','movieId'], ignore_index=True)"
   ]
  },
  {
   "cell_type": "code",
   "execution_count": 176,
   "id": "de1aff4a-afc0-4e3d-853e-076cb06bc829",
   "metadata": {
    "tags": []
   },
   "outputs": [
    {
     "name": "stdout",
     "output_type": "stream",
     "text": [
      "<class 'pandas.core.frame.DataFrame'>\n",
      "RangeIndex: 3683 entries, 0 to 3682\n",
      "Data columns (total 4 columns):\n",
      " #   Column     Non-Null Count  Dtype \n",
      "---  ------     --------------  ----- \n",
      " 0   userId     3683 non-null   int64 \n",
      " 1   movieId    3683 non-null   int64 \n",
      " 2   tag        3683 non-null   object\n",
      " 3   timestamp  3683 non-null   int64 \n",
      "dtypes: int64(3), object(1)\n",
      "memory usage: 115.2+ KB\n"
     ]
    }
   ],
   "source": [
    "df_ml_32m_tags.info()"
   ]
  },
  {
   "cell_type": "code",
   "execution_count": 184,
   "id": "c871bdb4-375f-48fc-93eb-523ea45bd3f1",
   "metadata": {
    "tags": []
   },
   "outputs": [
    {
     "data": {
      "text/html": [
       "<div>\n",
       "<style scoped>\n",
       "    .dataframe tbody tr th:only-of-type {\n",
       "        vertical-align: middle;\n",
       "    }\n",
       "\n",
       "    .dataframe tbody tr th {\n",
       "        vertical-align: top;\n",
       "    }\n",
       "\n",
       "    .dataframe thead th {\n",
       "        text-align: right;\n",
       "    }\n",
       "</style>\n",
       "<table border=\"1\" class=\"dataframe\">\n",
       "  <thead>\n",
       "    <tr style=\"text-align: right;\">\n",
       "      <th></th>\n",
       "      <th>userId</th>\n",
       "      <th>movieId</th>\n",
       "      <th>tag</th>\n",
       "      <th>time_stamp</th>\n",
       "    </tr>\n",
       "  </thead>\n",
       "  <tbody>\n",
       "    <tr>\n",
       "      <th>0</th>\n",
       "      <td>2</td>\n",
       "      <td>60756</td>\n",
       "      <td>funny</td>\n",
       "      <td>2015-10-24 21:29:54</td>\n",
       "    </tr>\n",
       "    <tr>\n",
       "      <th>1</th>\n",
       "      <td>2</td>\n",
       "      <td>60756</td>\n",
       "      <td>Highly quotable</td>\n",
       "      <td>2015-10-24 21:29:56</td>\n",
       "    </tr>\n",
       "    <tr>\n",
       "      <th>2</th>\n",
       "      <td>2</td>\n",
       "      <td>60756</td>\n",
       "      <td>will ferrell</td>\n",
       "      <td>2015-10-24 21:29:52</td>\n",
       "    </tr>\n",
       "    <tr>\n",
       "      <th>3</th>\n",
       "      <td>2</td>\n",
       "      <td>89774</td>\n",
       "      <td>Boxing story</td>\n",
       "      <td>2015-10-24 21:33:27</td>\n",
       "    </tr>\n",
       "    <tr>\n",
       "      <th>4</th>\n",
       "      <td>2</td>\n",
       "      <td>89774</td>\n",
       "      <td>MMA</td>\n",
       "      <td>2015-10-24 21:33:20</td>\n",
       "    </tr>\n",
       "  </tbody>\n",
       "</table>\n",
       "</div>"
      ],
      "text/plain": [
       "   userId  movieId              tag          time_stamp\n",
       "0       2    60756            funny 2015-10-24 21:29:54\n",
       "1       2    60756  Highly quotable 2015-10-24 21:29:56\n",
       "2       2    60756     will ferrell 2015-10-24 21:29:52\n",
       "3       2    89774     Boxing story 2015-10-24 21:33:27\n",
       "4       2    89774              MMA 2015-10-24 21:33:20"
      ]
     },
     "execution_count": 184,
     "metadata": {},
     "output_type": "execute_result"
    }
   ],
   "source": [
    "df_ml_32m_tags.head()"
   ]
  },
  {
   "cell_type": "code",
   "execution_count": 183,
   "id": "2f3cd186-383b-4614-8ea5-8454087a4b8b",
   "metadata": {
    "tags": []
   },
   "outputs": [],
   "source": [
    "# here we convert teh seconds (in timestamp column) into real time-stamp\n",
    "from datetime import datetime\n",
    "\n",
    "# Convert seconds to a datetime object\n",
    "for i in range(len(df_ml_32m_tags.timestamp)):\n",
    "    df_ml_32m_tags.loc[i, 'time_stamp'] = datetime.fromtimestamp(df_ml_32m_tags.loc[i, 'timestamp'])\n",
    "\n",
    "df_ml_32m_tags "
   ]
  },
  {
   "cell_type": "code",
   "execution_count": null,
   "id": "9b370077-3394-45ce-a1d2-74600fcd53b8",
   "metadata": {},
   "outputs": [],
   "source": []
  },
  {
   "cell_type": "markdown",
   "id": "c3f6eb6c-d509-465e-98c3-bb05cd806bba",
   "metadata": {},
   "source": [
    "#### ***Vizulization of Data Sets***\n",
    "***Table Rating***"
   ]
  },
  {
   "cell_type": "code",
   "execution_count": 84,
   "id": "d8e1bb5e-f15b-4e4d-9df2-dcbb59b0d448",
   "metadata": {
    "tags": []
   },
   "outputs": [
    {
     "data": {
      "text/html": [
       "<div>\n",
       "<style scoped>\n",
       "    .dataframe tbody tr th:only-of-type {\n",
       "        vertical-align: middle;\n",
       "    }\n",
       "\n",
       "    .dataframe tbody tr th {\n",
       "        vertical-align: top;\n",
       "    }\n",
       "\n",
       "    .dataframe thead th {\n",
       "        text-align: right;\n",
       "    }\n",
       "</style>\n",
       "<table border=\"1\" class=\"dataframe\">\n",
       "  <thead>\n",
       "    <tr style=\"text-align: right;\">\n",
       "      <th></th>\n",
       "      <th>userId</th>\n",
       "      <th>movieId</th>\n",
       "      <th>rating</th>\n",
       "      <th>time_stamp</th>\n",
       "    </tr>\n",
       "  </thead>\n",
       "  <tbody>\n",
       "    <tr>\n",
       "      <th>0</th>\n",
       "      <td>1</td>\n",
       "      <td>1</td>\n",
       "      <td>4.0</td>\n",
       "      <td>2000-07-30 20:45:03</td>\n",
       "    </tr>\n",
       "    <tr>\n",
       "      <th>1</th>\n",
       "      <td>1</td>\n",
       "      <td>3</td>\n",
       "      <td>4.0</td>\n",
       "      <td>2000-07-30 20:20:47</td>\n",
       "    </tr>\n",
       "    <tr>\n",
       "      <th>2</th>\n",
       "      <td>1</td>\n",
       "      <td>6</td>\n",
       "      <td>4.0</td>\n",
       "      <td>2000-07-30 20:37:04</td>\n",
       "    </tr>\n",
       "    <tr>\n",
       "      <th>3</th>\n",
       "      <td>1</td>\n",
       "      <td>47</td>\n",
       "      <td>5.0</td>\n",
       "      <td>2000-07-30 21:03:35</td>\n",
       "    </tr>\n",
       "    <tr>\n",
       "      <th>4</th>\n",
       "      <td>1</td>\n",
       "      <td>50</td>\n",
       "      <td>5.0</td>\n",
       "      <td>2000-07-30 20:48:51</td>\n",
       "    </tr>\n",
       "  </tbody>\n",
       "</table>\n",
       "</div>"
      ],
      "text/plain": [
       "   userId  movieId  rating          time_stamp\n",
       "0       1        1     4.0 2000-07-30 20:45:03\n",
       "1       1        3     4.0 2000-07-30 20:20:47\n",
       "2       1        6     4.0 2000-07-30 20:37:04\n",
       "3       1       47     5.0 2000-07-30 21:03:35\n",
       "4       1       50     5.0 2000-07-30 20:48:51"
      ]
     },
     "execution_count": 84,
     "metadata": {},
     "output_type": "execute_result"
    }
   ],
   "source": [
    "df_ml_32m_rating.head()"
   ]
  },
  {
   "cell_type": "code",
   "execution_count": 70,
   "id": "75199988-130e-4024-a7ad-3337ef9e97a7",
   "metadata": {
    "tags": []
   },
   "outputs": [],
   "source": [
    "# n_rating = df_ml_32m_rating['rating'].nunique()\n",
    "# n_rating"
   ]
  },
  {
   "cell_type": "code",
   "execution_count": 106,
   "id": "67442b44-df1a-420d-a993-ebff8653c73c",
   "metadata": {
    "tags": []
   },
   "outputs": [],
   "source": [
    "# # distribution of Rating\n",
    "# sns.set_style(\"whitegrid\")\n",
    "\n",
    "# n_rating = df_ml_32m_rating['rating'].nunique()\n",
    "\n",
    "# fig, ax0 = plt.subplots(1,1, figsize = (10,8))\n",
    "\n",
    "# df_ml_32m_rating['rating'].hist(bins=n_rating, color='skyblue', edgecolor='black', alpha=0.7)\n",
    "\n",
    "# ax0.set_xlabel('rating',  fontsize = 15.0, fontweight = 'bold')\n",
    "# ax0.set_ylabel('Number of Rating',  fontsize = 15.0, fontweight = 'bold')\n",
    "\n",
    "# ax0.tick_params(axis='both', which = 'both', direction = 'in', width = 3, length = 6)\n",
    "\n",
    "# ax0.spines['top'].set_linewidth(2)\n",
    "# ax0.spines['right'].set_linewidth(2)\n",
    "# ax0.spines['bottom'].set_linewidth(2)\n",
    "# ax0.spines['left'].set_linewidth(2)\n",
    "# plt.show()"
   ]
  },
  {
   "cell_type": "code",
   "execution_count": 119,
   "id": "0683f30f-fc5a-41ad-bc53-5918f8ad02de",
   "metadata": {
    "tags": []
   },
   "outputs": [
    {
     "ename": "ValueError",
     "evalue": "keyword fontweight is not recognized; valid keywords are ['size', 'width', 'color', 'tickdir', 'pad', 'labelsize', 'labelcolor', 'zorder', 'gridOn', 'tick1On', 'tick2On', 'label1On', 'label2On', 'length', 'direction', 'left', 'bottom', 'right', 'top', 'labelleft', 'labelbottom', 'labelright', 'labeltop', 'labelrotation', 'grid_agg_filter', 'grid_alpha', 'grid_animated', 'grid_antialiased', 'grid_clip_box', 'grid_clip_on', 'grid_clip_path', 'grid_color', 'grid_dash_capstyle', 'grid_dash_joinstyle', 'grid_dashes', 'grid_data', 'grid_drawstyle', 'grid_figure', 'grid_fillstyle', 'grid_gapcolor', 'grid_gid', 'grid_in_layout', 'grid_label', 'grid_linestyle', 'grid_linewidth', 'grid_marker', 'grid_markeredgecolor', 'grid_markeredgewidth', 'grid_markerfacecolor', 'grid_markerfacecoloralt', 'grid_markersize', 'grid_markevery', 'grid_mouseover', 'grid_path_effects', 'grid_picker', 'grid_pickradius', 'grid_rasterized', 'grid_sketch_params', 'grid_snap', 'grid_solid_capstyle', 'grid_solid_joinstyle', 'grid_transform', 'grid_url', 'grid_visible', 'grid_xdata', 'grid_ydata', 'grid_zorder', 'grid_aa', 'grid_c', 'grid_ds', 'grid_ls', 'grid_lw', 'grid_mec', 'grid_mew', 'grid_mfc', 'grid_mfcalt', 'grid_ms']",
     "output_type": "error",
     "traceback": [
      "\u001b[1;31m---------------------------------------------------------------------------\u001b[0m",
      "\u001b[1;31mValueError\u001b[0m                                Traceback (most recent call last)",
      "Cell \u001b[1;32mIn[119], line 23\u001b[0m\n\u001b[0;32m     20\u001b[0m ax0\u001b[38;5;241m.\u001b[39mset_xlabel(\u001b[38;5;124m'\u001b[39m\u001b[38;5;124mrating\u001b[39m\u001b[38;5;124m'\u001b[39m,  fontsize \u001b[38;5;241m=\u001b[39m \u001b[38;5;241m15.0\u001b[39m, fontweight \u001b[38;5;241m=\u001b[39m \u001b[38;5;124m'\u001b[39m\u001b[38;5;124mbold\u001b[39m\u001b[38;5;124m'\u001b[39m)\n\u001b[0;32m     21\u001b[0m ax0\u001b[38;5;241m.\u001b[39mset_ylabel(\u001b[38;5;124m'\u001b[39m\u001b[38;5;124mNumber of Rating\u001b[39m\u001b[38;5;124m'\u001b[39m,  fontsize \u001b[38;5;241m=\u001b[39m \u001b[38;5;241m15.0\u001b[39m, fontweight \u001b[38;5;241m=\u001b[39m \u001b[38;5;124m'\u001b[39m\u001b[38;5;124mbold\u001b[39m\u001b[38;5;124m'\u001b[39m)\n\u001b[1;32m---> 23\u001b[0m \u001b[43max0\u001b[49m\u001b[38;5;241;43m.\u001b[39;49m\u001b[43mtick_params\u001b[49m\u001b[43m(\u001b[49m\u001b[43maxis\u001b[49m\u001b[38;5;241;43m=\u001b[39;49m\u001b[38;5;124;43m'\u001b[39;49m\u001b[38;5;124;43mboth\u001b[39;49m\u001b[38;5;124;43m'\u001b[39;49m\u001b[43m,\u001b[49m\u001b[43m \u001b[49m\u001b[43mwhich\u001b[49m\u001b[43m \u001b[49m\u001b[38;5;241;43m=\u001b[39;49m\u001b[43m \u001b[49m\u001b[38;5;124;43m'\u001b[39;49m\u001b[38;5;124;43mboth\u001b[39;49m\u001b[38;5;124;43m'\u001b[39;49m\u001b[43m,\u001b[49m\u001b[43m \u001b[49m\u001b[43mdirection\u001b[49m\u001b[43m \u001b[49m\u001b[38;5;241;43m=\u001b[39;49m\u001b[43m \u001b[49m\u001b[38;5;124;43m'\u001b[39;49m\u001b[38;5;124;43min\u001b[39;49m\u001b[38;5;124;43m'\u001b[39;49m\u001b[43m,\u001b[49m\u001b[43m \u001b[49m\u001b[43mwidth\u001b[49m\u001b[43m \u001b[49m\u001b[38;5;241;43m=\u001b[39;49m\u001b[43m \u001b[49m\u001b[38;5;241;43m3\u001b[39;49m\u001b[43m,\u001b[49m\u001b[43m \u001b[49m\u001b[43mlength\u001b[49m\u001b[43m \u001b[49m\u001b[38;5;241;43m=\u001b[39;49m\u001b[43m \u001b[49m\u001b[38;5;241;43m6\u001b[39;49m\u001b[43m,\u001b[49m\u001b[43m \u001b[49m\u001b[43mlabelsize\u001b[49m\u001b[43m \u001b[49m\u001b[38;5;241;43m=\u001b[39;49m\u001b[43m \u001b[49m\u001b[38;5;241;43m15\u001b[39;49m\u001b[43m,\u001b[49m\u001b[43m \u001b[49m\u001b[43mfontweight\u001b[49m\u001b[43m \u001b[49m\u001b[38;5;241;43m=\u001b[39;49m\u001b[43m \u001b[49m\u001b[38;5;241;43m10\u001b[39;49m\u001b[43m)\u001b[49m\n\u001b[0;32m     25\u001b[0m ax0\u001b[38;5;241m.\u001b[39mspines[\u001b[38;5;124m'\u001b[39m\u001b[38;5;124mtop\u001b[39m\u001b[38;5;124m'\u001b[39m]\u001b[38;5;241m.\u001b[39mset_linewidth(\u001b[38;5;241m2\u001b[39m)\n\u001b[0;32m     26\u001b[0m ax0\u001b[38;5;241m.\u001b[39mspines[\u001b[38;5;124m'\u001b[39m\u001b[38;5;124mright\u001b[39m\u001b[38;5;124m'\u001b[39m]\u001b[38;5;241m.\u001b[39mset_linewidth(\u001b[38;5;241m2\u001b[39m)\n",
      "File \u001b[1;32mD:\\hh-ds-24-07\\projects\\ds-capstone-recommendation\\.venv\\Lib\\site-packages\\matplotlib\\axes\\_base.py:3385\u001b[0m, in \u001b[0;36m_AxesBase.tick_params\u001b[1;34m(self, axis, **kwargs)\u001b[0m\n\u001b[0;32m   3383\u001b[0m     xkw\u001b[38;5;241m.\u001b[39mpop(\u001b[38;5;124m'\u001b[39m\u001b[38;5;124mlabelleft\u001b[39m\u001b[38;5;124m'\u001b[39m, \u001b[38;5;28;01mNone\u001b[39;00m)\n\u001b[0;32m   3384\u001b[0m     xkw\u001b[38;5;241m.\u001b[39mpop(\u001b[38;5;124m'\u001b[39m\u001b[38;5;124mlabelright\u001b[39m\u001b[38;5;124m'\u001b[39m, \u001b[38;5;28;01mNone\u001b[39;00m)\n\u001b[1;32m-> 3385\u001b[0m     \u001b[38;5;28;43mself\u001b[39;49m\u001b[38;5;241;43m.\u001b[39;49m\u001b[43mxaxis\u001b[49m\u001b[38;5;241;43m.\u001b[39;49m\u001b[43mset_tick_params\u001b[49m\u001b[43m(\u001b[49m\u001b[38;5;241;43m*\u001b[39;49m\u001b[38;5;241;43m*\u001b[39;49m\u001b[43mxkw\u001b[49m\u001b[43m)\u001b[49m\n\u001b[0;32m   3386\u001b[0m \u001b[38;5;28;01mif\u001b[39;00m axis \u001b[38;5;129;01min\u001b[39;00m [\u001b[38;5;124m'\u001b[39m\u001b[38;5;124my\u001b[39m\u001b[38;5;124m'\u001b[39m, \u001b[38;5;124m'\u001b[39m\u001b[38;5;124mboth\u001b[39m\u001b[38;5;124m'\u001b[39m]:\n\u001b[0;32m   3387\u001b[0m     ykw \u001b[38;5;241m=\u001b[39m \u001b[38;5;28mdict\u001b[39m(kwargs)\n",
      "File \u001b[1;32mD:\\hh-ds-24-07\\projects\\ds-capstone-recommendation\\.venv\\Lib\\site-packages\\matplotlib\\axis.py:932\u001b[0m, in \u001b[0;36mAxis.set_tick_params\u001b[1;34m(self, which, reset, **kwargs)\u001b[0m\n\u001b[0;32m    919\u001b[0m \u001b[38;5;250m\u001b[39m\u001b[38;5;124;03m\"\"\"\u001b[39;00m\n\u001b[0;32m    920\u001b[0m \u001b[38;5;124;03mSet appearance parameters for ticks, ticklabels, and gridlines.\u001b[39;00m\n\u001b[0;32m    921\u001b[0m \n\u001b[1;32m   (...)\u001b[0m\n\u001b[0;32m    929\u001b[0m \u001b[38;5;124;03m    gridlines.\u001b[39;00m\n\u001b[0;32m    930\u001b[0m \u001b[38;5;124;03m\"\"\"\u001b[39;00m\n\u001b[0;32m    931\u001b[0m _api\u001b[38;5;241m.\u001b[39mcheck_in_list([\u001b[38;5;124m'\u001b[39m\u001b[38;5;124mmajor\u001b[39m\u001b[38;5;124m'\u001b[39m, \u001b[38;5;124m'\u001b[39m\u001b[38;5;124mminor\u001b[39m\u001b[38;5;124m'\u001b[39m, \u001b[38;5;124m'\u001b[39m\u001b[38;5;124mboth\u001b[39m\u001b[38;5;124m'\u001b[39m], which\u001b[38;5;241m=\u001b[39mwhich)\n\u001b[1;32m--> 932\u001b[0m kwtrans \u001b[38;5;241m=\u001b[39m \u001b[38;5;28;43mself\u001b[39;49m\u001b[38;5;241;43m.\u001b[39;49m\u001b[43m_translate_tick_params\u001b[49m\u001b[43m(\u001b[49m\u001b[43mkwargs\u001b[49m\u001b[43m)\u001b[49m\n\u001b[0;32m    934\u001b[0m \u001b[38;5;66;03m# the kwargs are stored in self._major/minor_tick_kw so that any\u001b[39;00m\n\u001b[0;32m    935\u001b[0m \u001b[38;5;66;03m# future new ticks will automatically get them\u001b[39;00m\n\u001b[0;32m    936\u001b[0m \u001b[38;5;28;01mif\u001b[39;00m reset:\n",
      "File \u001b[1;32mD:\\hh-ds-24-07\\projects\\ds-capstone-recommendation\\.venv\\Lib\\site-packages\\matplotlib\\axis.py:1076\u001b[0m, in \u001b[0;36mAxis._translate_tick_params\u001b[1;34m(kw, reverse)\u001b[0m\n\u001b[0;32m   1074\u001b[0m \u001b[38;5;28;01mfor\u001b[39;00m key \u001b[38;5;129;01min\u001b[39;00m kw_:\n\u001b[0;32m   1075\u001b[0m     \u001b[38;5;28;01mif\u001b[39;00m key \u001b[38;5;129;01mnot\u001b[39;00m \u001b[38;5;129;01min\u001b[39;00m allowed_keys:\n\u001b[1;32m-> 1076\u001b[0m         \u001b[38;5;28;01mraise\u001b[39;00m \u001b[38;5;167;01mValueError\u001b[39;00m(\n\u001b[0;32m   1077\u001b[0m             \u001b[38;5;124m\"\u001b[39m\u001b[38;5;124mkeyword \u001b[39m\u001b[38;5;132;01m%s\u001b[39;00m\u001b[38;5;124m is not recognized; valid keywords are \u001b[39m\u001b[38;5;132;01m%s\u001b[39;00m\u001b[38;5;124m\"\u001b[39m\n\u001b[0;32m   1078\u001b[0m             \u001b[38;5;241m%\u001b[39m (key, allowed_keys))\n\u001b[0;32m   1079\u001b[0m kwtrans\u001b[38;5;241m.\u001b[39mupdate(kw_)\n\u001b[0;32m   1080\u001b[0m \u001b[38;5;28;01mreturn\u001b[39;00m kwtrans\n",
      "\u001b[1;31mValueError\u001b[0m: keyword fontweight is not recognized; valid keywords are ['size', 'width', 'color', 'tickdir', 'pad', 'labelsize', 'labelcolor', 'zorder', 'gridOn', 'tick1On', 'tick2On', 'label1On', 'label2On', 'length', 'direction', 'left', 'bottom', 'right', 'top', 'labelleft', 'labelbottom', 'labelright', 'labeltop', 'labelrotation', 'grid_agg_filter', 'grid_alpha', 'grid_animated', 'grid_antialiased', 'grid_clip_box', 'grid_clip_on', 'grid_clip_path', 'grid_color', 'grid_dash_capstyle', 'grid_dash_joinstyle', 'grid_dashes', 'grid_data', 'grid_drawstyle', 'grid_figure', 'grid_fillstyle', 'grid_gapcolor', 'grid_gid', 'grid_in_layout', 'grid_label', 'grid_linestyle', 'grid_linewidth', 'grid_marker', 'grid_markeredgecolor', 'grid_markeredgewidth', 'grid_markerfacecolor', 'grid_markerfacecoloralt', 'grid_markersize', 'grid_markevery', 'grid_mouseover', 'grid_path_effects', 'grid_picker', 'grid_pickradius', 'grid_rasterized', 'grid_sketch_params', 'grid_snap', 'grid_solid_capstyle', 'grid_solid_joinstyle', 'grid_transform', 'grid_url', 'grid_visible', 'grid_xdata', 'grid_ydata', 'grid_zorder', 'grid_aa', 'grid_c', 'grid_ds', 'grid_ls', 'grid_lw', 'grid_mec', 'grid_mew', 'grid_mfc', 'grid_mfcalt', 'grid_ms']"
     ]
    },
    {
     "data": {
      "image/png": "[encoded data removed]",
      "text/plain": [
       "<Figure size 1000x800 with 1 Axes>"
      ]
     },
     "metadata": {},
     "output_type": "display_data"
    }
   ],
   "source": [
    "# distribution of Rating\n",
    "sns.set_style(\"whitegrid\")\n",
    "\n",
    "n_rating = df_ml_32m_rating['rating'].nunique()\n",
    "\n",
    "fig, ax0 = plt.subplots(1,1, figsize = (10,8))\n",
    "\n",
    "\n",
    "n, bins, patches = plt.hist(df_ml_32m_rating['rating'], bins=n_rating, color='skyblue', edgecolor='black', alpha=0.7)\n",
    "\n",
    "# Calculate total count for percentage calculation\n",
    "total = n.sum()\n",
    "\n",
    "# Annotate each bar with percentage\n",
    "for count, bin_edge in zip(n, bins):\n",
    "    # Calculate the position for each label\n",
    "    percentage = (count / total) * 100\n",
    "    plt.text(bin_edge + 0.25, count, f'{percentage:.1f}%', ha='center', va='bottom', fontsize = 15.0, fontweight = 10)\n",
    "    \n",
    "ax0.set_xlabel('rating',  fontsize = 15.0, fontweight = 'bold')\n",
    "ax0.set_ylabel('Number of Rating',  fontsize = 15.0, fontweight = 'bold')\n",
    "\n",
    "ax0.tick_params(axis='both', which = 'both', direction = 'in', width = 3, length = 6, labelsize = 15, fontweight = 10)\n",
    "\n",
    "ax0.spines['top'].set_linewidth(2)\n",
    "ax0.spines['right'].set_linewidth(2)\n",
    "ax0.spines['bottom'].set_linewidth(2)\n",
    "ax0.spines['left'].set_linewidth(2)\n",
    "plt.show()"
   ]
  },
  {
   "cell_type": "code",
   "execution_count": 83,
   "id": "88aeb606-71bb-4347-a619-d3f42b367b72",
   "metadata": {
    "tags": []
   },
   "outputs": [
    {
     "data": {
      "image/png": "[encoded data removed]",
      "text/plain": [
       "<Figure size 1000x800 with 1 Axes>"
      ]
     },
     "metadata": {},
     "output_type": "display_data"
    }
   ],
   "source": [
    "# distribution of timestamps\n",
    "\n",
    "from datetime import datetime\n",
    "\n",
    "sns.set_style(\"whitegrid\")\n",
    "# number of year in the time period ratings are recorded\n",
    "no_year = df_ml_32m_rating['time_stamp'].max().year - df_ml_32m_rating['time_stamp'].min().year\n",
    "fig, ax0 = plt.subplots(1,1, figsize = (10,8))\n",
    "\n",
    "df_ml_32m_rating['time_stamp'].hist(bins=no_year, color='green', edgecolor='black', alpha=0.7)\n",
    "\n",
    "ax0.set_xlabel('Year',  fontsize = 15.0, fontweight = 'bold')\n",
    "ax0.set_ylabel('Number of Rating',  fontsize = 15.0, fontweight = 'bold')\n",
    "\n",
    "ax0.tick_params(axis='both', which = 'both', direction = 'in', width = 3, length = 6)\n",
    "\n",
    "ax0.spines['top'].set_linewidth(2)\n",
    "ax0.spines['right'].set_linewidth(2)\n",
    "ax0.spines['bottom'].set_linewidth(2)\n",
    "ax0.spines['left'].set_linewidth(2)\n",
    "plt.show()"
   ]
  },
  {
   "cell_type": "code",
   "execution_count": 92,
   "id": "cd63bce6-c05a-4d44-8e26-242d7ddbd71b",
   "metadata": {
    "tags": []
   },
   "outputs": [
    {
     "data": {
      "text/plain": [
       "(array([     1,      3,      6, ..., 160836, 163937, 163981], dtype=int64),\n",
       " 9724)"
      ]
     },
     "execution_count": 92,
     "metadata": {},
     "output_type": "execute_result"
    }
   ],
   "source": [
    "df_ml_32m_rating.movieId.unique(), df_ml_32m_rating.movieId.nunique()"
   ]
  },
  {
   "cell_type": "code",
   "execution_count": 93,
   "id": "6c4bc6bb-636f-4f74-8808-277c05fb01f4",
   "metadata": {
    "tags": []
   },
   "outputs": [
    {
     "data": {
      "text/plain": [
       "(array([     1,      2,      3, ..., 193585, 193587, 193609], dtype=int64),\n",
       " 9742)"
      ]
     },
     "execution_count": 93,
     "metadata": {},
     "output_type": "execute_result"
    }
   ],
   "source": [
    "df_ml_32m_movies.movieId.unique(), df_ml_32m_movies.movieId.nunique()"
   ]
  },
  {
   "cell_type": "code",
   "execution_count": 100,
   "id": "ab7ea2a2-4c32-4a51-ab22-09dae18c0680",
   "metadata": {
    "tags": []
   },
   "outputs": [
    {
     "name": "stdout",
     "output_type": "stream",
     "text": [
      "9724\n"
     ]
    }
   ],
   "source": [
    "i = 0\n",
    "for movieId in df_ml_32m_rating.movieId.unique():\n",
    "    if movieId in df_ml_32m_movies.movieId.unique():\n",
    "        i= i + 1\n",
    "print(i)\n"
   ]
  },
  {
   "cell_type": "code",
   "execution_count": 102,
   "id": "24a2a0e3-c5c2-497e-92eb-8e615e5508b0",
   "metadata": {
    "tags": []
   },
   "outputs": [
    {
     "data": {
      "text/plain": [
       "(100836, 4)"
      ]
     },
     "execution_count": 102,
     "metadata": {},
     "output_type": "execute_result"
    }
   ],
   "source": [
    "# df_ml_32m_rating.shape"
   ]
  },
  {
   "cell_type": "code",
   "execution_count": 101,
   "id": "bf48b960-b6ed-46b1-b9f0-354af8b79426",
   "metadata": {
    "tags": []
   },
   "outputs": [
    {
     "data": {
      "text/plain": [
       "movieId\n",
       "True    100836\n",
       "Name: count, dtype: int64"
      ]
     },
     "execution_count": 101,
     "metadata": {},
     "output_type": "execute_result"
    }
   ],
   "source": [
    "\n",
    "df = df_ml_32m_rating.movieId.isin(df_ml_32m_movies.movieId)\n",
    "df.value_counts()"
   ]
  },
  {
   "cell_type": "code",
   "execution_count": 87,
   "id": "abf7adee-d780-4302-9a6d-d211a5a60f74",
   "metadata": {
    "tags": []
   },
   "outputs": [
    {
     "data": {
      "image/png": "[encoded data removed]",
      "text/plain": [
       "<Figure size 1000x800 with 1 Axes>"
      ]
     },
     "metadata": {},
     "output_type": "display_data"
    }
   ],
   "source": [
    "# scatter plot of rates and moviId\n",
    "\n",
    "from datetime import datetime\n",
    "\n",
    "sns.set_style(\"whitegrid\")\n",
    "\n",
    "fig, ax0 = plt.subplots(1,1, figsize = (10,8))\n",
    "\n",
    "sns.scatterplot(x='movieId', y='rating', data=df_ml_32m_rating)\n",
    "\n",
    "ax0.set_xlabel('Year',  fontsize = 15.0, fontweight = 'bold')\n",
    "ax0.set_ylabel('Number of Rating',  fontsize = 15.0, fontweight = 'bold')\n",
    "\n",
    "ax0.tick_params(axis='both', which = 'both', direction = 'in', width = 3, length = 6)\n",
    "\n",
    "ax0.spines['top'].set_linewidth(2)\n",
    "ax0.spines['right'].set_linewidth(2)\n",
    "ax0.spines['bottom'].set_linewidth(2)\n",
    "ax0.spines['left'].set_linewidth(2)\n",
    "plt.show()"
   ]
  },
  {
   "cell_type": "markdown",
   "id": "146561da-ebfd-4d24-b132-4ad23ab3a94e",
   "metadata": {},
   "source": [
    "#### ***Vizulization of Data Sets***\n",
    "***Table Movies***"
   ]
  },
  {
   "cell_type": "code",
   "execution_count": 93,
   "id": "f317e4e3-9ae4-47c4-a824-951d608d7e1c",
   "metadata": {
    "tags": []
   },
   "outputs": [
    {
     "data": {
      "image/png": "[encoded data removed]",
      "text/plain": [
       "<Figure size 1000x800 with 1 Axes>"
      ]
     },
     "metadata": {},
     "output_type": "display_data"
    }
   ],
   "source": [
    "# Distribution of Released year\n",
    "sns.set_style(\"whitegrid\")\n",
    "\n",
    "fig, ax0 = plt.subplots(1,1, figsize = (10,8))\n",
    "\n",
    "df_ml_32m_movies['release_yr'].hist(bins=10, color='skyblue', edgecolor='black', alpha=0.7)\n",
    "\n",
    "ax0.set_xlabel('Release Year',  fontsize = 15.0, fontweight = 'bold')\n",
    "ax0.set_ylabel('Number of Movies',  fontsize = 15.0, fontweight = 'bold')\n",
    "\n",
    "ax0.tick_params(axis='both', which = 'both', direction = 'in', width = 3, length = 6)\n",
    "\n",
    "ax0.spines['top'].set_linewidth(2)\n",
    "ax0.spines['right'].set_linewidth(2)\n",
    "ax0.spines['bottom'].set_linewidth(2)\n",
    "ax0.spines['left'].set_linewidth(2)\n",
    "plt.show()\n",
    "\n",
    "\n"
   ]
  },
  {
   "cell_type": "code",
   "execution_count": 58,
   "id": "7dce9c54-47b1-493e-acc3-88d7f5e35349",
   "metadata": {
    "tags": []
   },
   "outputs": [
    {
     "data": {
      "text/plain": [
       "array(['Adventure', 'Animation', 'Children', 'Comedy', 'Fantasy',\n",
       "       'Romance', 'Drama', 'Action', 'Crime', 'Thriller', 'Horror',\n",
       "       'Mystery', 'Sci-Fi', 'War', 'Musical', 'Documentary', 'IMAX',\n",
       "       'Western', 'Film-Noir', '(no genres listed)'], dtype=object)"
      ]
     },
     "execution_count": 58,
     "metadata": {},
     "output_type": "execute_result"
    }
   ],
   "source": [
    "df_ml_32m_movies_genres_flatten = df_ml_32m_movies.genres.explode().astype(str)\n",
    "\n",
    "df_ml_32m_movies_genres_flatten.unique()"
   ]
  },
  {
   "cell_type": "code",
   "execution_count": 61,
   "id": "581ba09f-4aae-438e-bb8a-b4c234272fcb",
   "metadata": {
    "tags": []
   },
   "outputs": [
    {
     "data": {
      "text/plain": [
       "genres\n",
       "Drama                 4361\n",
       "Comedy                3756\n",
       "Thriller              1894\n",
       "Action                1828\n",
       "Romance               1596\n",
       "Adventure             1263\n",
       "Crime                 1199\n",
       "Sci-Fi                 980\n",
       "Horror                 978\n",
       "Fantasy                779\n",
       "Children               664\n",
       "Animation              611\n",
       "Mystery                573\n",
       "Documentary            440\n",
       "War                    382\n",
       "Musical                334\n",
       "Western                167\n",
       "IMAX                   158\n",
       "Film-Noir               87\n",
       "(no genres listed)      34\n",
       "Name: count, dtype: int64"
      ]
     },
     "execution_count": 61,
     "metadata": {},
     "output_type": "execute_result"
    }
   ],
   "source": [
    "df_ml_32m_movies_genres_flatten.value_counts()"
   ]
  },
  {
   "cell_type": "code",
   "execution_count": 60,
   "id": "eb5fd006-e96d-4887-9150-ee841d87e23a",
   "metadata": {
    "tags": []
   },
   "outputs": [
    {
     "data": {
      "image/png": "[encoded data removed]",
      "text/plain": [
       "<Figure size 1500x800 with 1 Axes>"
      ]
     },
     "metadata": {},
     "output_type": "display_data"
    }
   ],
   "source": [
    "# plotting a histogram of genres of movies\n",
    "sns.set_style(\"whitegrid\")\n",
    "#\n",
    "df_ml_32m_movies_genres_flatten = df_ml_32m_movies.genres.explode().astype(str)\n",
    "\n",
    "n_genres = df_ml_32m_movies_genres_flatten.nunique()\n",
    "\n",
    "fig, ax0 = plt.subplots(1,1, figsize = (15,8))\n",
    "\n",
    "\n",
    "df_ml_32m_movies_genres_flatten.hist(bins = n_genres, color='skyblue', edgecolor='black', alpha=0.7)\n",
    "\n",
    "ax0.set_xlabel('Release Year',  fontsize = 15.0, fontweight = 'bold', )\n",
    "ax0.set_ylabel('Number of Movies',  fontsize = 15.0, fontweight = 'bold')\n",
    "\n",
    "ax0.tick_params(axis='both', which = 'both', direction = 'in', width = 3, length = 6)\n",
    "\n",
    "plt.xticks(rotation=45)  # Rotate x-axis labels by 45 degrees\n",
    "\n",
    "ax0.spines['top'].set_linewidth(2)\n",
    "ax0.spines['right'].set_linewidth(2)\n",
    "ax0.spines['bottom'].set_linewidth(2)\n",
    "ax0.spines['left'].set_linewidth(2)\n",
    "plt.show()\n",
    "\n",
    "\n",
    "\n",
    "# flattened_values = \n",
    "\n",
    "# # Plot histogram\n",
    "# plt.hist(flattened_values, bins=10)\n",
    "# plt.xlabel('Values')\n",
    "# plt.ylabel('Frequency')\n",
    "# plt.title('Histogram of Flattened List Column')\n",
    "# plt.show()\n"
   ]
  },
  {
   "cell_type": "code",
   "execution_count": null,
   "id": "19ee5626-9caf-4685-9c50-bc2bc055b8f5",
   "metadata": {},
   "outputs": [],
   "source": []
  },
  {
   "cell_type": "code",
   "execution_count": null,
   "id": "93c69585-4c00-4304-b429-ac49f2962fdb",
   "metadata": {},
   "outputs": [],
   "source": []
  },
  {
   "cell_type": "code",
   "execution_count": 13,
   "id": "10934140-b2a6-4963-b818-fa51a19e0b8d",
   "metadata": {
    "tags": []
   },
   "outputs": [],
   "source": [
    "# Here wes use drop the rows with simmilar values for userID and movieId for rating table\n",
    "df_ml_32m_rating_temp = df_ml_32m_rating.drop_duplicates(subset = ['userId','movieId'])"
   ]
  },
  {
   "cell_type": "code",
   "execution_count": 14,
   "id": "1ab8f6a4-67b0-48f7-b86a-de3015275137",
   "metadata": {
    "tags": []
   },
   "outputs": [
    {
     "data": {
      "text/plain": [
       "(32000204, 4)"
      ]
     },
     "execution_count": 14,
     "metadata": {},
     "output_type": "execute_result"
    }
   ],
   "source": [
    "df_ml_32m_rating_temp.shape"
   ]
  },
  {
   "cell_type": "code",
   "execution_count": null,
   "id": "d348d318-d820-45e3-a826-cfca936243ef",
   "metadata": {},
   "outputs": [],
   "source": []
  },
  {
   "cell_type": "code",
   "execution_count": null,
   "id": "5fc8733a-d656-4cb8-ab97-12efe707d87a",
   "metadata": {},
   "outputs": [],
   "source": []
  },
  {
   "cell_type": "code",
   "execution_count": null,
   "id": "b1c5ed94-2513-44e4-90da-a4b674ca2bf6",
   "metadata": {},
   "outputs": [],
   "source": []
  },
  {
   "cell_type": "code",
   "execution_count": 149,
   "id": "b91bcf3b-be35-48ce-930c-b71cd8b4064e",
   "metadata": {
    "tags": []
   },
   "outputs": [],
   "source": [
    "# here we use groupby method to group the data set based on movieId\n",
    "df_ml_32m_rating_gb_movieId = df_ml_32m_rating.groupby('movieId').mean()"
   ]
  },
  {
   "cell_type": "code",
   "execution_count": 150,
   "id": "83ee726d-c413-464e-801a-5114d215ff61",
   "metadata": {
    "tags": []
   },
   "outputs": [
    {
     "data": {
      "text/html": [
       "<div>\n",
       "<style scoped>\n",
       "    .dataframe tbody tr th:only-of-type {\n",
       "        vertical-align: middle;\n",
       "    }\n",
       "\n",
       "    .dataframe tbody tr th {\n",
       "        vertical-align: top;\n",
       "    }\n",
       "\n",
       "    .dataframe thead th {\n",
       "        text-align: right;\n",
       "    }\n",
       "</style>\n",
       "<table border=\"1\" class=\"dataframe\">\n",
       "  <thead>\n",
       "    <tr style=\"text-align: right;\">\n",
       "      <th></th>\n",
       "      <th>userId</th>\n",
       "      <th>rating</th>\n",
       "      <th>timestamp</th>\n",
       "    </tr>\n",
       "    <tr>\n",
       "      <th>movieId</th>\n",
       "      <th></th>\n",
       "      <th></th>\n",
       "      <th></th>\n",
       "    </tr>\n",
       "  </thead>\n",
       "  <tbody>\n",
       "    <tr>\n",
       "      <th>292731</th>\n",
       "      <td>50685.0</td>\n",
       "      <td>4.0</td>\n",
       "      <td>1.697075e+09</td>\n",
       "    </tr>\n",
       "    <tr>\n",
       "      <th>292737</th>\n",
       "      <td>165364.0</td>\n",
       "      <td>1.5</td>\n",
       "      <td>1.697146e+09</td>\n",
       "    </tr>\n",
       "    <tr>\n",
       "      <th>292753</th>\n",
       "      <td>150812.0</td>\n",
       "      <td>4.0</td>\n",
       "      <td>1.697141e+09</td>\n",
       "    </tr>\n",
       "    <tr>\n",
       "      <th>292755</th>\n",
       "      <td>91097.0</td>\n",
       "      <td>1.0</td>\n",
       "      <td>1.697145e+09</td>\n",
       "    </tr>\n",
       "    <tr>\n",
       "      <th>292757</th>\n",
       "      <td>171418.0</td>\n",
       "      <td>3.5</td>\n",
       "      <td>1.697149e+09</td>\n",
       "    </tr>\n",
       "  </tbody>\n",
       "</table>\n",
       "</div>"
      ],
      "text/plain": [
       "           userId  rating     timestamp\n",
       "movieId                                \n",
       "292731    50685.0     4.0  1.697075e+09\n",
       "292737   165364.0     1.5  1.697146e+09\n",
       "292753   150812.0     4.0  1.697141e+09\n",
       "292755    91097.0     1.0  1.697145e+09\n",
       "292757   171418.0     3.5  1.697149e+09"
      ]
     },
     "execution_count": 150,
     "metadata": {},
     "output_type": "execute_result"
    }
   ],
   "source": [
    "df_ml_32m_rating_gb_movieId.tail()"
   ]
  },
  {
   "cell_type": "code",
   "execution_count": 208,
   "id": "2624c61e-c4e7-4eb5-ab78-ad46ec4a14e8",
   "metadata": {
    "tags": []
   },
   "outputs": [],
   "source": [
    "# df_ml_32m_rating_gb_movieId.shape"
   ]
  },
  {
   "cell_type": "code",
   "execution_count": 209,
   "id": "646d18f0-843d-4fa0-8757-53fe7ba49d71",
   "metadata": {
    "tags": []
   },
   "outputs": [],
   "source": [
    "# df_ml_32m_rating.shape"
   ]
  },
  {
   "cell_type": "code",
   "execution_count": 151,
   "id": "5c378a49-c484-426c-9bea-d68def209dd5",
   "metadata": {
    "tags": []
   },
   "outputs": [],
   "source": [
    "# here we turn the index values into a values of a new columnb\n",
    "df_ml_32m_rating_gb_movieId['movieId']=df_ml_32m_rating_gb_movieId.index.values.tolist()"
   ]
  },
  {
   "cell_type": "code",
   "execution_count": 152,
   "id": "36649df5-c1fe-4305-ac8a-94c80aa8379c",
   "metadata": {
    "tags": []
   },
   "outputs": [
    {
     "data": {
      "text/plain": [
       "(84432, 4)"
      ]
     },
     "execution_count": 152,
     "metadata": {},
     "output_type": "execute_result"
    }
   ],
   "source": [
    "df_ml_32m_rating_gb_movieId.shape"
   ]
  },
  {
   "cell_type": "code",
   "execution_count": 210,
   "id": "606bbc21-05c7-47a8-ac7a-f33123b93265",
   "metadata": {
    "tags": []
   },
   "outputs": [],
   "source": [
    "# df_ml_32m_tags.shape"
   ]
  },
  {
   "cell_type": "code",
   "execution_count": 188,
   "id": "b67d3834-6c76-4fa9-8ca1-8af4e8f47e7e",
   "metadata": {
    "tags": []
   },
   "outputs": [],
   "source": [
    "# df_ml_32m_tags.head()"
   ]
  },
  {
   "cell_type": "code",
   "execution_count": 140,
   "id": "7058b7a5-19ad-4540-aad7-3a1782e56ab2",
   "metadata": {
    "tags": []
   },
   "outputs": [],
   "source": [
    "# here we use groupby method to group the data set based on movieId\n",
    "df_ml_32m_tags_gb_movieId = df_ml_32m_tags.groupby('movieId')['tag'].agg(pd.Series.mode).to_frame()"
   ]
  },
  {
   "cell_type": "code",
   "execution_count": 183,
   "id": "89752950-30cb-4e55-bc33-bd155a827519",
   "metadata": {
    "tags": []
   },
   "outputs": [],
   "source": [
    "\n",
    "df_ml_32m_tags_gb_movieId['movieId'] = df_ml_32m_tags_gb_movieId.index.values.tolist()"
   ]
  },
  {
   "cell_type": "code",
   "execution_count": 211,
   "id": "314d0f63-5070-44c8-84d6-9b2f32c322ca",
   "metadata": {
    "tags": []
   },
   "outputs": [],
   "source": [
    "# df_ml_32m_tags_gb_movieId.tail()"
   ]
  },
  {
   "cell_type": "code",
   "execution_count": 212,
   "id": "b5376cdd-aa14-4431-abc9-4122601c0403",
   "metadata": {
    "tags": []
   },
   "outputs": [],
   "source": [
    "# df_ml_32m_tags_gb_movieId.shape"
   ]
  },
  {
   "cell_type": "code",
   "execution_count": 144,
   "id": "6830be11-b101-499d-bc16-3cee05d18f8e",
   "metadata": {
    "tags": []
   },
   "outputs": [],
   "source": [
    "# df_ml_32m_movies.title.nunique()"
   ]
  },
  {
   "cell_type": "code",
   "execution_count": 213,
   "id": "89963507-f233-4eaf-aac5-fe443346ac92",
   "metadata": {
    "tags": []
   },
   "outputs": [],
   "source": [
    "# df_ml_32m_rating.shape, df_ml_32m_links.shape, df_ml_32m_movies.shape, df_ml_32m_tags.shape"
   ]
  },
  {
   "cell_type": "code",
   "execution_count": 214,
   "id": "ebbebe0b-166d-43fc-8ea7-b70264fad222",
   "metadata": {
    "tags": []
   },
   "outputs": [],
   "source": [
    "# df_ml_32m_rating_gb_movieId.shape, df_ml_32m_links.shape, df_ml_32m_movies.shape, df_ml_32m_tags_gb_movieId.shape"
   ]
  },
  {
   "cell_type": "code",
   "execution_count": 215,
   "id": "dc5ad78a-6f22-4632-8090-750b18a53c1e",
   "metadata": {
    "tags": []
   },
   "outputs": [],
   "source": [
    "# df_ml_32m_rating.columns, df_ml_32m_links.columns, df_ml_32m_movies.columns, df_ml_32m_tags.columns"
   ]
  },
  {
   "cell_type": "code",
   "execution_count": 171,
   "id": "3b32d097-cb1b-4aad-9780-d69fbc6ede24",
   "metadata": {
    "tags": []
   },
   "outputs": [],
   "source": [
    "# df_ml_32m_rating.userId.nunique(), df_ml_32m_tags.userId.nunique()"
   ]
  },
  {
   "cell_type": "code",
   "execution_count": 170,
   "id": "b8917c36-c353-4a45-af8a-f3b50d766dd5",
   "metadata": {
    "tags": []
   },
   "outputs": [],
   "source": [
    "# df_ml_32m_rating.movieId.nunique(), df_ml_32m_tags.movieId.nunique(), df_ml_32m_links.movieId.nunique(), df_ml_32m_movies.movieId.nunique()"
   ]
  },
  {
   "cell_type": "code",
   "execution_count": 154,
   "id": "07ae5c6b-24a7-400a-bf00-7607854ae348",
   "metadata": {
    "tags": []
   },
   "outputs": [],
   "source": [
    "# df_ml_32m_rating.head(2)"
   ]
  },
  {
   "cell_type": "code",
   "execution_count": 11,
   "id": "e7e40a88-a9bd-4fdf-ad59-bf6b624ed0ff",
   "metadata": {
    "tags": []
   },
   "outputs": [],
   "source": [
    "# df_ml_32m_links.head()"
   ]
  },
  {
   "cell_type": "code",
   "execution_count": 155,
   "id": "00a1e53e-97ac-4b1e-af95-fe40e17e9178",
   "metadata": {
    "tags": []
   },
   "outputs": [],
   "source": [
    "# df_ml_32m_movies.head()"
   ]
  },
  {
   "cell_type": "code",
   "execution_count": 13,
   "id": "2dfb8d17-32ae-42f6-8504-06c01823b1d5",
   "metadata": {
    "tags": []
   },
   "outputs": [],
   "source": [
    "# df_ml_32m_tags.head(4)"
   ]
  },
  {
   "cell_type": "markdown",
   "id": "20a4b01f",
   "metadata": {
    "tags": []
   },
   "source": [
    "#### Merging Tables\n",
    "Table2: id - This is infact the movie_id as in the first dataset."
   ]
  },
  {
   "cell_type": "code",
   "execution_count": 21,
   "id": "edb57b58-cb1c-4ffa-a040-3c731e76b2e0",
   "metadata": {
    "tags": []
   },
   "outputs": [
    {
     "data": {
      "text/plain": [
       "(Index(['movieId', 'imdbId', 'tmdbId'], dtype='object'),\n",
       " Index(['movieId', 'title', 'genres'], dtype='object'))"
      ]
     },
     "execution_count": 21,
     "metadata": {},
     "output_type": "execute_result"
    }
   ],
   "source": [
    "df_ml_32m_links.columns, df_ml_32m_movies.columns"
   ]
  },
  {
   "cell_type": "code",
   "execution_count": null,
   "id": "3186050b-64f4-4041-955b-cb9e29347f0e",
   "metadata": {},
   "outputs": [],
   "source": []
  },
  {
   "cell_type": "code",
   "execution_count": 156,
   "id": "98d26188-5e8f-4491-be35-7d2802966025",
   "metadata": {
    "tags": []
   },
   "outputs": [],
   "source": [
    "# Because of lack of not enough RAM, we break the largest table, df_ml_32m_rating, into different pecies and do teh merging\n",
    "# df_ml_32m_rating.rating.unique().tolist()"
   ]
  },
  {
   "cell_type": "code",
   "execution_count": 46,
   "id": "7dfde37d-7391-4da9-8df1-d13d4f1f0ada",
   "metadata": {},
   "outputs": [],
   "source": [
    "# def slicing_dataframe(df, column):\n",
    "#     \"\"\" It slices up a data frame base on the number of unique item in column\"\"\"\n",
    "#     uniques = df[column].unique().tolist()\n",
    "#     print(uniques)\n",
    "#     # sys.exit()\n",
    "#     list = []\n",
    "#     for unique in uniques:\n",
    "#         print(unique)\n",
    "#         list.append(df[df[column] == unique ])\n",
    "#     return list"
   ]
  },
  {
   "cell_type": "code",
   "execution_count": 157,
   "id": "eb8cf12c-5169-4c3a-ba2c-ad4f99a9f75a",
   "metadata": {
    "tags": []
   },
   "outputs": [],
   "source": [
    "# list = slicing_dataframe(df_ml_32m_rating, 'rating')"
   ]
  },
  {
   "cell_type": "code",
   "execution_count": 158,
   "id": "530af036-1a04-48b8-a106-0844cae455ff",
   "metadata": {
    "tags": []
   },
   "outputs": [],
   "source": [
    "# for i in range(len(list)):\n",
    "#  print(list[i].shape)"
   ]
  },
  {
   "cell_type": "code",
   "execution_count": 59,
   "id": "018ece58-cf35-4bfa-a8bc-c4f6aae145c3",
   "metadata": {
    "tags": []
   },
   "outputs": [
    {
     "data": {
      "text/plain": [
       "(Index(['movieId', 'imdbId', 'tmdbId'], dtype='object'),\n",
       " Index(['userId', 'movieId', 'tag', 'timestamp'], dtype='object'))"
      ]
     },
     "execution_count": 59,
     "metadata": {},
     "output_type": "execute_result"
    }
   ],
   "source": [
    "df_ml_32m_links.columns, df_ml_32m_tags.columns"
   ]
  },
  {
   "cell_type": "code",
   "execution_count": 173,
   "id": "88e9a901-7331-4e03-9d4a-36864844ade6",
   "metadata": {
    "tags": []
   },
   "outputs": [
    {
     "data": {
      "text/plain": [
       "((84432, 4), (87585, 3), (87585, 3), (51323, 2))"
      ]
     },
     "execution_count": 173,
     "metadata": {},
     "output_type": "execute_result"
    }
   ],
   "source": [
    "df_ml_32m_rating_gb_movieId.shape , df_ml_32m_links.shape , df_ml_32m_movies.shape , df_ml_32m_tags_gb_movieId.shape "
   ]
  },
  {
   "cell_type": "code",
   "execution_count": 172,
   "id": "c7bcdafc-da43-4dad-a1f0-1868af2d4d01",
   "metadata": {
    "tags": []
   },
   "outputs": [
    {
     "data": {
      "text/plain": [
       "(Index(['userId', 'rating', 'timestamp', 'movieId'], dtype='object'),\n",
       " Index(['movieId', 'imdbId', 'tmdbId'], dtype='object'),\n",
       " Index(['movieId', 'title', 'genres'], dtype='object'),\n",
       " Index(['tag', 'movieId'], dtype='object'))"
      ]
     },
     "execution_count": 172,
     "metadata": {},
     "output_type": "execute_result"
    }
   ],
   "source": [
    "df_ml_32m_rating_gb_movieId.columns, df_ml_32m_links.columns, df_ml_32m_movies.columns, df_ml_32m_tags_gb_movieId.columns"
   ]
  },
  {
   "cell_type": "code",
   "execution_count": 187,
   "id": "ba2329e0-01ea-4415-b934-a1bc35a6f56b",
   "metadata": {
    "tags": []
   },
   "outputs": [
    {
     "ename": "ValueError",
     "evalue": "'movieId' is both an index level and a column label, which is ambiguous.",
     "output_type": "error",
     "traceback": [
      "\u001b[1;31m---------------------------------------------------------------------------\u001b[0m",
      "\u001b[1;31mValueError\u001b[0m                                Traceback (most recent call last)",
      "\u001b[1;32m~\\AppData\\Local\\Temp\\ipykernel_20760\\4090789360.py\u001b[0m in \u001b[0;36m?\u001b[1;34m()\u001b[0m\n\u001b[0;32m      1\u001b[0m \u001b[1;31m# result = df_ml_32m_links.join(df_ml_32m_movies, how='left', on='movieId')\u001b[0m\u001b[1;33m\u001b[0m\u001b[1;33m\u001b[0m\u001b[0m\n\u001b[1;32m----> 2\u001b[1;33m \u001b[0mresult_1\u001b[0m \u001b[1;33m=\u001b[0m \u001b[0mdf_ml_32m_tags_gb_movieId\u001b[0m\u001b[1;33m.\u001b[0m\u001b[0mmerge\u001b[0m\u001b[1;33m(\u001b[0m\u001b[0mdf_ml_32m_rating_gb_movieId\u001b[0m\u001b[1;33m,\u001b[0m \u001b[0mhow\u001b[0m\u001b[1;33m=\u001b[0m\u001b[1;34m'left'\u001b[0m\u001b[1;33m,\u001b[0m \u001b[0mon\u001b[0m\u001b[1;33m=\u001b[0m\u001b[1;34m'movieId'\u001b[0m\u001b[1;33m)\u001b[0m\u001b[1;33m\u001b[0m\u001b[1;33m\u001b[0m\u001b[0m\n\u001b[0m\u001b[0;32m      3\u001b[0m \u001b[0mresult_2\u001b[0m \u001b[1;33m=\u001b[0m \u001b[0mresult_1\u001b[0m\u001b[1;33m.\u001b[0m\u001b[0mmerge\u001b[0m\u001b[1;33m(\u001b[0m\u001b[0mdf_ml_32m_movies\u001b[0m\u001b[1;33m,\u001b[0m \u001b[0mhow\u001b[0m\u001b[1;33m=\u001b[0m\u001b[1;34m'left'\u001b[0m\u001b[1;33m,\u001b[0m \u001b[0mon\u001b[0m\u001b[1;33m=\u001b[0m\u001b[1;34m'movieId'\u001b[0m\u001b[1;33m)\u001b[0m\u001b[1;33m\u001b[0m\u001b[1;33m\u001b[0m\u001b[0m\n\u001b[0;32m      4\u001b[0m \u001b[0mresult\u001b[0m \u001b[1;33m=\u001b[0m \u001b[0mresult_2\u001b[0m\u001b[1;33m.\u001b[0m\u001b[0mmerge\u001b[0m\u001b[1;33m(\u001b[0m\u001b[0mdf_ml_32m_links\u001b[0m\u001b[1;33m,\u001b[0m \u001b[0mhow\u001b[0m\u001b[1;33m=\u001b[0m\u001b[1;34m'left'\u001b[0m\u001b[1;33m,\u001b[0m \u001b[0mon\u001b[0m\u001b[1;33m=\u001b[0m\u001b[1;34m'movieId'\u001b[0m\u001b[1;33m)\u001b[0m\u001b[1;33m\u001b[0m\u001b[1;33m\u001b[0m\u001b[0m\n\u001b[0;32m      5\u001b[0m \u001b[0mprint\u001b[0m\u001b[1;33m(\u001b[0m\u001b[0mresult\u001b[0m\u001b[1;33m)\u001b[0m\u001b[1;33m\u001b[0m\u001b[1;33m\u001b[0m\u001b[0m\n",
      "\u001b[1;32mD:\\hh-ds-24-07\\tasks\\capstone-project\\ds-capstone-recommendation-service-movies\\.venv\\Lib\\site-packages\\pandas\\core\\frame.py\u001b[0m in \u001b[0;36m?\u001b[1;34m(self, right, how, on, left_on, right_on, left_index, right_index, sort, suffixes, copy, indicator, validate)\u001b[0m\n\u001b[0;32m   9844\u001b[0m         \u001b[0mvalidate\u001b[0m\u001b[1;33m:\u001b[0m \u001b[0mstr\u001b[0m \u001b[1;33m|\u001b[0m \u001b[1;32mNone\u001b[0m \u001b[1;33m=\u001b[0m \u001b[1;32mNone\u001b[0m\u001b[1;33m,\u001b[0m\u001b[1;33m\u001b[0m\u001b[1;33m\u001b[0m\u001b[0m\n\u001b[0;32m   9845\u001b[0m     ) -> DataFrame:\n\u001b[0;32m   9846\u001b[0m         \u001b[1;32mfrom\u001b[0m \u001b[0mpandas\u001b[0m\u001b[1;33m.\u001b[0m\u001b[0mcore\u001b[0m\u001b[1;33m.\u001b[0m\u001b[0mreshape\u001b[0m\u001b[1;33m.\u001b[0m\u001b[0mmerge\u001b[0m \u001b[1;32mimport\u001b[0m \u001b[0mmerge\u001b[0m\u001b[1;33m\u001b[0m\u001b[1;33m\u001b[0m\u001b[0m\n\u001b[0;32m   9847\u001b[0m \u001b[1;33m\u001b[0m\u001b[0m\n\u001b[1;32m-> 9848\u001b[1;33m         return merge(\n\u001b[0m\u001b[0;32m   9849\u001b[0m             \u001b[0mself\u001b[0m\u001b[1;33m,\u001b[0m\u001b[1;33m\u001b[0m\u001b[1;33m\u001b[0m\u001b[0m\n\u001b[0;32m   9850\u001b[0m             \u001b[0mright\u001b[0m\u001b[1;33m,\u001b[0m\u001b[1;33m\u001b[0m\u001b[1;33m\u001b[0m\u001b[0m\n\u001b[0;32m   9851\u001b[0m             \u001b[0mhow\u001b[0m\u001b[1;33m=\u001b[0m\u001b[0mhow\u001b[0m\u001b[1;33m,\u001b[0m\u001b[1;33m\u001b[0m\u001b[1;33m\u001b[0m\u001b[0m\n",
      "\u001b[1;32mD:\\hh-ds-24-07\\tasks\\capstone-project\\ds-capstone-recommendation-service-movies\\.venv\\Lib\\site-packages\\pandas\\core\\reshape\\merge.py\u001b[0m in \u001b[0;36m?\u001b[1;34m(left, right, how, on, left_on, right_on, left_index, right_index, sort, suffixes, copy, indicator, validate)\u001b[0m\n\u001b[0;32m    140\u001b[0m     \u001b[0mcopy\u001b[0m\u001b[1;33m:\u001b[0m \u001b[0mbool\u001b[0m \u001b[1;33m|\u001b[0m \u001b[1;32mNone\u001b[0m \u001b[1;33m=\u001b[0m \u001b[1;32mNone\u001b[0m\u001b[1;33m,\u001b[0m\u001b[1;33m\u001b[0m\u001b[1;33m\u001b[0m\u001b[0m\n\u001b[0;32m    141\u001b[0m     \u001b[0mindicator\u001b[0m\u001b[1;33m:\u001b[0m \u001b[0mstr\u001b[0m \u001b[1;33m|\u001b[0m \u001b[0mbool\u001b[0m \u001b[1;33m=\u001b[0m \u001b[1;32mFalse\u001b[0m\u001b[1;33m,\u001b[0m\u001b[1;33m\u001b[0m\u001b[1;33m\u001b[0m\u001b[0m\n\u001b[0;32m    142\u001b[0m     \u001b[0mvalidate\u001b[0m\u001b[1;33m:\u001b[0m \u001b[0mstr\u001b[0m \u001b[1;33m|\u001b[0m \u001b[1;32mNone\u001b[0m \u001b[1;33m=\u001b[0m \u001b[1;32mNone\u001b[0m\u001b[1;33m,\u001b[0m\u001b[1;33m\u001b[0m\u001b[1;33m\u001b[0m\u001b[0m\n\u001b[0;32m    143\u001b[0m ) -> DataFrame:\n\u001b[1;32m--> 144\u001b[1;33m     op = _MergeOperation(\n\u001b[0m\u001b[0;32m    145\u001b[0m         \u001b[0mleft\u001b[0m\u001b[1;33m,\u001b[0m\u001b[1;33m\u001b[0m\u001b[1;33m\u001b[0m\u001b[0m\n\u001b[0;32m    146\u001b[0m         \u001b[0mright\u001b[0m\u001b[1;33m,\u001b[0m\u001b[1;33m\u001b[0m\u001b[1;33m\u001b[0m\u001b[0m\n\u001b[0;32m    147\u001b[0m         \u001b[0mhow\u001b[0m\u001b[1;33m=\u001b[0m\u001b[0mhow\u001b[0m\u001b[1;33m,\u001b[0m\u001b[1;33m\u001b[0m\u001b[1;33m\u001b[0m\u001b[0m\n",
      "\u001b[1;32mD:\\hh-ds-24-07\\tasks\\capstone-project\\ds-capstone-recommendation-service-movies\\.venv\\Lib\\site-packages\\pandas\\core\\reshape\\merge.py\u001b[0m in \u001b[0;36m?\u001b[1;34m(self, left, right, how, on, left_on, right_on, axis, left_index, right_index, sort, suffixes, indicator, validate)\u001b[0m\n\u001b[0;32m    729\u001b[0m         (\n\u001b[0;32m    730\u001b[0m             \u001b[0mself\u001b[0m\u001b[1;33m.\u001b[0m\u001b[0mleft_join_keys\u001b[0m\u001b[1;33m,\u001b[0m\u001b[1;33m\u001b[0m\u001b[1;33m\u001b[0m\u001b[0m\n\u001b[0;32m    731\u001b[0m             \u001b[0mself\u001b[0m\u001b[1;33m.\u001b[0m\u001b[0mright_join_keys\u001b[0m\u001b[1;33m,\u001b[0m\u001b[1;33m\u001b[0m\u001b[1;33m\u001b[0m\u001b[0m\n\u001b[0;32m    732\u001b[0m             \u001b[0mself\u001b[0m\u001b[1;33m.\u001b[0m\u001b[0mjoin_names\u001b[0m\u001b[1;33m,\u001b[0m\u001b[1;33m\u001b[0m\u001b[1;33m\u001b[0m\u001b[0m\n\u001b[1;32m--> 733\u001b[1;33m         ) = self._get_merge_keys()\n\u001b[0m\u001b[0;32m    734\u001b[0m \u001b[1;33m\u001b[0m\u001b[0m\n\u001b[0;32m    735\u001b[0m         \u001b[1;31m# validate the merge keys dtypes. We may need to coerce\u001b[0m\u001b[1;33m\u001b[0m\u001b[1;33m\u001b[0m\u001b[0m\n\u001b[0;32m    736\u001b[0m         \u001b[1;31m# to avoid incompatible dtypes\u001b[0m\u001b[1;33m\u001b[0m\u001b[1;33m\u001b[0m\u001b[0m\n",
      "\u001b[1;32mD:\\hh-ds-24-07\\tasks\\capstone-project\\ds-capstone-recommendation-service-movies\\.venv\\Lib\\site-packages\\pandas\\core\\reshape\\merge.py\u001b[0m in \u001b[0;36m?\u001b[1;34m(self)\u001b[0m\n\u001b[0;32m   1187\u001b[0m                         \u001b[1;31m# Then we're either Hashable or a wrong-length arraylike,\u001b[0m\u001b[1;33m\u001b[0m\u001b[1;33m\u001b[0m\u001b[0m\n\u001b[0;32m   1188\u001b[0m                         \u001b[1;31m#  the latter of which will raise\u001b[0m\u001b[1;33m\u001b[0m\u001b[1;33m\u001b[0m\u001b[0m\n\u001b[0;32m   1189\u001b[0m                         \u001b[0mrk\u001b[0m \u001b[1;33m=\u001b[0m \u001b[0mcast\u001b[0m\u001b[1;33m(\u001b[0m\u001b[0mHashable\u001b[0m\u001b[1;33m,\u001b[0m \u001b[0mrk\u001b[0m\u001b[1;33m)\u001b[0m\u001b[1;33m\u001b[0m\u001b[1;33m\u001b[0m\u001b[0m\n\u001b[0;32m   1190\u001b[0m                         \u001b[1;32mif\u001b[0m \u001b[0mrk\u001b[0m \u001b[1;32mis\u001b[0m \u001b[1;32mnot\u001b[0m \u001b[1;32mNone\u001b[0m\u001b[1;33m:\u001b[0m\u001b[1;33m\u001b[0m\u001b[1;33m\u001b[0m\u001b[0m\n\u001b[1;32m-> 1191\u001b[1;33m                             \u001b[0mright_keys\u001b[0m\u001b[1;33m.\u001b[0m\u001b[0mappend\u001b[0m\u001b[1;33m(\u001b[0m\u001b[0mright\u001b[0m\u001b[1;33m.\u001b[0m\u001b[0m_get_label_or_level_values\u001b[0m\u001b[1;33m(\u001b[0m\u001b[0mrk\u001b[0m\u001b[1;33m)\u001b[0m\u001b[1;33m)\u001b[0m\u001b[1;33m\u001b[0m\u001b[1;33m\u001b[0m\u001b[0m\n\u001b[0m\u001b[0;32m   1192\u001b[0m                         \u001b[1;32melse\u001b[0m\u001b[1;33m:\u001b[0m\u001b[1;33m\u001b[0m\u001b[1;33m\u001b[0m\u001b[0m\n\u001b[0;32m   1193\u001b[0m                             \u001b[1;31m# work-around for merge_asof(right_index=True)\u001b[0m\u001b[1;33m\u001b[0m\u001b[1;33m\u001b[0m\u001b[0m\n\u001b[0;32m   1194\u001b[0m                             \u001b[0mright_keys\u001b[0m\u001b[1;33m.\u001b[0m\u001b[0mappend\u001b[0m\u001b[1;33m(\u001b[0m\u001b[0mright\u001b[0m\u001b[1;33m.\u001b[0m\u001b[0mindex\u001b[0m\u001b[1;33m)\u001b[0m\u001b[1;33m\u001b[0m\u001b[1;33m\u001b[0m\u001b[0m\n",
      "\u001b[1;32mD:\\hh-ds-24-07\\tasks\\capstone-project\\ds-capstone-recommendation-service-movies\\.venv\\Lib\\site-packages\\pandas\\core\\generic.py\u001b[0m in \u001b[0;36m?\u001b[1;34m(self, key, axis)\u001b[0m\n\u001b[0;32m   1769\u001b[0m         \u001b[0maxis\u001b[0m \u001b[1;33m=\u001b[0m \u001b[0mself\u001b[0m\u001b[1;33m.\u001b[0m\u001b[0m_get_axis_number\u001b[0m\u001b[1;33m(\u001b[0m\u001b[0maxis\u001b[0m\u001b[1;33m)\u001b[0m\u001b[1;33m\u001b[0m\u001b[1;33m\u001b[0m\u001b[0m\n\u001b[0;32m   1770\u001b[0m         \u001b[0mother_axes\u001b[0m \u001b[1;33m=\u001b[0m \u001b[1;33m[\u001b[0m\u001b[0max\u001b[0m \u001b[1;32mfor\u001b[0m \u001b[0max\u001b[0m \u001b[1;32min\u001b[0m \u001b[0mrange\u001b[0m\u001b[1;33m(\u001b[0m\u001b[0mself\u001b[0m\u001b[1;33m.\u001b[0m\u001b[0m_AXIS_LEN\u001b[0m\u001b[1;33m)\u001b[0m \u001b[1;32mif\u001b[0m \u001b[0max\u001b[0m \u001b[1;33m!=\u001b[0m \u001b[0maxis\u001b[0m\u001b[1;33m]\u001b[0m\u001b[1;33m\u001b[0m\u001b[1;33m\u001b[0m\u001b[0m\n\u001b[0;32m   1771\u001b[0m \u001b[1;33m\u001b[0m\u001b[0m\n\u001b[0;32m   1772\u001b[0m         \u001b[1;32mif\u001b[0m \u001b[0mself\u001b[0m\u001b[1;33m.\u001b[0m\u001b[0m_is_label_reference\u001b[0m\u001b[1;33m(\u001b[0m\u001b[0mkey\u001b[0m\u001b[1;33m,\u001b[0m \u001b[0maxis\u001b[0m\u001b[1;33m=\u001b[0m\u001b[0maxis\u001b[0m\u001b[1;33m)\u001b[0m\u001b[1;33m:\u001b[0m\u001b[1;33m\u001b[0m\u001b[1;33m\u001b[0m\u001b[0m\n\u001b[1;32m-> 1773\u001b[1;33m             \u001b[0mself\u001b[0m\u001b[1;33m.\u001b[0m\u001b[0m_check_label_or_level_ambiguity\u001b[0m\u001b[1;33m(\u001b[0m\u001b[0mkey\u001b[0m\u001b[1;33m,\u001b[0m \u001b[0maxis\u001b[0m\u001b[1;33m=\u001b[0m\u001b[0maxis\u001b[0m\u001b[1;33m)\u001b[0m\u001b[1;33m\u001b[0m\u001b[1;33m\u001b[0m\u001b[0m\n\u001b[0m\u001b[0;32m   1774\u001b[0m             \u001b[0mvalues\u001b[0m \u001b[1;33m=\u001b[0m \u001b[0mself\u001b[0m\u001b[1;33m.\u001b[0m\u001b[0mxs\u001b[0m\u001b[1;33m(\u001b[0m\u001b[0mkey\u001b[0m\u001b[1;33m,\u001b[0m \u001b[0maxis\u001b[0m\u001b[1;33m=\u001b[0m\u001b[0mother_axes\u001b[0m\u001b[1;33m[\u001b[0m\u001b[1;36m0\u001b[0m\u001b[1;33m]\u001b[0m\u001b[1;33m)\u001b[0m\u001b[1;33m.\u001b[0m\u001b[0m_values\u001b[0m\u001b[1;33m\u001b[0m\u001b[1;33m\u001b[0m\u001b[0m\n\u001b[0;32m   1775\u001b[0m         \u001b[1;32melif\u001b[0m \u001b[0mself\u001b[0m\u001b[1;33m.\u001b[0m\u001b[0m_is_level_reference\u001b[0m\u001b[1;33m(\u001b[0m\u001b[0mkey\u001b[0m\u001b[1;33m,\u001b[0m \u001b[0maxis\u001b[0m\u001b[1;33m=\u001b[0m\u001b[0maxis\u001b[0m\u001b[1;33m)\u001b[0m\u001b[1;33m:\u001b[0m\u001b[1;33m\u001b[0m\u001b[1;33m\u001b[0m\u001b[0m\n\u001b[0;32m   1776\u001b[0m             \u001b[0mvalues\u001b[0m \u001b[1;33m=\u001b[0m \u001b[0mself\u001b[0m\u001b[1;33m.\u001b[0m\u001b[0maxes\u001b[0m\u001b[1;33m[\u001b[0m\u001b[0maxis\u001b[0m\u001b[1;33m]\u001b[0m\u001b[1;33m.\u001b[0m\u001b[0mget_level_values\u001b[0m\u001b[1;33m(\u001b[0m\u001b[0mkey\u001b[0m\u001b[1;33m)\u001b[0m\u001b[1;33m.\u001b[0m\u001b[0m_values\u001b[0m\u001b[1;33m\u001b[0m\u001b[1;33m\u001b[0m\u001b[0m\n",
      "\u001b[1;32mD:\\hh-ds-24-07\\tasks\\capstone-project\\ds-capstone-recommendation-service-movies\\.venv\\Lib\\site-packages\\pandas\\core\\generic.py\u001b[0m in \u001b[0;36m?\u001b[1;34m(self, key, axis)\u001b[0m\n\u001b[0;32m   1731\u001b[0m             msg = (\n\u001b[0;32m   1732\u001b[0m                 \u001b[1;34mf\"'{key}' is both {level_article} {level_type} level and \"\u001b[0m\u001b[1;33m\u001b[0m\u001b[1;33m\u001b[0m\u001b[0m\n\u001b[0;32m   1733\u001b[0m                 \u001b[1;34mf\"{label_article} {label_type} label, which is ambiguous.\"\u001b[0m\u001b[1;33m\u001b[0m\u001b[1;33m\u001b[0m\u001b[0m\n\u001b[0;32m   1734\u001b[0m             )\n\u001b[1;32m-> 1735\u001b[1;33m             \u001b[1;32mraise\u001b[0m \u001b[0mValueError\u001b[0m\u001b[1;33m(\u001b[0m\u001b[0mmsg\u001b[0m\u001b[1;33m)\u001b[0m\u001b[1;33m\u001b[0m\u001b[1;33m\u001b[0m\u001b[0m\n\u001b[0m",
      "\u001b[1;31mValueError\u001b[0m: 'movieId' is both an index level and a column label, which is ambiguous."
     ]
    }
   ],
   "source": [
    "# result = df_ml_32m_links.join(df_ml_32m_movies, how='left', on='movieId')\n",
    "result_1 = df_ml_32m_tags_gb_movieId.merge(df_ml_32m_rating_gb_movieId, how='left', on='movieId')\n",
    "result_2 = result_1.merge(df_ml_32m_movies, how='left', on='movieId')\n",
    "result = result_2.merge(df_ml_32m_links, how='left', on='movieId')\n",
    "print(result)\n",
    "sys.exit()\n",
    "# result = result_2\n",
    "# for i in range(len(list)):\n",
    "#     print(i)\n",
    "#     result = pd.merge(result, list[i] , how='left', on='movieId')\n",
    "# df_ml_32m = result"
   ]
  },
  {
   "cell_type": "code",
   "execution_count": 30,
   "id": "07374879-05c8-426f-b199-de6a248adbaa",
   "metadata": {
    "tags": []
   },
   "outputs": [
    {
     "data": {
      "text/plain": [
       "(87585, 5)"
      ]
     },
     "execution_count": 30,
     "metadata": {},
     "output_type": "execute_result"
    }
   ],
   "source": [
    "result.shape"
   ]
  },
  {
   "cell_type": "code",
   "execution_count": 18,
   "id": "66892fb7-cb7a-4d14-92d2-617cb8a0e9f2",
   "metadata": {
    "tags": []
   },
   "outputs": [
    {
     "ename": "ValueError",
     "evalue": "columns overlap but no suffix specified: Index(['movieId'], dtype='object')",
     "output_type": "error",
     "traceback": [
      "\u001b[1;31m---------------------------------------------------------------------------\u001b[0m",
      "\u001b[1;31mValueError\u001b[0m                                Traceback (most recent call last)",
      "Cell \u001b[1;32mIn[18], line 2\u001b[0m\n\u001b[0;32m      1\u001b[0m \u001b[38;5;66;03m# here we join the tables based on the similar column shared by all\u001b[39;00m\n\u001b[1;32m----> 2\u001b[0m df_ml_32m \u001b[38;5;241m=\u001b[39m \u001b[43mdf_ml_32m_links\u001b[49m\u001b[38;5;241;43m.\u001b[39;49m\u001b[43mjoin\u001b[49m\u001b[43m(\u001b[49m\u001b[43mdf_ml_32m_movies\u001b[49m\u001b[43m,\u001b[49m\u001b[43m \u001b[49m\u001b[43mon\u001b[49m\u001b[38;5;241;43m=\u001b[39;49m\u001b[43m[\u001b[49m\u001b[38;5;124;43m'\u001b[39;49m\u001b[38;5;124;43mmovieId\u001b[39;49m\u001b[38;5;124;43m'\u001b[39;49m\u001b[43m]\u001b[49m\u001b[43m)\u001b[49m\n\u001b[0;32m      3\u001b[0m \u001b[38;5;66;03m# \\\u001b[39;00m\n\u001b[0;32m      4\u001b[0m \u001b[38;5;66;03m# .join(df_ml_32m_tags, on='movieId', how='left').join(df_ml_32m_rating, on='movieId', how='left')\u001b[39;00m\n",
      "File \u001b[1;32mD:\\hh-ds-24-07\\tasks\\capstone-project\\ds-capstone-recommendation-service-movies\\.venv\\Lib\\site-packages\\pandas\\core\\frame.py:9734\u001b[0m, in \u001b[0;36mDataFrame.join\u001b[1;34m(self, other, on, how, lsuffix, rsuffix, sort, validate)\u001b[0m\n\u001b[0;32m   9571\u001b[0m \u001b[38;5;28;01mdef\u001b[39;00m \u001b[38;5;21mjoin\u001b[39m(\n\u001b[0;32m   9572\u001b[0m     \u001b[38;5;28mself\u001b[39m,\n\u001b[0;32m   9573\u001b[0m     other: DataFrame \u001b[38;5;241m|\u001b[39m Series \u001b[38;5;241m|\u001b[39m Iterable[DataFrame \u001b[38;5;241m|\u001b[39m Series],\n\u001b[1;32m   (...)\u001b[0m\n\u001b[0;32m   9579\u001b[0m     validate: \u001b[38;5;28mstr\u001b[39m \u001b[38;5;241m|\u001b[39m \u001b[38;5;28;01mNone\u001b[39;00m \u001b[38;5;241m=\u001b[39m \u001b[38;5;28;01mNone\u001b[39;00m,\n\u001b[0;32m   9580\u001b[0m ) \u001b[38;5;241m-\u001b[39m\u001b[38;5;241m>\u001b[39m DataFrame:\n\u001b[0;32m   9581\u001b[0m \u001b[38;5;250m    \u001b[39m\u001b[38;5;124;03m\"\"\"\u001b[39;00m\n\u001b[0;32m   9582\u001b[0m \u001b[38;5;124;03m    Join columns of another DataFrame.\u001b[39;00m\n\u001b[0;32m   9583\u001b[0m \n\u001b[1;32m   (...)\u001b[0m\n\u001b[0;32m   9732\u001b[0m \u001b[38;5;124;03m    5  K1  A5   B1\u001b[39;00m\n\u001b[0;32m   9733\u001b[0m \u001b[38;5;124;03m    \"\"\"\u001b[39;00m\n\u001b[1;32m-> 9734\u001b[0m     \u001b[38;5;28;01mreturn\u001b[39;00m \u001b[38;5;28;43mself\u001b[39;49m\u001b[38;5;241;43m.\u001b[39;49m\u001b[43m_join_compat\u001b[49m\u001b[43m(\u001b[49m\n\u001b[0;32m   9735\u001b[0m \u001b[43m        \u001b[49m\u001b[43mother\u001b[49m\u001b[43m,\u001b[49m\n\u001b[0;32m   9736\u001b[0m \u001b[43m        \u001b[49m\u001b[43mon\u001b[49m\u001b[38;5;241;43m=\u001b[39;49m\u001b[43mon\u001b[49m\u001b[43m,\u001b[49m\n\u001b[0;32m   9737\u001b[0m \u001b[43m        \u001b[49m\u001b[43mhow\u001b[49m\u001b[38;5;241;43m=\u001b[39;49m\u001b[43mhow\u001b[49m\u001b[43m,\u001b[49m\n\u001b[0;32m   9738\u001b[0m \u001b[43m        \u001b[49m\u001b[43mlsuffix\u001b[49m\u001b[38;5;241;43m=\u001b[39;49m\u001b[43mlsuffix\u001b[49m\u001b[43m,\u001b[49m\n\u001b[0;32m   9739\u001b[0m \u001b[43m        \u001b[49m\u001b[43mrsuffix\u001b[49m\u001b[38;5;241;43m=\u001b[39;49m\u001b[43mrsuffix\u001b[49m\u001b[43m,\u001b[49m\n\u001b[0;32m   9740\u001b[0m \u001b[43m        \u001b[49m\u001b[43msort\u001b[49m\u001b[38;5;241;43m=\u001b[39;49m\u001b[43msort\u001b[49m\u001b[43m,\u001b[49m\n\u001b[0;32m   9741\u001b[0m \u001b[43m        \u001b[49m\u001b[43mvalidate\u001b[49m\u001b[38;5;241;43m=\u001b[39;49m\u001b[43mvalidate\u001b[49m\u001b[43m,\u001b[49m\n\u001b[0;32m   9742\u001b[0m \u001b[43m    \u001b[49m\u001b[43m)\u001b[49m\n",
      "File \u001b[1;32mD:\\hh-ds-24-07\\tasks\\capstone-project\\ds-capstone-recommendation-service-movies\\.venv\\Lib\\site-packages\\pandas\\core\\frame.py:9773\u001b[0m, in \u001b[0;36mDataFrame._join_compat\u001b[1;34m(self, other, on, how, lsuffix, rsuffix, sort, validate)\u001b[0m\n\u001b[0;32m   9763\u001b[0m     \u001b[38;5;28;01mif\u001b[39;00m how \u001b[38;5;241m==\u001b[39m \u001b[38;5;124m\"\u001b[39m\u001b[38;5;124mcross\u001b[39m\u001b[38;5;124m\"\u001b[39m:\n\u001b[0;32m   9764\u001b[0m         \u001b[38;5;28;01mreturn\u001b[39;00m merge(\n\u001b[0;32m   9765\u001b[0m             \u001b[38;5;28mself\u001b[39m,\n\u001b[0;32m   9766\u001b[0m             other,\n\u001b[1;32m   (...)\u001b[0m\n\u001b[0;32m   9771\u001b[0m             validate\u001b[38;5;241m=\u001b[39mvalidate,\n\u001b[0;32m   9772\u001b[0m         )\n\u001b[1;32m-> 9773\u001b[0m     \u001b[38;5;28;01mreturn\u001b[39;00m \u001b[43mmerge\u001b[49m\u001b[43m(\u001b[49m\n\u001b[0;32m   9774\u001b[0m \u001b[43m        \u001b[49m\u001b[38;5;28;43mself\u001b[39;49m\u001b[43m,\u001b[49m\n\u001b[0;32m   9775\u001b[0m \u001b[43m        \u001b[49m\u001b[43mother\u001b[49m\u001b[43m,\u001b[49m\n\u001b[0;32m   9776\u001b[0m \u001b[43m        \u001b[49m\u001b[43mleft_on\u001b[49m\u001b[38;5;241;43m=\u001b[39;49m\u001b[43mon\u001b[49m\u001b[43m,\u001b[49m\n\u001b[0;32m   9777\u001b[0m \u001b[43m        \u001b[49m\u001b[43mhow\u001b[49m\u001b[38;5;241;43m=\u001b[39;49m\u001b[43mhow\u001b[49m\u001b[43m,\u001b[49m\n\u001b[0;32m   9778\u001b[0m \u001b[43m        \u001b[49m\u001b[43mleft_index\u001b[49m\u001b[38;5;241;43m=\u001b[39;49m\u001b[43mon\u001b[49m\u001b[43m \u001b[49m\u001b[38;5;129;43;01mis\u001b[39;49;00m\u001b[43m \u001b[49m\u001b[38;5;28;43;01mNone\u001b[39;49;00m\u001b[43m,\u001b[49m\n\u001b[0;32m   9779\u001b[0m \u001b[43m        \u001b[49m\u001b[43mright_index\u001b[49m\u001b[38;5;241;43m=\u001b[39;49m\u001b[38;5;28;43;01mTrue\u001b[39;49;00m\u001b[43m,\u001b[49m\n\u001b[0;32m   9780\u001b[0m \u001b[43m        \u001b[49m\u001b[43msuffixes\u001b[49m\u001b[38;5;241;43m=\u001b[39;49m\u001b[43m(\u001b[49m\u001b[43mlsuffix\u001b[49m\u001b[43m,\u001b[49m\u001b[43m \u001b[49m\u001b[43mrsuffix\u001b[49m\u001b[43m)\u001b[49m\u001b[43m,\u001b[49m\n\u001b[0;32m   9781\u001b[0m \u001b[43m        \u001b[49m\u001b[43msort\u001b[49m\u001b[38;5;241;43m=\u001b[39;49m\u001b[43msort\u001b[49m\u001b[43m,\u001b[49m\n\u001b[0;32m   9782\u001b[0m \u001b[43m        \u001b[49m\u001b[43mvalidate\u001b[49m\u001b[38;5;241;43m=\u001b[39;49m\u001b[43mvalidate\u001b[49m\u001b[43m,\u001b[49m\n\u001b[0;32m   9783\u001b[0m \u001b[43m    \u001b[49m\u001b[43m)\u001b[49m\n\u001b[0;32m   9784\u001b[0m \u001b[38;5;28;01melse\u001b[39;00m:\n\u001b[0;32m   9785\u001b[0m     \u001b[38;5;28;01mif\u001b[39;00m on \u001b[38;5;129;01mis\u001b[39;00m \u001b[38;5;129;01mnot\u001b[39;00m \u001b[38;5;28;01mNone\u001b[39;00m:\n",
      "File \u001b[1;32mD:\\hh-ds-24-07\\tasks\\capstone-project\\ds-capstone-recommendation-service-movies\\.venv\\Lib\\site-packages\\pandas\\core\\reshape\\merge.py:158\u001b[0m, in \u001b[0;36mmerge\u001b[1;34m(left, right, how, on, left_on, right_on, left_index, right_index, sort, suffixes, copy, indicator, validate)\u001b[0m\n\u001b[0;32m    127\u001b[0m \u001b[38;5;129m@Substitution\u001b[39m(\u001b[38;5;124m\"\u001b[39m\u001b[38;5;130;01m\\n\u001b[39;00m\u001b[38;5;124mleft : DataFrame or named Series\u001b[39m\u001b[38;5;124m\"\u001b[39m)\n\u001b[0;32m    128\u001b[0m \u001b[38;5;129m@Appender\u001b[39m(_merge_doc, indents\u001b[38;5;241m=\u001b[39m\u001b[38;5;241m0\u001b[39m)\n\u001b[0;32m    129\u001b[0m \u001b[38;5;28;01mdef\u001b[39;00m \u001b[38;5;21mmerge\u001b[39m(\n\u001b[1;32m   (...)\u001b[0m\n\u001b[0;32m    142\u001b[0m     validate: \u001b[38;5;28mstr\u001b[39m \u001b[38;5;241m|\u001b[39m \u001b[38;5;28;01mNone\u001b[39;00m \u001b[38;5;241m=\u001b[39m \u001b[38;5;28;01mNone\u001b[39;00m,\n\u001b[0;32m    143\u001b[0m ) \u001b[38;5;241m-\u001b[39m\u001b[38;5;241m>\u001b[39m DataFrame:\n\u001b[0;32m    144\u001b[0m     op \u001b[38;5;241m=\u001b[39m _MergeOperation(\n\u001b[0;32m    145\u001b[0m         left,\n\u001b[0;32m    146\u001b[0m         right,\n\u001b[1;32m   (...)\u001b[0m\n\u001b[0;32m    156\u001b[0m         validate\u001b[38;5;241m=\u001b[39mvalidate,\n\u001b[0;32m    157\u001b[0m     )\n\u001b[1;32m--> 158\u001b[0m     \u001b[38;5;28;01mreturn\u001b[39;00m \u001b[43mop\u001b[49m\u001b[38;5;241;43m.\u001b[39;49m\u001b[43mget_result\u001b[49m\u001b[43m(\u001b[49m\u001b[43mcopy\u001b[49m\u001b[38;5;241;43m=\u001b[39;49m\u001b[43mcopy\u001b[49m\u001b[43m)\u001b[49m\n",
      "File \u001b[1;32mD:\\hh-ds-24-07\\tasks\\capstone-project\\ds-capstone-recommendation-service-movies\\.venv\\Lib\\site-packages\\pandas\\core\\reshape\\merge.py:807\u001b[0m, in \u001b[0;36m_MergeOperation.get_result\u001b[1;34m(self, copy)\u001b[0m\n\u001b[0;32m    803\u001b[0m     \u001b[38;5;28mself\u001b[39m\u001b[38;5;241m.\u001b[39mleft, \u001b[38;5;28mself\u001b[39m\u001b[38;5;241m.\u001b[39mright \u001b[38;5;241m=\u001b[39m \u001b[38;5;28mself\u001b[39m\u001b[38;5;241m.\u001b[39m_indicator_pre_merge(\u001b[38;5;28mself\u001b[39m\u001b[38;5;241m.\u001b[39mleft, \u001b[38;5;28mself\u001b[39m\u001b[38;5;241m.\u001b[39mright)\n\u001b[0;32m    805\u001b[0m join_index, left_indexer, right_indexer \u001b[38;5;241m=\u001b[39m \u001b[38;5;28mself\u001b[39m\u001b[38;5;241m.\u001b[39m_get_join_info()\n\u001b[1;32m--> 807\u001b[0m result \u001b[38;5;241m=\u001b[39m \u001b[38;5;28;43mself\u001b[39;49m\u001b[38;5;241;43m.\u001b[39;49m\u001b[43m_reindex_and_concat\u001b[49m\u001b[43m(\u001b[49m\n\u001b[0;32m    808\u001b[0m \u001b[43m    \u001b[49m\u001b[43mjoin_index\u001b[49m\u001b[43m,\u001b[49m\u001b[43m \u001b[49m\u001b[43mleft_indexer\u001b[49m\u001b[43m,\u001b[49m\u001b[43m \u001b[49m\u001b[43mright_indexer\u001b[49m\u001b[43m,\u001b[49m\u001b[43m \u001b[49m\u001b[43mcopy\u001b[49m\u001b[38;5;241;43m=\u001b[39;49m\u001b[43mcopy\u001b[49m\n\u001b[0;32m    809\u001b[0m \u001b[43m\u001b[49m\u001b[43m)\u001b[49m\n\u001b[0;32m    810\u001b[0m result \u001b[38;5;241m=\u001b[39m result\u001b[38;5;241m.\u001b[39m__finalize__(\u001b[38;5;28mself\u001b[39m, method\u001b[38;5;241m=\u001b[39m\u001b[38;5;28mself\u001b[39m\u001b[38;5;241m.\u001b[39m_merge_type)\n\u001b[0;32m    812\u001b[0m \u001b[38;5;28;01mif\u001b[39;00m \u001b[38;5;28mself\u001b[39m\u001b[38;5;241m.\u001b[39mindicator:\n",
      "File \u001b[1;32mD:\\hh-ds-24-07\\tasks\\capstone-project\\ds-capstone-recommendation-service-movies\\.venv\\Lib\\site-packages\\pandas\\core\\reshape\\merge.py:759\u001b[0m, in \u001b[0;36m_MergeOperation._reindex_and_concat\u001b[1;34m(self, join_index, left_indexer, right_indexer, copy)\u001b[0m\n\u001b[0;32m    756\u001b[0m left \u001b[38;5;241m=\u001b[39m \u001b[38;5;28mself\u001b[39m\u001b[38;5;241m.\u001b[39mleft[:]\n\u001b[0;32m    757\u001b[0m right \u001b[38;5;241m=\u001b[39m \u001b[38;5;28mself\u001b[39m\u001b[38;5;241m.\u001b[39mright[:]\n\u001b[1;32m--> 759\u001b[0m llabels, rlabels \u001b[38;5;241m=\u001b[39m \u001b[43m_items_overlap_with_suffix\u001b[49m\u001b[43m(\u001b[49m\n\u001b[0;32m    760\u001b[0m \u001b[43m    \u001b[49m\u001b[38;5;28;43mself\u001b[39;49m\u001b[38;5;241;43m.\u001b[39;49m\u001b[43mleft\u001b[49m\u001b[38;5;241;43m.\u001b[39;49m\u001b[43m_info_axis\u001b[49m\u001b[43m,\u001b[49m\u001b[43m \u001b[49m\u001b[38;5;28;43mself\u001b[39;49m\u001b[38;5;241;43m.\u001b[39;49m\u001b[43mright\u001b[49m\u001b[38;5;241;43m.\u001b[39;49m\u001b[43m_info_axis\u001b[49m\u001b[43m,\u001b[49m\u001b[43m \u001b[49m\u001b[38;5;28;43mself\u001b[39;49m\u001b[38;5;241;43m.\u001b[39;49m\u001b[43msuffixes\u001b[49m\n\u001b[0;32m    761\u001b[0m \u001b[43m\u001b[49m\u001b[43m)\u001b[49m\n\u001b[0;32m    763\u001b[0m \u001b[38;5;28;01mif\u001b[39;00m left_indexer \u001b[38;5;129;01mis\u001b[39;00m \u001b[38;5;129;01mnot\u001b[39;00m \u001b[38;5;28;01mNone\u001b[39;00m \u001b[38;5;129;01mand\u001b[39;00m \u001b[38;5;129;01mnot\u001b[39;00m is_range_indexer(left_indexer, \u001b[38;5;28mlen\u001b[39m(left)):\n\u001b[0;32m    764\u001b[0m     \u001b[38;5;66;03m# Pinning the index here (and in the right code just below) is not\u001b[39;00m\n\u001b[0;32m    765\u001b[0m     \u001b[38;5;66;03m#  necessary, but makes the `.take` more performant if we have e.g.\u001b[39;00m\n\u001b[0;32m    766\u001b[0m     \u001b[38;5;66;03m#  a MultiIndex for left.index.\u001b[39;00m\n\u001b[0;32m    767\u001b[0m     lmgr \u001b[38;5;241m=\u001b[39m left\u001b[38;5;241m.\u001b[39m_mgr\u001b[38;5;241m.\u001b[39mreindex_indexer(\n\u001b[0;32m    768\u001b[0m         join_index,\n\u001b[0;32m    769\u001b[0m         left_indexer,\n\u001b[1;32m   (...)\u001b[0m\n\u001b[0;32m    774\u001b[0m         use_na_proxy\u001b[38;5;241m=\u001b[39m\u001b[38;5;28;01mTrue\u001b[39;00m,\n\u001b[0;32m    775\u001b[0m     )\n",
      "File \u001b[1;32mD:\\hh-ds-24-07\\tasks\\capstone-project\\ds-capstone-recommendation-service-movies\\.venv\\Lib\\site-packages\\pandas\\core\\reshape\\merge.py:2572\u001b[0m, in \u001b[0;36m_items_overlap_with_suffix\u001b[1;34m(left, right, suffixes)\u001b[0m\n\u001b[0;32m   2569\u001b[0m lsuffix, rsuffix \u001b[38;5;241m=\u001b[39m suffixes\n\u001b[0;32m   2571\u001b[0m \u001b[38;5;28;01mif\u001b[39;00m \u001b[38;5;129;01mnot\u001b[39;00m lsuffix \u001b[38;5;129;01mand\u001b[39;00m \u001b[38;5;129;01mnot\u001b[39;00m rsuffix:\n\u001b[1;32m-> 2572\u001b[0m     \u001b[38;5;28;01mraise\u001b[39;00m \u001b[38;5;167;01mValueError\u001b[39;00m(\u001b[38;5;124mf\u001b[39m\u001b[38;5;124m\"\u001b[39m\u001b[38;5;124mcolumns overlap but no suffix specified: \u001b[39m\u001b[38;5;132;01m{\u001b[39;00mto_rename\u001b[38;5;132;01m}\u001b[39;00m\u001b[38;5;124m\"\u001b[39m)\n\u001b[0;32m   2574\u001b[0m \u001b[38;5;28;01mdef\u001b[39;00m \u001b[38;5;21mrenamer\u001b[39m(x, suffix):\n\u001b[0;32m   2575\u001b[0m \u001b[38;5;250m    \u001b[39m\u001b[38;5;124;03m\"\"\"\u001b[39;00m\n\u001b[0;32m   2576\u001b[0m \u001b[38;5;124;03m    Rename the left and right indices.\u001b[39;00m\n\u001b[0;32m   2577\u001b[0m \n\u001b[1;32m   (...)\u001b[0m\n\u001b[0;32m   2588\u001b[0m \u001b[38;5;124;03m    x : renamed column name\u001b[39;00m\n\u001b[0;32m   2589\u001b[0m \u001b[38;5;124;03m    \"\"\"\u001b[39;00m\n",
      "\u001b[1;31mValueError\u001b[0m: columns overlap but no suffix specified: Index(['movieId'], dtype='object')"
     ]
    }
   ],
   "source": [
    "# # here we join the tables based on the similar column shared by all\n",
    "# df_ml_32m = df_ml_32m_links.join(df_ml_32m_movies, on=['movieId'])\n",
    "# # \\\n",
    "# # .join(df_ml_32m_tags, on='movieId', how='left').join(df_ml_32m_rating, on='movieId', how='left')"
   ]
  },
  {
   "cell_type": "code",
   "execution_count": null,
   "id": "2a9c4615-5bde-4b34-a39b-c442ebd1ac44",
   "metadata": {},
   "outputs": [],
   "source": []
  },
  {
   "cell_type": "code",
   "execution_count": null,
   "id": "dfc269a4-2659-4760-b3f8-9f98eb6f7887",
   "metadata": {},
   "outputs": [],
   "source": []
  },
  {
   "cell_type": "code",
   "execution_count": null,
   "id": "e1f7c687-5c85-4200-a55c-042c5d6486f0",
   "metadata": {},
   "outputs": [],
   "source": []
  },
  {
   "cell_type": "code",
   "execution_count": null,
   "id": "9eb2ebce-6acf-41ec-be4a-8bc6a958a26f",
   "metadata": {},
   "outputs": [],
   "source": []
  },
  {
   "cell_type": "code",
   "execution_count": null,
   "id": "4e309e6b-948e-44c1-b914-6290cb8979f9",
   "metadata": {},
   "outputs": [],
   "source": []
  },
  {
   "cell_type": "code",
   "execution_count": null,
   "id": "bb6944c9-0e0f-4c7a-8579-d48494221fb3",
   "metadata": {},
   "outputs": [],
   "source": []
  }
 ],
 "metadata": {
  "kernelspec": {
   "display_name": "Python 3 (ipykernel)",
   "language": "python",
   "name": "python3"
  },
  "language_info": {
   "codemirror_mode": {
    "name": "ipython",
    "version": 3
   },
   "file_extension": ".py",
   "mimetype": "text/x-python",
   "name": "python",
   "nbconvert_exporter": "python",
   "pygments_lexer": "ipython3",
   "version": "3.11.3"
  }
 },
 "nbformat": 4,
 "nbformat_minor": 5
}
